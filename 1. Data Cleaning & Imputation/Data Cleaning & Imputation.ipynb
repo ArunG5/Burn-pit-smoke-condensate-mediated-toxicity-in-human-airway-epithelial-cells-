{
 "cells": [
  {
   "cell_type": "code",
   "execution_count": 1,
   "id": "98eb429f",
   "metadata": {},
   "outputs": [
    {
     "name": "stderr",
     "output_type": "stream",
     "text": [
      "── \u001b[1mAttaching packages\u001b[22m ─────────────────────────────────────── tidyverse 1.3.2 ──\n",
      "\u001b[32m✔\u001b[39m \u001b[34mggplot2\u001b[39m 3.4.0      \u001b[32m✔\u001b[39m \u001b[34mpurrr  \u001b[39m 0.3.4 \n",
      "\u001b[32m✔\u001b[39m \u001b[34mtibble \u001b[39m 3.1.8      \u001b[32m✔\u001b[39m \u001b[34mdplyr  \u001b[39m 1.0.10\n",
      "\u001b[32m✔\u001b[39m \u001b[34mtidyr  \u001b[39m 1.2.1      \u001b[32m✔\u001b[39m \u001b[34mstringr\u001b[39m 1.4.1 \n",
      "\u001b[32m✔\u001b[39m \u001b[34mreadr  \u001b[39m 2.1.2      \u001b[32m✔\u001b[39m \u001b[34mforcats\u001b[39m 0.5.2 \n",
      "── \u001b[1mConflicts\u001b[22m ────────────────────────────────────────── tidyverse_conflicts() ──\n",
      "\u001b[31m✖\u001b[39m \u001b[34mdplyr\u001b[39m::\u001b[32mfilter()\u001b[39m masks \u001b[34mstats\u001b[39m::filter()\n",
      "\u001b[31m✖\u001b[39m \u001b[34mdplyr\u001b[39m::\u001b[32mlag()\u001b[39m    masks \u001b[34mstats\u001b[39m::lag()\n",
      "\n",
      "Attaching package: ‘reshape2’\n",
      "\n",
      "\n",
      "The following object is masked from ‘package:tidyr’:\n",
      "\n",
      "    smiths\n",
      "\n",
      "\n",
      "Loading required package: tmvtnorm\n",
      "\n",
      "Loading required package: mvtnorm\n",
      "\n",
      "Loading required package: Matrix\n",
      "\n",
      "\n",
      "Attaching package: ‘Matrix’\n",
      "\n",
      "\n",
      "The following objects are masked from ‘package:tidyr’:\n",
      "\n",
      "    expand, pack, unpack\n",
      "\n",
      "\n",
      "Loading required package: stats4\n",
      "\n",
      "Loading required package: gmm\n",
      "\n",
      "Loading required package: sandwich\n",
      "\n",
      "Loading required package: norm\n",
      "\n",
      "This package has some major limitations\n",
      "(for example, it does not work reliably when\n",
      "the number of variables exceeds 30),\n",
      "and has been superseded by the norm2 package.\n",
      "\n",
      "Loading required package: pcaMethods\n",
      "\n",
      "Loading required package: Biobase\n",
      "\n",
      "Loading required package: BiocGenerics\n",
      "\n",
      "\n",
      "Attaching package: ‘BiocGenerics’\n",
      "\n",
      "\n",
      "The following objects are masked from ‘package:dplyr’:\n",
      "\n",
      "    combine, intersect, setdiff, union\n",
      "\n",
      "\n",
      "The following objects are masked from ‘package:stats’:\n",
      "\n",
      "    IQR, mad, sd, var, xtabs\n",
      "\n",
      "\n",
      "The following objects are masked from ‘package:base’:\n",
      "\n",
      "    Filter, Find, Map, Position, Reduce, anyDuplicated, append,\n",
      "    as.data.frame, basename, cbind, colnames, dirname, do.call,\n",
      "    duplicated, eval, evalq, get, grep, grepl, intersect, is.unsorted,\n",
      "    lapply, mapply, match, mget, order, paste, pmax, pmax.int, pmin,\n",
      "    pmin.int, rank, rbind, rownames, sapply, setdiff, sort, table,\n",
      "    tapply, union, unique, unsplit, which.max, which.min\n",
      "\n",
      "\n",
      "Welcome to Bioconductor\n",
      "\n",
      "    Vignettes contain introductory material; view with\n",
      "    'browseVignettes()'. To cite Bioconductor, see\n",
      "    'citation(\"Biobase\")', and for packages 'citation(\"pkgname\")'.\n",
      "\n",
      "\n",
      "\n",
      "Attaching package: ‘pcaMethods’\n",
      "\n",
      "\n",
      "The following object is masked from ‘package:stats’:\n",
      "\n",
      "    loadings\n",
      "\n",
      "\n",
      "Loading required package: impute\n",
      "\n"
     ]
    }
   ],
   "source": [
    "Output = ('/Users/alexis/Library/CloudStorage/OneDrive-UniversityofNorthCarolinaatChapelHill/CEMALB_DataAnalysisPM/Projects/P1011. Emission Mixtures/P1011.3. Analyses/P1011.3.1. Data Cleaning & Imputation/Output')\n",
    "cur_date = \"042623\"\n",
    "\n",
    "library(readxl)\n",
    "library(tidyverse)\n",
    "library(reshape2)\n",
    "library(imputeLCMD)\n",
    "\n",
    "# reading in files\n",
    "mRNA_df = data.frame(read_excel(\"Input/mRNA_Data_041423.xlsx\", sheet = 2))"
   ]
  },
  {
   "cell_type": "code",
   "execution_count": 2,
   "id": "e3981b95",
   "metadata": {},
   "outputs": [
    {
     "data": {
      "text/html": [
       "<table class=\"dataframe\">\n",
       "<caption>A data.frame: 6 × 9</caption>\n",
       "<thead>\n",
       "\t<tr><th></th><th scope=col>Subject_No</th><th scope=col>Subject_ID</th><th scope=col>mRNA</th><th scope=col>Condensate</th><th scope=col>Burn_Condition</th><th scope=col>Concentration</th><th scope=col>Time_Point</th><th scope=col>ddCT</th><th scope=col>ddCT_pslog2</th></tr>\n",
       "\t<tr><th></th><th scope=col>&lt;dbl&gt;</th><th scope=col>&lt;chr&gt;</th><th scope=col>&lt;chr&gt;</th><th scope=col>&lt;chr&gt;</th><th scope=col>&lt;chr&gt;</th><th scope=col>&lt;chr&gt;</th><th scope=col>&lt;dbl&gt;</th><th scope=col>&lt;dbl&gt;</th><th scope=col>&lt;dbl&gt;</th></tr>\n",
       "</thead>\n",
       "<tbody>\n",
       "\t<tr><th scope=row>1</th><td>1</td><td>F_1</td><td>ALDH1A3</td><td>C</td><td>F</td><td>1</td><td>24</td><td>-6.6824749</td><td>4.480105</td></tr>\n",
       "\t<tr><th scope=row>2</th><td>2</td><td>M_2</td><td>ALDH1A3</td><td>C</td><td>F</td><td>1</td><td>24</td><td> 0.2560009</td><td>4.870661</td></tr>\n",
       "\t<tr><th scope=row>3</th><td>3</td><td>M_3</td><td>ALDH1A3</td><td>C</td><td>F</td><td>1</td><td>24</td><td> 0.4318636</td><td>4.879307</td></tr>\n",
       "\t<tr><th scope=row>4</th><td>4</td><td>F_4</td><td>ALDH1A3</td><td>C</td><td>F</td><td>1</td><td>24</td><td> 0.4193253</td><td>4.878692</td></tr>\n",
       "\t<tr><th scope=row>5</th><td>6</td><td>M_6</td><td>ALDH1A3</td><td>C</td><td>F</td><td>1</td><td>24</td><td>-0.1550695</td><td>4.850246</td></tr>\n",
       "\t<tr><th scope=row>6</th><td>1</td><td>F_1</td><td>ALDH1A3</td><td>C</td><td>F</td><td>1</td><td>72</td><td>-0.2119125</td><td>4.847400</td></tr>\n",
       "</tbody>\n",
       "</table>\n"
      ],
      "text/latex": [
       "A data.frame: 6 × 9\n",
       "\\begin{tabular}{r|lllllllll}\n",
       "  & Subject\\_No & Subject\\_ID & mRNA & Condensate & Burn\\_Condition & Concentration & Time\\_Point & ddCT & ddCT\\_pslog2\\\\\n",
       "  & <dbl> & <chr> & <chr> & <chr> & <chr> & <chr> & <dbl> & <dbl> & <dbl>\\\\\n",
       "\\hline\n",
       "\t1 & 1 & F\\_1 & ALDH1A3 & C & F & 1 & 24 & -6.6824749 & 4.480105\\\\\n",
       "\t2 & 2 & M\\_2 & ALDH1A3 & C & F & 1 & 24 &  0.2560009 & 4.870661\\\\\n",
       "\t3 & 3 & M\\_3 & ALDH1A3 & C & F & 1 & 24 &  0.4318636 & 4.879307\\\\\n",
       "\t4 & 4 & F\\_4 & ALDH1A3 & C & F & 1 & 24 &  0.4193253 & 4.878692\\\\\n",
       "\t5 & 6 & M\\_6 & ALDH1A3 & C & F & 1 & 24 & -0.1550695 & 4.850246\\\\\n",
       "\t6 & 1 & F\\_1 & ALDH1A3 & C & F & 1 & 72 & -0.2119125 & 4.847400\\\\\n",
       "\\end{tabular}\n"
      ],
      "text/markdown": [
       "\n",
       "A data.frame: 6 × 9\n",
       "\n",
       "| <!--/--> | Subject_No &lt;dbl&gt; | Subject_ID &lt;chr&gt; | mRNA &lt;chr&gt; | Condensate &lt;chr&gt; | Burn_Condition &lt;chr&gt; | Concentration &lt;chr&gt; | Time_Point &lt;dbl&gt; | ddCT &lt;dbl&gt; | ddCT_pslog2 &lt;dbl&gt; |\n",
       "|---|---|---|---|---|---|---|---|---|---|\n",
       "| 1 | 1 | F_1 | ALDH1A3 | C | F | 1 | 24 | -6.6824749 | 4.480105 |\n",
       "| 2 | 2 | M_2 | ALDH1A3 | C | F | 1 | 24 |  0.2560009 | 4.870661 |\n",
       "| 3 | 3 | M_3 | ALDH1A3 | C | F | 1 | 24 |  0.4318636 | 4.879307 |\n",
       "| 4 | 4 | F_4 | ALDH1A3 | C | F | 1 | 24 |  0.4193253 | 4.878692 |\n",
       "| 5 | 6 | M_6 | ALDH1A3 | C | F | 1 | 24 | -0.1550695 | 4.850246 |\n",
       "| 6 | 1 | F_1 | ALDH1A3 | C | F | 1 | 72 | -0.2119125 | 4.847400 |\n",
       "\n"
      ],
      "text/plain": [
       "  Subject_No Subject_ID mRNA    Condensate Burn_Condition Concentration\n",
       "1 1          F_1        ALDH1A3 C          F              1            \n",
       "2 2          M_2        ALDH1A3 C          F              1            \n",
       "3 3          M_3        ALDH1A3 C          F              1            \n",
       "4 4          F_4        ALDH1A3 C          F              1            \n",
       "5 6          M_6        ALDH1A3 C          F              1            \n",
       "6 1          F_1        ALDH1A3 C          F              1            \n",
       "  Time_Point ddCT       ddCT_pslog2\n",
       "1 24         -6.6824749 4.480105   \n",
       "2 24          0.2560009 4.870661   \n",
       "3 24          0.4318636 4.879307   \n",
       "4 24          0.4193253 4.878692   \n",
       "5 24         -0.1550695 4.850246   \n",
       "6 72         -0.2119125 4.847400   "
      ]
     },
     "metadata": {},
     "output_type": "display_data"
    }
   ],
   "source": [
    "head(mRNA_df)"
   ]
  },
  {
   "cell_type": "markdown",
   "id": "2992e7ae",
   "metadata": {},
   "source": [
    "Identifying the number of replicates for each sample condition."
   ]
  },
  {
   "cell_type": "code",
   "execution_count": 3,
   "id": "5bb40eff",
   "metadata": {},
   "outputs": [
    {
     "data": {
      "text/html": [
       "<table class=\"dataframe\">\n",
       "<caption>A grouped_df: 6 × 10</caption>\n",
       "<thead>\n",
       "\t<tr><th scope=col>Subject_No</th><th scope=col>Subject_ID</th><th scope=col>mRNA</th><th scope=col>Condensate</th><th scope=col>Burn_Condition</th><th scope=col>Concentration</th><th scope=col>Time_Point</th><th scope=col>ddCT</th><th scope=col>ddCT_pslog2</th><th scope=col>Duplicate_Count</th></tr>\n",
       "\t<tr><th scope=col>&lt;dbl&gt;</th><th scope=col>&lt;chr&gt;</th><th scope=col>&lt;chr&gt;</th><th scope=col>&lt;chr&gt;</th><th scope=col>&lt;chr&gt;</th><th scope=col>&lt;chr&gt;</th><th scope=col>&lt;dbl&gt;</th><th scope=col>&lt;dbl&gt;</th><th scope=col>&lt;dbl&gt;</th><th scope=col>&lt;int&gt;</th></tr>\n",
       "</thead>\n",
       "<tbody>\n",
       "\t<tr><td>6</td><td>M_6</td><td>HMOX1</td><td>PBS</td><td>PBS</td><td>NA</td><td>24</td><td> 0.70848207</td><td>4.892803</td><td>6</td></tr>\n",
       "\t<tr><td>6</td><td>M_6</td><td>HMOX1</td><td>PBS</td><td>PBS</td><td>NA</td><td>24</td><td> 0.36651641</td><td>4.876100</td><td>6</td></tr>\n",
       "\t<tr><td>6</td><td>M_6</td><td>HMOX1</td><td>PBS</td><td>PBS</td><td>NA</td><td>24</td><td>-0.09090465</td><td>4.853452</td><td>6</td></tr>\n",
       "\t<tr><td>6</td><td>M_6</td><td>HMOX1</td><td>PBS</td><td>PBS</td><td>NA</td><td>24</td><td>-0.37654696</td><td>4.839126</td><td>6</td></tr>\n",
       "\t<tr><td>6</td><td>M_6</td><td>HMOX1</td><td>PBS</td><td>PBS</td><td>NA</td><td>24</td><td> 0.72283828</td><td>4.893500</td><td>6</td></tr>\n",
       "\t<tr><td>6</td><td>M_6</td><td>HMOX1</td><td>PBS</td><td>PBS</td><td>NA</td><td>24</td><td> 0.37135970</td><td>4.876338</td><td>6</td></tr>\n",
       "</tbody>\n",
       "</table>\n"
      ],
      "text/latex": [
       "A grouped\\_df: 6 × 10\n",
       "\\begin{tabular}{llllllllll}\n",
       " Subject\\_No & Subject\\_ID & mRNA & Condensate & Burn\\_Condition & Concentration & Time\\_Point & ddCT & ddCT\\_pslog2 & Duplicate\\_Count\\\\\n",
       " <dbl> & <chr> & <chr> & <chr> & <chr> & <chr> & <dbl> & <dbl> & <dbl> & <int>\\\\\n",
       "\\hline\n",
       "\t 6 & M\\_6 & HMOX1 & PBS & PBS & NA & 24 &  0.70848207 & 4.892803 & 6\\\\\n",
       "\t 6 & M\\_6 & HMOX1 & PBS & PBS & NA & 24 &  0.36651641 & 4.876100 & 6\\\\\n",
       "\t 6 & M\\_6 & HMOX1 & PBS & PBS & NA & 24 & -0.09090465 & 4.853452 & 6\\\\\n",
       "\t 6 & M\\_6 & HMOX1 & PBS & PBS & NA & 24 & -0.37654696 & 4.839126 & 6\\\\\n",
       "\t 6 & M\\_6 & HMOX1 & PBS & PBS & NA & 24 &  0.72283828 & 4.893500 & 6\\\\\n",
       "\t 6 & M\\_6 & HMOX1 & PBS & PBS & NA & 24 &  0.37135970 & 4.876338 & 6\\\\\n",
       "\\end{tabular}\n"
      ],
      "text/markdown": [
       "\n",
       "A grouped_df: 6 × 10\n",
       "\n",
       "| Subject_No &lt;dbl&gt; | Subject_ID &lt;chr&gt; | mRNA &lt;chr&gt; | Condensate &lt;chr&gt; | Burn_Condition &lt;chr&gt; | Concentration &lt;chr&gt; | Time_Point &lt;dbl&gt; | ddCT &lt;dbl&gt; | ddCT_pslog2 &lt;dbl&gt; | Duplicate_Count &lt;int&gt; |\n",
       "|---|---|---|---|---|---|---|---|---|---|\n",
       "| 6 | M_6 | HMOX1 | PBS | PBS | NA | 24 |  0.70848207 | 4.892803 | 6 |\n",
       "| 6 | M_6 | HMOX1 | PBS | PBS | NA | 24 |  0.36651641 | 4.876100 | 6 |\n",
       "| 6 | M_6 | HMOX1 | PBS | PBS | NA | 24 | -0.09090465 | 4.853452 | 6 |\n",
       "| 6 | M_6 | HMOX1 | PBS | PBS | NA | 24 | -0.37654696 | 4.839126 | 6 |\n",
       "| 6 | M_6 | HMOX1 | PBS | PBS | NA | 24 |  0.72283828 | 4.893500 | 6 |\n",
       "| 6 | M_6 | HMOX1 | PBS | PBS | NA | 24 |  0.37135970 | 4.876338 | 6 |\n",
       "\n"
      ],
      "text/plain": [
       "  Subject_No Subject_ID mRNA  Condensate Burn_Condition Concentration\n",
       "1 6          M_6        HMOX1 PBS        PBS            NA           \n",
       "2 6          M_6        HMOX1 PBS        PBS            NA           \n",
       "3 6          M_6        HMOX1 PBS        PBS            NA           \n",
       "4 6          M_6        HMOX1 PBS        PBS            NA           \n",
       "5 6          M_6        HMOX1 PBS        PBS            NA           \n",
       "6 6          M_6        HMOX1 PBS        PBS            NA           \n",
       "  Time_Point ddCT        ddCT_pslog2 Duplicate_Count\n",
       "1 24          0.70848207 4.892803    6              \n",
       "2 24          0.36651641 4.876100    6              \n",
       "3 24         -0.09090465 4.853452    6              \n",
       "4 24         -0.37654696 4.839126    6              \n",
       "5 24          0.72283828 4.893500    6              \n",
       "6 24          0.37135970 4.876338    6              "
      ]
     },
     "metadata": {},
     "output_type": "display_data"
    }
   ],
   "source": [
    "count_mRNA_df = mRNA_df %>%\n",
    "    group_by(mRNA, Subject_ID, Condensate, Burn_Condition, Concentration, Time_Point) %>%\n",
    "    mutate(Duplicate_Count = n()) %>% \n",
    "    arrange(-Duplicate_Count, mRNA, Subject_No, Condensate, Burn_Condition, Concentration, Time_Point) \n",
    "\n",
    "head(count_mRNA_df)"
   ]
  },
  {
   "cell_type": "code",
   "execution_count": 4,
   "id": "3f079a1f",
   "metadata": {},
   "outputs": [
    {
     "data": {
      "text/html": [
       "<table class=\"dataframe\">\n",
       "<caption>A grouped_df: 6 × 2</caption>\n",
       "<thead>\n",
       "\t<tr><th scope=col>Duplicate_Count</th><th scope=col>n</th></tr>\n",
       "\t<tr><th scope=col>&lt;int&gt;</th><th scope=col>&lt;int&gt;</th></tr>\n",
       "</thead>\n",
       "<tbody>\n",
       "\t<tr><td>6</td><td>   6</td></tr>\n",
       "\t<tr><td>5</td><td>  80</td></tr>\n",
       "\t<tr><td>4</td><td> 328</td></tr>\n",
       "\t<tr><td>3</td><td>  96</td></tr>\n",
       "\t<tr><td>2</td><td>1340</td></tr>\n",
       "\t<tr><td>1</td><td>2361</td></tr>\n",
       "</tbody>\n",
       "</table>\n"
      ],
      "text/latex": [
       "A grouped\\_df: 6 × 2\n",
       "\\begin{tabular}{ll}\n",
       " Duplicate\\_Count & n\\\\\n",
       " <int> & <int>\\\\\n",
       "\\hline\n",
       "\t 6 &    6\\\\\n",
       "\t 5 &   80\\\\\n",
       "\t 4 &  328\\\\\n",
       "\t 3 &   96\\\\\n",
       "\t 2 & 1340\\\\\n",
       "\t 1 & 2361\\\\\n",
       "\\end{tabular}\n"
      ],
      "text/markdown": [
       "\n",
       "A grouped_df: 6 × 2\n",
       "\n",
       "| Duplicate_Count &lt;int&gt; | n &lt;int&gt; |\n",
       "|---|---|\n",
       "| 6 |    6 |\n",
       "| 5 |   80 |\n",
       "| 4 |  328 |\n",
       "| 3 |   96 |\n",
       "| 2 | 1340 |\n",
       "| 1 | 2361 |\n",
       "\n"
      ],
      "text/plain": [
       "  Duplicate_Count n   \n",
       "1 6                  6\n",
       "2 5                 80\n",
       "3 4                328\n",
       "4 3                 96\n",
       "5 2               1340\n",
       "6 1               2361"
      ]
     },
     "metadata": {},
     "output_type": "display_data"
    }
   ],
   "source": [
    "replicate_count_df = count_mRNA_df %>%\n",
    "    group_by(Duplicate_Count) %>%\n",
    "    count() %>%\n",
    "    arrange(-Duplicate_Count) \n",
    "\n",
    "replicate_count_df"
   ]
  },
  {
   "cell_type": "code",
   "execution_count": 5,
   "id": "c36c470a",
   "metadata": {},
   "outputs": [
    {
     "data": {
      "text/html": [
       "<table class=\"dataframe\">\n",
       "<caption>A grouped_df: 6 × 10</caption>\n",
       "<thead>\n",
       "\t<tr><th scope=col>Subject_No</th><th scope=col>Subject_ID</th><th scope=col>mRNA</th><th scope=col>Condensate</th><th scope=col>Burn_Condition</th><th scope=col>Concentration</th><th scope=col>Time_Point</th><th scope=col>ddCT</th><th scope=col>ddCT_pslog2</th><th scope=col>Replicate</th></tr>\n",
       "\t<tr><th scope=col>&lt;dbl&gt;</th><th scope=col>&lt;chr&gt;</th><th scope=col>&lt;chr&gt;</th><th scope=col>&lt;chr&gt;</th><th scope=col>&lt;chr&gt;</th><th scope=col>&lt;chr&gt;</th><th scope=col>&lt;dbl&gt;</th><th scope=col>&lt;dbl&gt;</th><th scope=col>&lt;dbl&gt;</th><th scope=col>&lt;int&gt;</th></tr>\n",
       "</thead>\n",
       "<tbody>\n",
       "\t<tr><td>6</td><td>M_6</td><td>HMOX1</td><td>PBS</td><td>PBS</td><td>NA</td><td>24</td><td> 0.70848207</td><td>4.892803</td><td>1</td></tr>\n",
       "\t<tr><td>6</td><td>M_6</td><td>HMOX1</td><td>PBS</td><td>PBS</td><td>NA</td><td>24</td><td> 0.36651641</td><td>4.876100</td><td>2</td></tr>\n",
       "\t<tr><td>6</td><td>M_6</td><td>HMOX1</td><td>PBS</td><td>PBS</td><td>NA</td><td>24</td><td>-0.09090465</td><td>4.853452</td><td>3</td></tr>\n",
       "\t<tr><td>6</td><td>M_6</td><td>HMOX1</td><td>PBS</td><td>PBS</td><td>NA</td><td>24</td><td>-0.37654696</td><td>4.839126</td><td>4</td></tr>\n",
       "\t<tr><td>6</td><td>M_6</td><td>HMOX1</td><td>PBS</td><td>PBS</td><td>NA</td><td>24</td><td> 0.72283828</td><td>4.893500</td><td>5</td></tr>\n",
       "\t<tr><td>6</td><td>M_6</td><td>HMOX1</td><td>PBS</td><td>PBS</td><td>NA</td><td>24</td><td> 0.37135970</td><td>4.876338</td><td>6</td></tr>\n",
       "</tbody>\n",
       "</table>\n"
      ],
      "text/latex": [
       "A grouped\\_df: 6 × 10\n",
       "\\begin{tabular}{llllllllll}\n",
       " Subject\\_No & Subject\\_ID & mRNA & Condensate & Burn\\_Condition & Concentration & Time\\_Point & ddCT & ddCT\\_pslog2 & Replicate\\\\\n",
       " <dbl> & <chr> & <chr> & <chr> & <chr> & <chr> & <dbl> & <dbl> & <dbl> & <int>\\\\\n",
       "\\hline\n",
       "\t 6 & M\\_6 & HMOX1 & PBS & PBS & NA & 24 &  0.70848207 & 4.892803 & 1\\\\\n",
       "\t 6 & M\\_6 & HMOX1 & PBS & PBS & NA & 24 &  0.36651641 & 4.876100 & 2\\\\\n",
       "\t 6 & M\\_6 & HMOX1 & PBS & PBS & NA & 24 & -0.09090465 & 4.853452 & 3\\\\\n",
       "\t 6 & M\\_6 & HMOX1 & PBS & PBS & NA & 24 & -0.37654696 & 4.839126 & 4\\\\\n",
       "\t 6 & M\\_6 & HMOX1 & PBS & PBS & NA & 24 &  0.72283828 & 4.893500 & 5\\\\\n",
       "\t 6 & M\\_6 & HMOX1 & PBS & PBS & NA & 24 &  0.37135970 & 4.876338 & 6\\\\\n",
       "\\end{tabular}\n"
      ],
      "text/markdown": [
       "\n",
       "A grouped_df: 6 × 10\n",
       "\n",
       "| Subject_No &lt;dbl&gt; | Subject_ID &lt;chr&gt; | mRNA &lt;chr&gt; | Condensate &lt;chr&gt; | Burn_Condition &lt;chr&gt; | Concentration &lt;chr&gt; | Time_Point &lt;dbl&gt; | ddCT &lt;dbl&gt; | ddCT_pslog2 &lt;dbl&gt; | Replicate &lt;int&gt; |\n",
       "|---|---|---|---|---|---|---|---|---|---|\n",
       "| 6 | M_6 | HMOX1 | PBS | PBS | NA | 24 |  0.70848207 | 4.892803 | 1 |\n",
       "| 6 | M_6 | HMOX1 | PBS | PBS | NA | 24 |  0.36651641 | 4.876100 | 2 |\n",
       "| 6 | M_6 | HMOX1 | PBS | PBS | NA | 24 | -0.09090465 | 4.853452 | 3 |\n",
       "| 6 | M_6 | HMOX1 | PBS | PBS | NA | 24 | -0.37654696 | 4.839126 | 4 |\n",
       "| 6 | M_6 | HMOX1 | PBS | PBS | NA | 24 |  0.72283828 | 4.893500 | 5 |\n",
       "| 6 | M_6 | HMOX1 | PBS | PBS | NA | 24 |  0.37135970 | 4.876338 | 6 |\n",
       "\n"
      ],
      "text/plain": [
       "  Subject_No Subject_ID mRNA  Condensate Burn_Condition Concentration\n",
       "1 6          M_6        HMOX1 PBS        PBS            NA           \n",
       "2 6          M_6        HMOX1 PBS        PBS            NA           \n",
       "3 6          M_6        HMOX1 PBS        PBS            NA           \n",
       "4 6          M_6        HMOX1 PBS        PBS            NA           \n",
       "5 6          M_6        HMOX1 PBS        PBS            NA           \n",
       "6 6          M_6        HMOX1 PBS        PBS            NA           \n",
       "  Time_Point ddCT        ddCT_pslog2 Replicate\n",
       "1 24          0.70848207 4.892803    1        \n",
       "2 24          0.36651641 4.876100    2        \n",
       "3 24         -0.09090465 4.853452    3        \n",
       "4 24         -0.37654696 4.839126    4        \n",
       "5 24          0.72283828 4.893500    5        \n",
       "6 24          0.37135970 4.876338    6        "
      ]
     },
     "metadata": {},
     "output_type": "display_data"
    }
   ],
   "source": [
    "# creating a new column for the replicate number for each condition\n",
    "replicate_vector = c()\n",
    "for (i in 1:length(replicate_count_df$n)){\n",
    "    # calculating number of times to repeat the replicate number from 1 to the count\n",
    "    replicate_count = replicate_count_df$n[i]/replicate_count_df$Duplicate_Count[i]\n",
    "    replicate_iteration = rep(1:replicate_count_df$Duplicate_Count[i], times = replicate_count)\n",
    "    \n",
    "    # saving iteration\n",
    "    replicate_vector = c(replicate_vector, replicate_iteration)\n",
    "    \n",
    "}\n",
    "\n",
    "# adding to df \n",
    "count_mRNA_df$Replicate = replicate_vector\n",
    "mRNA_df = count_mRNA_df %>%\n",
    "    select(-Duplicate_Count)\n",
    "\n",
    "head(mRNA_df)"
   ]
  },
  {
   "cell_type": "markdown",
   "id": "76d36026",
   "metadata": {},
   "source": [
    "Take the average ddCT to get rid of the replicates."
   ]
  },
  {
   "cell_type": "code",
   "execution_count": 6,
   "id": "596e68ee",
   "metadata": {
    "scrolled": true
   },
   "outputs": [
    {
     "data": {
      "text/html": [
       "<table class=\"dataframe\">\n",
       "<caption>A grouped_df: 6 × 8</caption>\n",
       "<thead>\n",
       "\t<tr><th scope=col>Subject_No</th><th scope=col>Subject_ID</th><th scope=col>mRNA</th><th scope=col>Condensate</th><th scope=col>Burn_Condition</th><th scope=col>Concentration</th><th scope=col>Time_Point</th><th scope=col>Avg_ddCT_pslog2</th></tr>\n",
       "\t<tr><th scope=col>&lt;dbl&gt;</th><th scope=col>&lt;chr&gt;</th><th scope=col>&lt;chr&gt;</th><th scope=col>&lt;chr&gt;</th><th scope=col>&lt;chr&gt;</th><th scope=col>&lt;chr&gt;</th><th scope=col>&lt;dbl&gt;</th><th scope=col>&lt;dbl&gt;</th></tr>\n",
       "</thead>\n",
       "<tbody>\n",
       "\t<tr><td>6</td><td>M_6</td><td>HMOX1  </td><td>PBS</td><td>PBS</td><td>NA</td><td>24</td><td>4.871886</td></tr>\n",
       "\t<tr><td>5</td><td>F_5</td><td>ALDH3A1</td><td>PBS</td><td>PBS</td><td>NA</td><td> 4</td><td>4.878765</td></tr>\n",
       "\t<tr><td>5</td><td>F_5</td><td>CXCL1  </td><td>PBS</td><td>PBS</td><td>NA</td><td> 4</td><td>4.889498</td></tr>\n",
       "\t<tr><td>5</td><td>F_5</td><td>CXCR1  </td><td>PBS</td><td>PBS</td><td>NA</td><td> 4</td><td>4.049213</td></tr>\n",
       "\t<tr><td>5</td><td>F_5</td><td>GCLC   </td><td>PBS</td><td>PBS</td><td>NA</td><td> 4</td><td>4.902343</td></tr>\n",
       "\t<tr><td>5</td><td>F_5</td><td>GCLM   </td><td>PBS</td><td>PBS</td><td>NA</td><td> 4</td><td>4.874560</td></tr>\n",
       "</tbody>\n",
       "</table>\n"
      ],
      "text/latex": [
       "A grouped\\_df: 6 × 8\n",
       "\\begin{tabular}{llllllll}\n",
       " Subject\\_No & Subject\\_ID & mRNA & Condensate & Burn\\_Condition & Concentration & Time\\_Point & Avg\\_ddCT\\_pslog2\\\\\n",
       " <dbl> & <chr> & <chr> & <chr> & <chr> & <chr> & <dbl> & <dbl>\\\\\n",
       "\\hline\n",
       "\t 6 & M\\_6 & HMOX1   & PBS & PBS & NA & 24 & 4.871886\\\\\n",
       "\t 5 & F\\_5 & ALDH3A1 & PBS & PBS & NA &  4 & 4.878765\\\\\n",
       "\t 5 & F\\_5 & CXCL1   & PBS & PBS & NA &  4 & 4.889498\\\\\n",
       "\t 5 & F\\_5 & CXCR1   & PBS & PBS & NA &  4 & 4.049213\\\\\n",
       "\t 5 & F\\_5 & GCLC    & PBS & PBS & NA &  4 & 4.902343\\\\\n",
       "\t 5 & F\\_5 & GCLM    & PBS & PBS & NA &  4 & 4.874560\\\\\n",
       "\\end{tabular}\n"
      ],
      "text/markdown": [
       "\n",
       "A grouped_df: 6 × 8\n",
       "\n",
       "| Subject_No &lt;dbl&gt; | Subject_ID &lt;chr&gt; | mRNA &lt;chr&gt; | Condensate &lt;chr&gt; | Burn_Condition &lt;chr&gt; | Concentration &lt;chr&gt; | Time_Point &lt;dbl&gt; | Avg_ddCT_pslog2 &lt;dbl&gt; |\n",
       "|---|---|---|---|---|---|---|---|\n",
       "| 6 | M_6 | HMOX1   | PBS | PBS | NA | 24 | 4.871886 |\n",
       "| 5 | F_5 | ALDH3A1 | PBS | PBS | NA |  4 | 4.878765 |\n",
       "| 5 | F_5 | CXCL1   | PBS | PBS | NA |  4 | 4.889498 |\n",
       "| 5 | F_5 | CXCR1   | PBS | PBS | NA |  4 | 4.049213 |\n",
       "| 5 | F_5 | GCLC    | PBS | PBS | NA |  4 | 4.902343 |\n",
       "| 5 | F_5 | GCLM    | PBS | PBS | NA |  4 | 4.874560 |\n",
       "\n"
      ],
      "text/plain": [
       "  Subject_No Subject_ID mRNA    Condensate Burn_Condition Concentration\n",
       "1 6          M_6        HMOX1   PBS        PBS            NA           \n",
       "2 5          F_5        ALDH3A1 PBS        PBS            NA           \n",
       "3 5          F_5        CXCL1   PBS        PBS            NA           \n",
       "4 5          F_5        CXCR1   PBS        PBS            NA           \n",
       "5 5          F_5        GCLC    PBS        PBS            NA           \n",
       "6 5          F_5        GCLM    PBS        PBS            NA           \n",
       "  Time_Point Avg_ddCT_pslog2\n",
       "1 24         4.871886       \n",
       "2  4         4.878765       \n",
       "3  4         4.889498       \n",
       "4  4         4.049213       \n",
       "5  4         4.902343       \n",
       "6  4         4.874560       "
      ]
     },
     "metadata": {},
     "output_type": "display_data"
    }
   ],
   "source": [
    "avg_mRNA_df = mRNA_df %>%\n",
    "    group_by(mRNA, Subject_ID, Condensate, Burn_Condition, Concentration, Time_Point) %>%\n",
    "    mutate(Avg_ddCT_pslog2 = mean(ddCT_pslog2)) %>% #, Avg_ddCT = mean(ddCT)) %>%\n",
    "    select(-c(\"Replicate\", \"ddCT_pslog2\", \"ddCT\")) %>%\n",
    "    unique()\n",
    "\n",
    "head(avg_mRNA_df)"
   ]
  },
  {
   "cell_type": "code",
   "execution_count": 7,
   "id": "93bffe0e",
   "metadata": {},
   "outputs": [
    {
     "data": {
      "text/html": [
       "<table class=\"dataframe\">\n",
       "<caption>A tibble: 6 × 7</caption>\n",
       "<thead>\n",
       "\t<tr><th scope=col>Subject_ID</th><th scope=col>mRNA</th><th scope=col>Condensate</th><th scope=col>Burn_Condition</th><th scope=col>Concentration</th><th scope=col>Time_Point</th><th scope=col>Avg_ddCT_pslog2</th></tr>\n",
       "\t<tr><th scope=col>&lt;chr&gt;</th><th scope=col>&lt;chr&gt;</th><th scope=col>&lt;chr&gt;</th><th scope=col>&lt;chr&gt;</th><th scope=col>&lt;chr&gt;</th><th scope=col>&lt;chr&gt;</th><th scope=col>&lt;dbl&gt;</th></tr>\n",
       "</thead>\n",
       "<tbody>\n",
       "\t<tr><td>M_6</td><td>HMOX1</td><td>PBS</td><td>PBS</td><td>NA</td><td>24</td><td>4.871886</td></tr>\n",
       "\t<tr><td>F_5</td><td>HMOX1</td><td>PBS</td><td>PBS</td><td>NA</td><td>24</td><td>      NA</td></tr>\n",
       "\t<tr><td>F_1</td><td>HMOX1</td><td>PBS</td><td>PBS</td><td>NA</td><td>24</td><td>      NA</td></tr>\n",
       "\t<tr><td>M_2</td><td>HMOX1</td><td>PBS</td><td>PBS</td><td>NA</td><td>24</td><td>      NA</td></tr>\n",
       "\t<tr><td>M_3</td><td>HMOX1</td><td>PBS</td><td>PBS</td><td>NA</td><td>24</td><td>      NA</td></tr>\n",
       "\t<tr><td>F_4</td><td>HMOX1</td><td>PBS</td><td>PBS</td><td>NA</td><td>24</td><td>      NA</td></tr>\n",
       "</tbody>\n",
       "</table>\n"
      ],
      "text/latex": [
       "A tibble: 6 × 7\n",
       "\\begin{tabular}{lllllll}\n",
       " Subject\\_ID & mRNA & Condensate & Burn\\_Condition & Concentration & Time\\_Point & Avg\\_ddCT\\_pslog2\\\\\n",
       " <chr> & <chr> & <chr> & <chr> & <chr> & <chr> & <dbl>\\\\\n",
       "\\hline\n",
       "\t M\\_6 & HMOX1 & PBS & PBS & NA & 24 & 4.871886\\\\\n",
       "\t F\\_5 & HMOX1 & PBS & PBS & NA & 24 &       NA\\\\\n",
       "\t F\\_1 & HMOX1 & PBS & PBS & NA & 24 &       NA\\\\\n",
       "\t M\\_2 & HMOX1 & PBS & PBS & NA & 24 &       NA\\\\\n",
       "\t M\\_3 & HMOX1 & PBS & PBS & NA & 24 &       NA\\\\\n",
       "\t F\\_4 & HMOX1 & PBS & PBS & NA & 24 &       NA\\\\\n",
       "\\end{tabular}\n"
      ],
      "text/markdown": [
       "\n",
       "A tibble: 6 × 7\n",
       "\n",
       "| Subject_ID &lt;chr&gt; | mRNA &lt;chr&gt; | Condensate &lt;chr&gt; | Burn_Condition &lt;chr&gt; | Concentration &lt;chr&gt; | Time_Point &lt;chr&gt; | Avg_ddCT_pslog2 &lt;dbl&gt; |\n",
       "|---|---|---|---|---|---|---|\n",
       "| M_6 | HMOX1 | PBS | PBS | NA | 24 | 4.871886 |\n",
       "| F_5 | HMOX1 | PBS | PBS | NA | 24 |       NA |\n",
       "| F_1 | HMOX1 | PBS | PBS | NA | 24 |       NA |\n",
       "| M_2 | HMOX1 | PBS | PBS | NA | 24 |       NA |\n",
       "| M_3 | HMOX1 | PBS | PBS | NA | 24 |       NA |\n",
       "| F_4 | HMOX1 | PBS | PBS | NA | 24 |       NA |\n",
       "\n"
      ],
      "text/plain": [
       "  Subject_ID mRNA  Condensate Burn_Condition Concentration Time_Point\n",
       "1 M_6        HMOX1 PBS        PBS            NA            24        \n",
       "2 F_5        HMOX1 PBS        PBS            NA            24        \n",
       "3 F_1        HMOX1 PBS        PBS            NA            24        \n",
       "4 M_2        HMOX1 PBS        PBS            NA            24        \n",
       "5 M_3        HMOX1 PBS        PBS            NA            24        \n",
       "6 F_4        HMOX1 PBS        PBS            NA            24        \n",
       "  Avg_ddCT_pslog2\n",
       "1 4.871886       \n",
       "2       NA       \n",
       "3       NA       \n",
       "4       NA       \n",
       "5       NA       \n",
       "6       NA       "
      ]
     },
     "metadata": {},
     "output_type": "display_data"
    }
   ],
   "source": [
    "# converting to wide format to get missing values\n",
    "preimputed_df = avg_mRNA_df %>%\n",
    "    select(-Subject_No) %>%\n",
    "    # creating sample ids\n",
    "    unite(\"SampleID\", c(colnames(mRNA_df)[c(3:7)])) %>%\n",
    "    pivot_wider(names_from = \"Subject_ID\", values_from = \"Avg_ddCT_pslog2\") %>%\n",
    "    pivot_longer(cols = 2:7, names_to = \"Subject_ID\", values_to = \"Avg_ddCT_pslog2\") %>%\n",
    "    separate(SampleID, c(\"mRNA\", \"Condensate\", \"Burn_Condition\", \"Concentration\", \"Time_Point\")) #%>%\n",
    "    # adding a column for ????\n",
    "    #mutate(new = 2^(-Avg_ddCT))\n",
    "\n",
    "\n",
    "preimputed_df = preimputed_df[,c(6,1:5,7)]\n",
    "head(preimputed_df)"
   ]
  },
  {
   "cell_type": "markdown",
   "id": "6d783aef",
   "metadata": {},
   "source": [
    "# QRILC Imputation"
   ]
  },
  {
   "cell_type": "code",
   "execution_count": 8,
   "id": "14155b33",
   "metadata": {},
   "outputs": [
    {
     "name": "stderr",
     "output_type": "stream",
     "text": [
      "Warning message in (function (x) :\n",
      "“NaNs produced”\n"
     ]
    },
    {
     "data": {
      "text/html": [
       "<table class=\"dataframe\">\n",
       "<caption>A tibble: 6 × 7</caption>\n",
       "<thead>\n",
       "\t<tr><th scope=col>Subject_ID</th><th scope=col>Condensate</th><th scope=col>Burn_Condition</th><th scope=col>Concentration</th><th scope=col>Time_Point</th><th scope=col>mRNA</th><th scope=col>ddCT_pslog2</th></tr>\n",
       "\t<tr><th scope=col>&lt;chr&gt;</th><th scope=col>&lt;chr&gt;</th><th scope=col>&lt;chr&gt;</th><th scope=col>&lt;chr&gt;</th><th scope=col>&lt;chr&gt;</th><th scope=col>&lt;chr&gt;</th><th scope=col>&lt;dbl&gt;</th></tr>\n",
       "</thead>\n",
       "<tbody>\n",
       "\t<tr><td>M_6</td><td>PBS</td><td>PBS</td><td>NA</td><td>24</td><td>HMOX1  </td><td>4.871886</td></tr>\n",
       "\t<tr><td>M_6</td><td>PBS</td><td>PBS</td><td>NA</td><td>24</td><td>ALDH3A1</td><td>4.837012</td></tr>\n",
       "\t<tr><td>M_6</td><td>PBS</td><td>PBS</td><td>NA</td><td>24</td><td>CXCL1  </td><td>4.822372</td></tr>\n",
       "\t<tr><td>M_6</td><td>PBS</td><td>PBS</td><td>NA</td><td>24</td><td>CXCR1  </td><td>3.940873</td></tr>\n",
       "\t<tr><td>M_6</td><td>PBS</td><td>PBS</td><td>NA</td><td>24</td><td>GCLC   </td><td>4.863186</td></tr>\n",
       "\t<tr><td>M_6</td><td>PBS</td><td>PBS</td><td>NA</td><td>24</td><td>GCLM   </td><td>4.834127</td></tr>\n",
       "</tbody>\n",
       "</table>\n"
      ],
      "text/latex": [
       "A tibble: 6 × 7\n",
       "\\begin{tabular}{lllllll}\n",
       " Subject\\_ID & Condensate & Burn\\_Condition & Concentration & Time\\_Point & mRNA & ddCT\\_pslog2\\\\\n",
       " <chr> & <chr> & <chr> & <chr> & <chr> & <chr> & <dbl>\\\\\n",
       "\\hline\n",
       "\t M\\_6 & PBS & PBS & NA & 24 & HMOX1   & 4.871886\\\\\n",
       "\t M\\_6 & PBS & PBS & NA & 24 & ALDH3A1 & 4.837012\\\\\n",
       "\t M\\_6 & PBS & PBS & NA & 24 & CXCL1   & 4.822372\\\\\n",
       "\t M\\_6 & PBS & PBS & NA & 24 & CXCR1   & 3.940873\\\\\n",
       "\t M\\_6 & PBS & PBS & NA & 24 & GCLC    & 4.863186\\\\\n",
       "\t M\\_6 & PBS & PBS & NA & 24 & GCLM    & 4.834127\\\\\n",
       "\\end{tabular}\n"
      ],
      "text/markdown": [
       "\n",
       "A tibble: 6 × 7\n",
       "\n",
       "| Subject_ID &lt;chr&gt; | Condensate &lt;chr&gt; | Burn_Condition &lt;chr&gt; | Concentration &lt;chr&gt; | Time_Point &lt;chr&gt; | mRNA &lt;chr&gt; | ddCT_pslog2 &lt;dbl&gt; |\n",
       "|---|---|---|---|---|---|---|\n",
       "| M_6 | PBS | PBS | NA | 24 | HMOX1   | 4.871886 |\n",
       "| M_6 | PBS | PBS | NA | 24 | ALDH3A1 | 4.837012 |\n",
       "| M_6 | PBS | PBS | NA | 24 | CXCL1   | 4.822372 |\n",
       "| M_6 | PBS | PBS | NA | 24 | CXCR1   | 3.940873 |\n",
       "| M_6 | PBS | PBS | NA | 24 | GCLC    | 4.863186 |\n",
       "| M_6 | PBS | PBS | NA | 24 | GCLM    | 4.834127 |\n",
       "\n"
      ],
      "text/plain": [
       "  Subject_ID Condensate Burn_Condition Concentration Time_Point mRNA   \n",
       "1 M_6        PBS        PBS            NA            24         HMOX1  \n",
       "2 M_6        PBS        PBS            NA            24         ALDH3A1\n",
       "3 M_6        PBS        PBS            NA            24         CXCL1  \n",
       "4 M_6        PBS        PBS            NA            24         CXCR1  \n",
       "5 M_6        PBS        PBS            NA            24         GCLC   \n",
       "6 M_6        PBS        PBS            NA            24         GCLM   \n",
       "  ddCT_pslog2\n",
       "1 4.871886   \n",
       "2 4.837012   \n",
       "3 4.822372   \n",
       "4 3.940873   \n",
       "5 4.863186   \n",
       "6 4.834127   "
      ]
     },
     "metadata": {},
     "output_type": "display_data"
    }
   ],
   "source": [
    "# QRILC\n",
    "QRILC_imputation = function(dataset){\n",
    "    # \"\"\"\n",
    "    # Creating a function to generate missing data\n",
    "    # :param (input): df with missing data\n",
    "    # :output: 1 imputed df\n",
    "    # \"\"\"\n",
    "    wider_dataset = dataset %>%\n",
    "        pivot_wider(names_from = mRNA, values_from = Avg_ddCT_pslog2) \n",
    "    \n",
    "    # normalizing data since that's what the QRILC function wants\n",
    "    QRILC_prep = wider_dataset[,6:dim(wider_dataset)[2]] %>%\n",
    "         mutate_all(., function(x) log2(x)) %>%\n",
    "         as.matrix()\n",
    "\n",
    "    imputed_QRILC_object = impute.QRILC(QRILC_prep, tune.sigma = 0.1)\n",
    "    QRILC_log2_df = data.frame(imputed_QRILC_object[1]) \n",
    "    \n",
    "    # converting back the original scale\n",
    "    QRILC_df = QRILC_log2_df %>%\n",
    "        mutate_all(., function(x) 2^x)\n",
    "    \n",
    "    # adding back in ID col\n",
    "    QRILC_df = cbind(wider_dataset[,1:5], QRILC_df)\n",
    "\n",
    "    imputed_dataset = QRILC_df %>%\n",
    "        pivot_longer(cols = 6:all_of(dim(wider_dataset)[2]), names_to = \"mRNA\", values_to = \"ddCT_pslog2\")\n",
    "\n",
    "   return(imputed_dataset)\n",
    "}\n",
    "\n",
    "# calling fn\n",
    "imputed_df = QRILC_imputation(preimputed_df)\n",
    "head(imputed_df)"
   ]
  },
  {
   "cell_type": "code",
   "execution_count": 9,
   "id": "0bc784a7",
   "metadata": {},
   "outputs": [
    {
     "data": {
      "text/html": [
       "<style>\n",
       ".list-inline {list-style: none; margin:0; padding: 0}\n",
       ".list-inline>li {display: inline-block}\n",
       ".list-inline>li:not(:last-child)::after {content: \"\\00b7\"; padding: 0 .5ex}\n",
       "</style>\n",
       "<ol class=list-inline><li>4211</li><li>10</li></ol>\n"
      ],
      "text/latex": [
       "\\begin{enumerate*}\n",
       "\\item 4211\n",
       "\\item 10\n",
       "\\end{enumerate*}\n"
      ],
      "text/markdown": [
       "1. 4211\n",
       "2. 10\n",
       "\n",
       "\n"
      ],
      "text/plain": [
       "[1] 4211   10"
      ]
     },
     "metadata": {},
     "output_type": "display_data"
    },
    {
     "data": {
      "text/html": [
       "<style>\n",
       ".list-inline {list-style: none; margin:0; padding: 0}\n",
       ".list-inline>li {display: inline-block}\n",
       ".list-inline>li:not(:last-child)::after {content: \"\\00b7\"; padding: 0 .5ex}\n",
       "</style>\n",
       "<ol class=list-inline><li>3162</li><li>8</li></ol>\n"
      ],
      "text/latex": [
       "\\begin{enumerate*}\n",
       "\\item 3162\n",
       "\\item 8\n",
       "\\end{enumerate*}\n"
      ],
      "text/markdown": [
       "1. 3162\n",
       "2. 8\n",
       "\n",
       "\n"
      ],
      "text/plain": [
       "[1] 3162    8"
      ]
     },
     "metadata": {},
     "output_type": "display_data"
    },
    {
     "data": {
      "text/html": [
       "<style>\n",
       ".list-inline {list-style: none; margin:0; padding: 0}\n",
       ".list-inline>li {display: inline-block}\n",
       ".list-inline>li:not(:last-child)::after {content: \"\\00b7\"; padding: 0 .5ex}\n",
       "</style>\n",
       "<ol class=list-inline><li>3534</li><li>7</li></ol>\n"
      ],
      "text/latex": [
       "\\begin{enumerate*}\n",
       "\\item 3534\n",
       "\\item 7\n",
       "\\end{enumerate*}\n"
      ],
      "text/markdown": [
       "1. 3534\n",
       "2. 7\n",
       "\n",
       "\n"
      ],
      "text/plain": [
       "[1] 3534    7"
      ]
     },
     "metadata": {},
     "output_type": "display_data"
    },
    {
     "data": {
      "text/html": [
       "<style>\n",
       ".list-inline {list-style: none; margin:0; padding: 0}\n",
       ".list-inline>li {display: inline-block}\n",
       ".list-inline>li:not(:last-child)::after {content: \"\\00b7\"; padding: 0 .5ex}\n",
       "</style>\n",
       "<ol class=list-inline><li>3534</li><li>7</li></ol>\n"
      ],
      "text/latex": [
       "\\begin{enumerate*}\n",
       "\\item 3534\n",
       "\\item 7\n",
       "\\end{enumerate*}\n"
      ],
      "text/markdown": [
       "1. 3534\n",
       "2. 7\n",
       "\n",
       "\n"
      ],
      "text/plain": [
       "[1] 3534    7"
      ]
     },
     "metadata": {},
     "output_type": "display_data"
    }
   ],
   "source": [
    "# original data with replicates\n",
    "dim(mRNA_df)\n",
    "\n",
    "# after averaging replicates\n",
    "dim(avg_mRNA_df)\n",
    "\n",
    "# adding in missing data for remaining records\n",
    "dim(preimputed_df)\n",
    "\n",
    "dim(imputed_df)"
   ]
  },
  {
   "cell_type": "code",
   "execution_count": 10,
   "id": "1a5837e6",
   "metadata": {},
   "outputs": [],
   "source": [
    "# exporting data\n",
    "write.csv(imputed_df, paste0(Output,\"/\", cur_date, \"_Imputed_mRNA.csv\"), row.names = FALSE)"
   ]
  },
  {
   "cell_type": "code",
   "execution_count": null,
   "id": "9b5f0042",
   "metadata": {},
   "outputs": [],
   "source": []
  }
 ],
 "metadata": {
  "kernelspec": {
   "display_name": "R",
   "language": "R",
   "name": "ir"
  },
  "language_info": {
   "codemirror_mode": "r",
   "file_extension": ".r",
   "mimetype": "text/x-r-source",
   "name": "R",
   "pygments_lexer": "r",
   "version": "4.1.3"
  }
 },
 "nbformat": 4,
 "nbformat_minor": 5
}
