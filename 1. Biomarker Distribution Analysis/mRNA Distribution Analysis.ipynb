{
 "cells": [
  {
   "cell_type": "code",
   "execution_count": 1,
   "id": "70700e40",
   "metadata": {},
   "outputs": [
    {
     "name": "stderr",
     "output_type": "stream",
     "text": [
      "── \u001b[1mAttaching packages\u001b[22m ─────────────────────────────────────── tidyverse 1.3.2 ──\n",
      "\u001b[32m✔\u001b[39m \u001b[34mggplot2\u001b[39m 3.4.0      \u001b[32m✔\u001b[39m \u001b[34mpurrr  \u001b[39m 0.3.4 \n",
      "\u001b[32m✔\u001b[39m \u001b[34mtibble \u001b[39m 3.1.8      \u001b[32m✔\u001b[39m \u001b[34mdplyr  \u001b[39m 1.0.10\n",
      "\u001b[32m✔\u001b[39m \u001b[34mtidyr  \u001b[39m 1.2.1      \u001b[32m✔\u001b[39m \u001b[34mstringr\u001b[39m 1.4.1 \n",
      "\u001b[32m✔\u001b[39m \u001b[34mreadr  \u001b[39m 2.1.2      \u001b[32m✔\u001b[39m \u001b[34mforcats\u001b[39m 0.5.2 \n",
      "── \u001b[1mConflicts\u001b[22m ────────────────────────────────────────── tidyverse_conflicts() ──\n",
      "\u001b[31m✖\u001b[39m \u001b[34mdplyr\u001b[39m::\u001b[32mfilter()\u001b[39m masks \u001b[34mstats\u001b[39m::filter()\n",
      "\u001b[31m✖\u001b[39m \u001b[34mdplyr\u001b[39m::\u001b[32mlag()\u001b[39m    masks \u001b[34mstats\u001b[39m::lag()\n",
      "\n",
      "Attaching package: ‘reshape2’\n",
      "\n",
      "\n",
      "The following object is masked from ‘package:tidyr’:\n",
      "\n",
      "    smiths\n",
      "\n",
      "\n"
     ]
    }
   ],
   "source": [
    "Output = ('/Users/alexis/Library/CloudStorage/OneDrive-UniversityofNorthCarolinaatChapelHill/CEMALB_DataAnalysisPM/Projects/P1011. Emission Mixtures/P1011.3. Analyses/P1011.3.1. Biomarker Distribution Analysis/Output')\n",
    "cur_date = \"040322\"\n",
    "\n",
    "library(readxl)\n",
    "library(tidyverse)\n",
    "library(reshape2)\n",
    "\n",
    "# reading in files\n",
    "mRNA_df = data.frame(read_excel(\"Input/mRNA_Data_040323.xlsx\", sheet = 2))\n",
    "demographics_df = data.frame(read_excel(\"Input/Subject_Info_031723.xlsx\", sheet = 2))"
   ]
  },
  {
   "cell_type": "code",
   "execution_count": 2,
   "id": "43d85e93",
   "metadata": {},
   "outputs": [
    {
     "data": {
      "text/html": [
       "<table class=\"dataframe\">\n",
       "<caption>A data.frame: 6 × 9</caption>\n",
       "<thead>\n",
       "\t<tr><th></th><th scope=col>Subject_No</th><th scope=col>Subject_ID</th><th scope=col>Gene_Name</th><th scope=col>Condensate</th><th scope=col>Burn_Condition</th><th scope=col>Concentration</th><th scope=col>Time_Point</th><th scope=col>ddCT</th><th scope=col>ddCT_pslog2</th></tr>\n",
       "\t<tr><th></th><th scope=col>&lt;dbl&gt;</th><th scope=col>&lt;chr&gt;</th><th scope=col>&lt;chr&gt;</th><th scope=col>&lt;chr&gt;</th><th scope=col>&lt;chr&gt;</th><th scope=col>&lt;chr&gt;</th><th scope=col>&lt;dbl&gt;</th><th scope=col>&lt;dbl&gt;</th><th scope=col>&lt;dbl&gt;</th></tr>\n",
       "</thead>\n",
       "<tbody>\n",
       "\t<tr><th scope=row>1</th><td>1</td><td>F_1</td><td>ALDH1A3</td><td>C</td><td>F</td><td>1</td><td>24</td><td>-6.6824749</td><td>4.480105</td></tr>\n",
       "\t<tr><th scope=row>2</th><td>2</td><td>M_2</td><td>ALDH1A3</td><td>C</td><td>F</td><td>1</td><td>24</td><td> 0.2560009</td><td>4.870661</td></tr>\n",
       "\t<tr><th scope=row>3</th><td>3</td><td>M_3</td><td>ALDH1A3</td><td>C</td><td>F</td><td>1</td><td>24</td><td> 0.4318636</td><td>4.879307</td></tr>\n",
       "\t<tr><th scope=row>4</th><td>4</td><td>F_4</td><td>ALDH1A3</td><td>C</td><td>F</td><td>1</td><td>24</td><td> 0.4193253</td><td>4.878692</td></tr>\n",
       "\t<tr><th scope=row>5</th><td>6</td><td>M_6</td><td>ALDH1A3</td><td>C</td><td>F</td><td>1</td><td>24</td><td>-0.1550695</td><td>4.850246</td></tr>\n",
       "\t<tr><th scope=row>6</th><td>1</td><td>F_1</td><td>ALDH1A3</td><td>C</td><td>F</td><td>1</td><td>72</td><td>-0.2119125</td><td>4.847400</td></tr>\n",
       "</tbody>\n",
       "</table>\n"
      ],
      "text/latex": [
       "A data.frame: 6 × 9\n",
       "\\begin{tabular}{r|lllllllll}\n",
       "  & Subject\\_No & Subject\\_ID & Gene\\_Name & Condensate & Burn\\_Condition & Concentration & Time\\_Point & ddCT & ddCT\\_pslog2\\\\\n",
       "  & <dbl> & <chr> & <chr> & <chr> & <chr> & <chr> & <dbl> & <dbl> & <dbl>\\\\\n",
       "\\hline\n",
       "\t1 & 1 & F\\_1 & ALDH1A3 & C & F & 1 & 24 & -6.6824749 & 4.480105\\\\\n",
       "\t2 & 2 & M\\_2 & ALDH1A3 & C & F & 1 & 24 &  0.2560009 & 4.870661\\\\\n",
       "\t3 & 3 & M\\_3 & ALDH1A3 & C & F & 1 & 24 &  0.4318636 & 4.879307\\\\\n",
       "\t4 & 4 & F\\_4 & ALDH1A3 & C & F & 1 & 24 &  0.4193253 & 4.878692\\\\\n",
       "\t5 & 6 & M\\_6 & ALDH1A3 & C & F & 1 & 24 & -0.1550695 & 4.850246\\\\\n",
       "\t6 & 1 & F\\_1 & ALDH1A3 & C & F & 1 & 72 & -0.2119125 & 4.847400\\\\\n",
       "\\end{tabular}\n"
      ],
      "text/markdown": [
       "\n",
       "A data.frame: 6 × 9\n",
       "\n",
       "| <!--/--> | Subject_No &lt;dbl&gt; | Subject_ID &lt;chr&gt; | Gene_Name &lt;chr&gt; | Condensate &lt;chr&gt; | Burn_Condition &lt;chr&gt; | Concentration &lt;chr&gt; | Time_Point &lt;dbl&gt; | ddCT &lt;dbl&gt; | ddCT_pslog2 &lt;dbl&gt; |\n",
       "|---|---|---|---|---|---|---|---|---|---|\n",
       "| 1 | 1 | F_1 | ALDH1A3 | C | F | 1 | 24 | -6.6824749 | 4.480105 |\n",
       "| 2 | 2 | M_2 | ALDH1A3 | C | F | 1 | 24 |  0.2560009 | 4.870661 |\n",
       "| 3 | 3 | M_3 | ALDH1A3 | C | F | 1 | 24 |  0.4318636 | 4.879307 |\n",
       "| 4 | 4 | F_4 | ALDH1A3 | C | F | 1 | 24 |  0.4193253 | 4.878692 |\n",
       "| 5 | 6 | M_6 | ALDH1A3 | C | F | 1 | 24 | -0.1550695 | 4.850246 |\n",
       "| 6 | 1 | F_1 | ALDH1A3 | C | F | 1 | 72 | -0.2119125 | 4.847400 |\n",
       "\n"
      ],
      "text/plain": [
       "  Subject_No Subject_ID Gene_Name Condensate Burn_Condition Concentration\n",
       "1 1          F_1        ALDH1A3   C          F              1            \n",
       "2 2          M_2        ALDH1A3   C          F              1            \n",
       "3 3          M_3        ALDH1A3   C          F              1            \n",
       "4 4          F_4        ALDH1A3   C          F              1            \n",
       "5 6          M_6        ALDH1A3   C          F              1            \n",
       "6 1          F_1        ALDH1A3   C          F              1            \n",
       "  Time_Point ddCT       ddCT_pslog2\n",
       "1 24         -6.6824749 4.480105   \n",
       "2 24          0.2560009 4.870661   \n",
       "3 24          0.4318636 4.879307   \n",
       "4 24          0.4193253 4.878692   \n",
       "5 24         -0.1550695 4.850246   \n",
       "6 72         -0.2119125 4.847400   "
      ]
     },
     "metadata": {},
     "output_type": "display_data"
    },
    {
     "data": {
      "text/html": [
       "<table class=\"dataframe\">\n",
       "<caption>A data.frame: 6 × 7</caption>\n",
       "<thead>\n",
       "\t<tr><th></th><th scope=col>Original_Subject_ID</th><th scope=col>Subject_ID</th><th scope=col>Subject_No</th><th scope=col>Sex</th><th scope=col>Age</th><th scope=col>Race</th><th scope=col>Ethnicity</th></tr>\n",
       "\t<tr><th></th><th scope=col>&lt;chr&gt;</th><th scope=col>&lt;chr&gt;</th><th scope=col>&lt;dbl&gt;</th><th scope=col>&lt;chr&gt;</th><th scope=col>&lt;dbl&gt;</th><th scope=col>&lt;chr&gt;</th><th scope=col>&lt;chr&gt;</th></tr>\n",
       "</thead>\n",
       "<tbody>\n",
       "\t<tr><th scope=row>1</th><td>68J</td><td>F_1</td><td>1</td><td>F</td><td>18</td><td>B</td><td>NH</td></tr>\n",
       "\t<tr><th scope=row>2</th><td>53K</td><td>M_2</td><td>2</td><td>M</td><td>32</td><td>B</td><td>NH</td></tr>\n",
       "\t<tr><th scope=row>3</th><td>21O</td><td>M_3</td><td>3</td><td>M</td><td>34</td><td>W</td><td>H </td></tr>\n",
       "\t<tr><th scope=row>4</th><td>63O</td><td>F_4</td><td>4</td><td>F</td><td>32</td><td>W</td><td>H </td></tr>\n",
       "\t<tr><th scope=row>5</th><td>67L</td><td>F_5</td><td>5</td><td>F</td><td>17</td><td>W</td><td>H </td></tr>\n",
       "\t<tr><th scope=row>6</th><td>57N</td><td>M_6</td><td>6</td><td>M</td><td>59</td><td>W</td><td>NH</td></tr>\n",
       "</tbody>\n",
       "</table>\n"
      ],
      "text/latex": [
       "A data.frame: 6 × 7\n",
       "\\begin{tabular}{r|lllllll}\n",
       "  & Original\\_Subject\\_ID & Subject\\_ID & Subject\\_No & Sex & Age & Race & Ethnicity\\\\\n",
       "  & <chr> & <chr> & <dbl> & <chr> & <dbl> & <chr> & <chr>\\\\\n",
       "\\hline\n",
       "\t1 & 68J & F\\_1 & 1 & F & 18 & B & NH\\\\\n",
       "\t2 & 53K & M\\_2 & 2 & M & 32 & B & NH\\\\\n",
       "\t3 & 21O & M\\_3 & 3 & M & 34 & W & H \\\\\n",
       "\t4 & 63O & F\\_4 & 4 & F & 32 & W & H \\\\\n",
       "\t5 & 67L & F\\_5 & 5 & F & 17 & W & H \\\\\n",
       "\t6 & 57N & M\\_6 & 6 & M & 59 & W & NH\\\\\n",
       "\\end{tabular}\n"
      ],
      "text/markdown": [
       "\n",
       "A data.frame: 6 × 7\n",
       "\n",
       "| <!--/--> | Original_Subject_ID &lt;chr&gt; | Subject_ID &lt;chr&gt; | Subject_No &lt;dbl&gt; | Sex &lt;chr&gt; | Age &lt;dbl&gt; | Race &lt;chr&gt; | Ethnicity &lt;chr&gt; |\n",
       "|---|---|---|---|---|---|---|---|\n",
       "| 1 | 68J | F_1 | 1 | F | 18 | B | NH |\n",
       "| 2 | 53K | M_2 | 2 | M | 32 | B | NH |\n",
       "| 3 | 21O | M_3 | 3 | M | 34 | W | H  |\n",
       "| 4 | 63O | F_4 | 4 | F | 32 | W | H  |\n",
       "| 5 | 67L | F_5 | 5 | F | 17 | W | H  |\n",
       "| 6 | 57N | M_6 | 6 | M | 59 | W | NH |\n",
       "\n"
      ],
      "text/plain": [
       "  Original_Subject_ID Subject_ID Subject_No Sex Age Race Ethnicity\n",
       "1 68J                 F_1        1          F   18  B    NH       \n",
       "2 53K                 M_2        2          M   32  B    NH       \n",
       "3 21O                 M_3        3          M   34  W    H        \n",
       "4 63O                 F_4        4          F   32  W    H        \n",
       "5 67L                 F_5        5          F   17  W    H        \n",
       "6 57N                 M_6        6          M   59  W    NH       "
      ]
     },
     "metadata": {},
     "output_type": "display_data"
    }
   ],
   "source": [
    "head(mRNA_df)\n",
    "head(demographics_df)"
   ]
  },
  {
   "cell_type": "markdown",
   "id": "64c6d2b3",
   "metadata": {},
   "source": [
    "Testing for statistical differences by comparing a biomarker between burn conditions (control, smoldering or flaming) to a control. (The condensate, concentration, and time point would remain consistent). \n",
    "\n",
    "Later adding sex in as a covariate.\n",
    "\n",
    "Typically, normality and homogeneity of variances would be tested for first, however a non-parametric test (Wilcoxon rank sum) will be used given the small sample size (*n* = 6)."
   ]
  },
  {
   "cell_type": "code",
   "execution_count": 3,
   "id": "894d120f",
   "metadata": {},
   "outputs": [],
   "source": [
    "# the mRNA df doesn't consisently test all 3 concentrations (1,5, or 25 micrograms) or \n",
    "# time points(4,24,72) therefore we can't subset the df using a loop so we'll create separate dfs\n",
    "# for each concentration and time point\n",
    "split_mRNA_df = mRNA_df %>%\n",
    "    group_by(Concentration, Time_Point) %>%\n",
    "    group_split()\n",
    "\n",
    "conc1_24_mRNA_df = split_mRNA_df[[1]]\n",
    "conc1_72_mRNA_df = split_mRNA_df[[2]]\n",
    "conc25_4_mRNA_df = split_mRNA_df[[3]]\n",
    "conc25_24_mRNA_df = split_mRNA_df[[4]]\n",
    "conc25_72_mRNA_df = split_mRNA_df[[5]]\n",
    "conc5_24_mRNA_df = split_mRNA_df[[6]]\n",
    "conc5_72_mRNA_df = split_mRNA_df[[7]]\n",
    "concc_4_mRNA_df = split_mRNA_df[[8]]\n",
    "concc_24_mRNA_df = split_mRNA_df[[9]]\n",
    "concc_72_mRNA_df = split_mRNA_df[[10]]"
   ]
  },
  {
   "cell_type": "code",
   "execution_count": 4,
   "id": "24d5d2e5",
   "metadata": {},
   "outputs": [
    {
     "data": {
      "text/html": [
       "<table class=\"dataframe\">\n",
       "<caption>A tibble: 6 × 9</caption>\n",
       "<thead>\n",
       "\t<tr><th scope=col>Subject_No</th><th scope=col>Subject_ID</th><th scope=col>Gene_Name</th><th scope=col>Condensate</th><th scope=col>Burn_Condition</th><th scope=col>Concentration</th><th scope=col>Time_Point</th><th scope=col>ddCT</th><th scope=col>ddCT_pslog2</th></tr>\n",
       "\t<tr><th scope=col>&lt;dbl&gt;</th><th scope=col>&lt;chr&gt;</th><th scope=col>&lt;chr&gt;</th><th scope=col>&lt;chr&gt;</th><th scope=col>&lt;chr&gt;</th><th scope=col>&lt;chr&gt;</th><th scope=col>&lt;dbl&gt;</th><th scope=col>&lt;dbl&gt;</th><th scope=col>&lt;dbl&gt;</th></tr>\n",
       "</thead>\n",
       "<tbody>\n",
       "\t<tr><td>1</td><td>F_1</td><td>ALDH1A3</td><td>C</td><td>F</td><td>1</td><td>24</td><td>-6.6824749</td><td>4.480105</td></tr>\n",
       "\t<tr><td>2</td><td>M_2</td><td>ALDH1A3</td><td>C</td><td>F</td><td>1</td><td>24</td><td> 0.2560009</td><td>4.870661</td></tr>\n",
       "\t<tr><td>3</td><td>M_3</td><td>ALDH1A3</td><td>C</td><td>F</td><td>1</td><td>24</td><td> 0.4318636</td><td>4.879307</td></tr>\n",
       "\t<tr><td>4</td><td>F_4</td><td>ALDH1A3</td><td>C</td><td>F</td><td>1</td><td>24</td><td> 0.4193253</td><td>4.878692</td></tr>\n",
       "\t<tr><td>6</td><td>M_6</td><td>ALDH1A3</td><td>C</td><td>F</td><td>1</td><td>24</td><td>-0.1550695</td><td>4.850246</td></tr>\n",
       "\t<tr><td>2</td><td>M_2</td><td>ALDH1A3</td><td>C</td><td>S</td><td>1</td><td>24</td><td>-0.3182245</td><td>4.842062</td></tr>\n",
       "</tbody>\n",
       "</table>\n"
      ],
      "text/latex": [
       "A tibble: 6 × 9\n",
       "\\begin{tabular}{lllllllll}\n",
       " Subject\\_No & Subject\\_ID & Gene\\_Name & Condensate & Burn\\_Condition & Concentration & Time\\_Point & ddCT & ddCT\\_pslog2\\\\\n",
       " <dbl> & <chr> & <chr> & <chr> & <chr> & <chr> & <dbl> & <dbl> & <dbl>\\\\\n",
       "\\hline\n",
       "\t 1 & F\\_1 & ALDH1A3 & C & F & 1 & 24 & -6.6824749 & 4.480105\\\\\n",
       "\t 2 & M\\_2 & ALDH1A3 & C & F & 1 & 24 &  0.2560009 & 4.870661\\\\\n",
       "\t 3 & M\\_3 & ALDH1A3 & C & F & 1 & 24 &  0.4318636 & 4.879307\\\\\n",
       "\t 4 & F\\_4 & ALDH1A3 & C & F & 1 & 24 &  0.4193253 & 4.878692\\\\\n",
       "\t 6 & M\\_6 & ALDH1A3 & C & F & 1 & 24 & -0.1550695 & 4.850246\\\\\n",
       "\t 2 & M\\_2 & ALDH1A3 & C & S & 1 & 24 & -0.3182245 & 4.842062\\\\\n",
       "\\end{tabular}\n"
      ],
      "text/markdown": [
       "\n",
       "A tibble: 6 × 9\n",
       "\n",
       "| Subject_No &lt;dbl&gt; | Subject_ID &lt;chr&gt; | Gene_Name &lt;chr&gt; | Condensate &lt;chr&gt; | Burn_Condition &lt;chr&gt; | Concentration &lt;chr&gt; | Time_Point &lt;dbl&gt; | ddCT &lt;dbl&gt; | ddCT_pslog2 &lt;dbl&gt; |\n",
       "|---|---|---|---|---|---|---|---|---|\n",
       "| 1 | F_1 | ALDH1A3 | C | F | 1 | 24 | -6.6824749 | 4.480105 |\n",
       "| 2 | M_2 | ALDH1A3 | C | F | 1 | 24 |  0.2560009 | 4.870661 |\n",
       "| 3 | M_3 | ALDH1A3 | C | F | 1 | 24 |  0.4318636 | 4.879307 |\n",
       "| 4 | F_4 | ALDH1A3 | C | F | 1 | 24 |  0.4193253 | 4.878692 |\n",
       "| 6 | M_6 | ALDH1A3 | C | F | 1 | 24 | -0.1550695 | 4.850246 |\n",
       "| 2 | M_2 | ALDH1A3 | C | S | 1 | 24 | -0.3182245 | 4.842062 |\n",
       "\n"
      ],
      "text/plain": [
       "  Subject_No Subject_ID Gene_Name Condensate Burn_Condition Concentration\n",
       "1 1          F_1        ALDH1A3   C          F              1            \n",
       "2 2          M_2        ALDH1A3   C          F              1            \n",
       "3 3          M_3        ALDH1A3   C          F              1            \n",
       "4 4          F_4        ALDH1A3   C          F              1            \n",
       "5 6          M_6        ALDH1A3   C          F              1            \n",
       "6 2          M_2        ALDH1A3   C          S              1            \n",
       "  Time_Point ddCT       ddCT_pslog2\n",
       "1 24         -6.6824749 4.480105   \n",
       "2 24          0.2560009 4.870661   \n",
       "3 24          0.4318636 4.879307   \n",
       "4 24          0.4193253 4.878692   \n",
       "5 24         -0.1550695 4.850246   \n",
       "6 24         -0.3182245 4.842062   "
      ]
     },
     "metadata": {},
     "output_type": "display_data"
    }
   ],
   "source": [
    "# control samples have a concentration of NA, so they're all in a separate df\n",
    "# adding them back into the other dataframes\n",
    "conc1_24_mRNA_df = rbind(conc1_24_mRNA_df, concc_24_mRNA_df)\n",
    "conc1_72_mRNA_df = rbind(conc1_72_mRNA_df, concc_72_mRNA_df)\n",
    "conc25_4_mRNA_df = rbind(conc25_4_mRNA_df, concc_4_mRNA_df)\n",
    "conc25_24_mRNA_df = rbind(conc25_24_mRNA_df, concc_24_mRNA_df)\n",
    "conc25_72_mRNA_df = rbind(conc25_72_mRNA_df, concc_72_mRNA_df)\n",
    "conc5_24_mRNA_df = rbind(conc5_24_mRNA_df, concc_24_mRNA_df)\n",
    "conc5_72_mRNA_df = rbind(conc5_24_mRNA_df, concc_72_mRNA_df)\n",
    "\n",
    "head(conc1_24_mRNA_df)"
   ]
  },
  {
   "cell_type": "code",
   "execution_count": 5,
   "id": "6a66c21b",
   "metadata": {},
   "outputs": [],
   "source": [
    "wilcoxon_rank_sumv1 = function(df){\n",
    "    # \"\"\"\n",
    "    # Running wilcoxon rank sums after filtering for gene and condensate using a loop. \n",
    "    # Ultimately using this test to compare gene expression (control vs. flaming burn condition).\n",
    "\n",
    "    # :param: subsetted dataframe, empty dataframe\n",
    "    # :output: a dataframe containing the gene, condensate, comparison, conc, time point, stat, p value, p adj\n",
    "\n",
    "    # \"\"\"\n",
    "    \n",
    "    # variables that will be iterated through\n",
    "    genes = unique(df$Gene_Name)\n",
    "    condensates = c(\"C\", \"P\")\n",
    "    \n",
    "    values_df = data.frame()\n",
    "     # iterating through each gene, condensate, and burn condition\n",
    "    for(i in 1:length(genes)){\n",
    "        for(j in 1:length(condensates)){\n",
    "                \n",
    "            # control df\n",
    "            control_df = df %>%\n",
    "                filter(Gene_Name == genes[i], Condensate == \"PBS\")\n",
    "\n",
    "            # flaming df\n",
    "            flaming_df = df %>%\n",
    "                filter(Gene_Name == genes[i], Condensate == condensates[j] , Burn_Condition == \"F\")\n",
    "\n",
    "            # wilcoxon rank sum\n",
    "            wilcoxon_test = wilcox.test(control_df$ddCT_pslog2, flaming_df$ddCT_pslog2)\n",
    "\n",
    "            # contains gene, condensate, burn conditions, conc, time point, stat, and p value\n",
    "            values_vector = cbind(genes[i], condensates[j], \"Control vs. Flaming\",\n",
    "                                  unique(df$Concentration)[1], unique(df$Time_Point), \n",
    "                                  wilcoxon_test$statistic, wilcoxon_test$p.value)\n",
    "            values_df = rbind(values_df, values_vector)\n",
    "        }\n",
    "    }\n",
    "\n",
    "    \n",
    "    # adding col names\n",
    "    colnames(values_df) = c(\"Gene\", \"Condensate\", \"Comparison\", \"Concentration\", \"Time Point\",\n",
    "                            \"Statistic\", \"P Value\")\n",
    "    \n",
    "    # calculating padj values\n",
    "    values_df$`P Adj` = p.adjust(as.numeric(as.character(values_df$`P Value`)), method = \"fdr\")\n",
    "\n",
    "    \n",
    "    return(values_df)\n",
    "}"
   ]
  },
  {
   "cell_type": "code",
   "execution_count": 6,
   "id": "bacf2050",
   "metadata": {},
   "outputs": [],
   "source": [
    "# calling fn\n",
    "conc1_24_wilcox_values_v1 = wilcoxon_rank_sumv1(conc1_24_mRNA_df)\n",
    "conc1_72_wilcox_values_v1 = wilcoxon_rank_sumv1(conc1_72_mRNA_df)\n",
    "conc25_4_wilcox_values_v1 = wilcoxon_rank_sumv1(conc25_4_mRNA_df)\n",
    "conc25_24_wilcox_values_v1 = wilcoxon_rank_sumv1(conc25_24_mRNA_df)\n",
    "conc25_72_wilcox_values_v1 = wilcoxon_rank_sumv1(conc25_72_mRNA_df)\n",
    "conc5_24_wilcox_values_v1 = wilcoxon_rank_sumv1(conc5_24_mRNA_df)\n",
    "conc5_72_wilcox_values_v1 = wilcoxon_rank_sumv1(conc5_72_mRNA_df)"
   ]
  },
  {
   "cell_type": "code",
   "execution_count": 7,
   "id": "541b6ae4",
   "metadata": {},
   "outputs": [],
   "source": [
    "# creating 1 df\n",
    "v1_smoldering_flaming_df = rbind(conc1_24_wilcox_values_v1, conc1_72_wilcox_values_v1, conc25_4_wilcox_values_v1,\n",
    "                             conc25_24_wilcox_values_v1, conc25_72_wilcox_values_v1, conc5_24_wilcox_values_v1,\n",
    "                             conc5_72_wilcox_values_v1)"
   ]
  },
  {
   "cell_type": "code",
   "execution_count": 8,
   "id": "edbab86e",
   "metadata": {},
   "outputs": [],
   "source": [
    "wilcoxon_rank_sumv2 = function(df){\n",
    "    # \"\"\"\n",
    "    # Running wilcoxon rank sums after filtering for gene and condensate using a loop. \n",
    "    # Ultimately using this test to compare gene expression (smoldering vs. flaming burn condition).\n",
    "\n",
    "    # :param: subsetted dataframe, empty dataframe\n",
    "    # :output: a dataframe containing the gene, condensate, comparison, conc, time point, stat, p value, p adj\n",
    "\n",
    "    # \"\"\"\n",
    "    \n",
    "    # variables that will be iterated through\n",
    "    genes = unique(df$Gene_Name)\n",
    "    condensates = c(\"C\", \"P\")\n",
    "    \n",
    "    values_df = data.frame()\n",
    "     # iterating through each gene, condensate, and burn condition\n",
    "    for(i in 1:length(genes)){\n",
    "        for(j in 1:length(condensates)){\n",
    "                \n",
    "            # control df\n",
    "            control_df = df %>%\n",
    "                filter(Gene_Name == genes[i], Condensate == condensates[j], Burn_Condition == \"S\")\n",
    "\n",
    "            # flaming df\n",
    "            flaming_df = df %>%\n",
    "                filter(Gene_Name == genes[i], Condensate == condensates[j] , Burn_Condition == \"F\")\n",
    "\n",
    "            # wilcoxon rank sum\n",
    "            wilcoxon_test = wilcox.test(control_df$ddCT_pslog2, flaming_df$ddCT_pslog2)\n",
    "\n",
    "            # contains gene, condensate, burn conditions, conc, time point, stat, and p value\n",
    "            values_vector = cbind(genes[i], condensates[j], \"Smoldering vs. Flaming\",\n",
    "                                  unique(df$Concentration)[1], unique(df$Time_Point), \n",
    "                                  wilcoxon_test$statistic, wilcoxon_test$p.value)\n",
    "            values_df = rbind(values_df, values_vector)\n",
    "            \n",
    "        }\n",
    "    }\n",
    "\n",
    "    \n",
    "    # adding col names\n",
    "    colnames(values_df) = c(\"Gene\", \"Condensate\", \"Comparison\", \"Concentration\", \"Time Point\",\n",
    "                            \"Statistic\", \"P Value\")\n",
    "    \n",
    "    # calculating padj values\n",
    "    values_df$`P Adj` = p.adjust(as.numeric(as.character(values_df$`P Value`)), method = \"fdr\")\n",
    "\n",
    "    \n",
    "    return(values_df)\n",
    "}"
   ]
  },
  {
   "cell_type": "code",
   "execution_count": 9,
   "id": "1296e7f2",
   "metadata": {},
   "outputs": [],
   "source": [
    "# calling fn\n",
    "conc1_24_wilcox_values_v2 = wilcoxon_rank_sumv2(conc1_24_mRNA_df)\n",
    "conc1_72_wilcox_values_v2 = wilcoxon_rank_sumv2(conc1_72_mRNA_df)\n",
    "conc25_4_wilcox_values_v2 = wilcoxon_rank_sumv2(conc25_4_mRNA_df)\n",
    "conc25_24_wilcox_values_v2 = wilcoxon_rank_sumv2(conc25_24_mRNA_df)\n",
    "conc25_72_wilcox_values_v2 = wilcoxon_rank_sumv2(conc25_72_mRNA_df)\n",
    "conc5_24_wilcox_values_v2 = wilcoxon_rank_sumv2(conc5_24_mRNA_df)\n",
    "conc5_72_wilcox_values_v2 = wilcoxon_rank_sumv2(conc5_72_mRNA_df)"
   ]
  },
  {
   "cell_type": "code",
   "execution_count": 10,
   "id": "67790582",
   "metadata": {},
   "outputs": [
    {
     "data": {
      "text/html": [
       "<table class=\"dataframe\">\n",
       "<caption>A data.frame: 6 × 8</caption>\n",
       "<thead>\n",
       "\t<tr><th></th><th scope=col>Gene</th><th scope=col>Condensate</th><th scope=col>Comparison</th><th scope=col>Concentration</th><th scope=col>Time Point</th><th scope=col>Statistic</th><th scope=col>P Value</th><th scope=col>P Adj</th></tr>\n",
       "\t<tr><th></th><th scope=col>&lt;chr&gt;</th><th scope=col>&lt;chr&gt;</th><th scope=col>&lt;chr&gt;</th><th scope=col>&lt;chr&gt;</th><th scope=col>&lt;chr&gt;</th><th scope=col>&lt;chr&gt;</th><th scope=col>&lt;chr&gt;</th><th scope=col>&lt;dbl&gt;</th></tr>\n",
       "</thead>\n",
       "<tbody>\n",
       "\t<tr><th scope=row>W</th><td>ALDH1A3</td><td>C</td><td>Control vs. Flaming</td><td>1</td><td>24</td><td>25</td><td>0.00793650793650794</td><td>0.02128852</td></tr>\n",
       "\t<tr><th scope=row>W1</th><td>ALDH1A3</td><td>P</td><td>Control vs. Flaming</td><td>1</td><td>24</td><td>30</td><td>0.00432900432900433</td><td>0.01645022</td></tr>\n",
       "\t<tr><th scope=row>W2</th><td>CYP1B1 </td><td>C</td><td>Control vs. Flaming</td><td>1</td><td>24</td><td>25</td><td>0.00793650793650794</td><td>0.02128852</td></tr>\n",
       "\t<tr><th scope=row>W3</th><td>CYP1B1 </td><td>P</td><td>Control vs. Flaming</td><td>1</td><td>24</td><td>30</td><td>0.00432900432900433</td><td>0.01645022</td></tr>\n",
       "\t<tr><th scope=row>W4</th><td>CYP1A1 </td><td>C</td><td>Control vs. Flaming</td><td>1</td><td>24</td><td>25</td><td>0.00793650793650794</td><td>0.02128852</td></tr>\n",
       "\t<tr><th scope=row>W5</th><td>CYP1A1 </td><td>P</td><td>Control vs. Flaming</td><td>1</td><td>24</td><td>30</td><td>0.00432900432900433</td><td>0.01645022</td></tr>\n",
       "</tbody>\n",
       "</table>\n"
      ],
      "text/latex": [
       "A data.frame: 6 × 8\n",
       "\\begin{tabular}{r|llllllll}\n",
       "  & Gene & Condensate & Comparison & Concentration & Time Point & Statistic & P Value & P Adj\\\\\n",
       "  & <chr> & <chr> & <chr> & <chr> & <chr> & <chr> & <chr> & <dbl>\\\\\n",
       "\\hline\n",
       "\tW & ALDH1A3 & C & Control vs. Flaming & 1 & 24 & 25 & 0.00793650793650794 & 0.02128852\\\\\n",
       "\tW1 & ALDH1A3 & P & Control vs. Flaming & 1 & 24 & 30 & 0.00432900432900433 & 0.01645022\\\\\n",
       "\tW2 & CYP1B1  & C & Control vs. Flaming & 1 & 24 & 25 & 0.00793650793650794 & 0.02128852\\\\\n",
       "\tW3 & CYP1B1  & P & Control vs. Flaming & 1 & 24 & 30 & 0.00432900432900433 & 0.01645022\\\\\n",
       "\tW4 & CYP1A1  & C & Control vs. Flaming & 1 & 24 & 25 & 0.00793650793650794 & 0.02128852\\\\\n",
       "\tW5 & CYP1A1  & P & Control vs. Flaming & 1 & 24 & 30 & 0.00432900432900433 & 0.01645022\\\\\n",
       "\\end{tabular}\n"
      ],
      "text/markdown": [
       "\n",
       "A data.frame: 6 × 8\n",
       "\n",
       "| <!--/--> | Gene &lt;chr&gt; | Condensate &lt;chr&gt; | Comparison &lt;chr&gt; | Concentration &lt;chr&gt; | Time Point &lt;chr&gt; | Statistic &lt;chr&gt; | P Value &lt;chr&gt; | P Adj &lt;dbl&gt; |\n",
       "|---|---|---|---|---|---|---|---|---|\n",
       "| W | ALDH1A3 | C | Control vs. Flaming | 1 | 24 | 25 | 0.00793650793650794 | 0.02128852 |\n",
       "| W1 | ALDH1A3 | P | Control vs. Flaming | 1 | 24 | 30 | 0.00432900432900433 | 0.01645022 |\n",
       "| W2 | CYP1B1  | C | Control vs. Flaming | 1 | 24 | 25 | 0.00793650793650794 | 0.02128852 |\n",
       "| W3 | CYP1B1  | P | Control vs. Flaming | 1 | 24 | 30 | 0.00432900432900433 | 0.01645022 |\n",
       "| W4 | CYP1A1  | C | Control vs. Flaming | 1 | 24 | 25 | 0.00793650793650794 | 0.02128852 |\n",
       "| W5 | CYP1A1  | P | Control vs. Flaming | 1 | 24 | 30 | 0.00432900432900433 | 0.01645022 |\n",
       "\n"
      ],
      "text/plain": [
       "   Gene    Condensate Comparison          Concentration Time Point Statistic\n",
       "W  ALDH1A3 C          Control vs. Flaming 1             24         25       \n",
       "W1 ALDH1A3 P          Control vs. Flaming 1             24         30       \n",
       "W2 CYP1B1  C          Control vs. Flaming 1             24         25       \n",
       "W3 CYP1B1  P          Control vs. Flaming 1             24         30       \n",
       "W4 CYP1A1  C          Control vs. Flaming 1             24         25       \n",
       "W5 CYP1A1  P          Control vs. Flaming 1             24         30       \n",
       "   P Value             P Adj     \n",
       "W  0.00793650793650794 0.02128852\n",
       "W1 0.00432900432900433 0.01645022\n",
       "W2 0.00793650793650794 0.02128852\n",
       "W3 0.00432900432900433 0.01645022\n",
       "W4 0.00793650793650794 0.02128852\n",
       "W5 0.00432900432900433 0.01645022"
      ]
     },
     "metadata": {},
     "output_type": "display_data"
    }
   ],
   "source": [
    "# creating 1 df\n",
    "v2_smoldering_flaming_df = rbind(conc1_24_wilcox_values_v2, conc1_72_wilcox_values_v2, conc25_4_wilcox_values_v2,\n",
    "                             conc25_24_wilcox_values_v2, conc25_72_wilcox_values_v2, conc5_24_wilcox_values_v2,\n",
    "                             conc5_72_wilcox_values_v2)\n",
    "\n",
    "mRNA_wilcoxon_df = rbind(v1_smoldering_flaming_df, v2_smoldering_flaming_df)\n",
    "head(mRNA_wilcoxon_df)"
   ]
  },
  {
   "cell_type": "code",
   "execution_count": 11,
   "id": "23ffac25",
   "metadata": {},
   "outputs": [],
   "source": [
    "# exporting\n",
    "write.csv(mRNA_wilcoxon_df, paste0(Output,\"/\", cur_date, \"_mRNA_Wilcoxon_Results.csv\"), row.names = FALSE)"
   ]
  }
 ],
 "metadata": {
  "kernelspec": {
   "display_name": "R",
   "language": "R",
   "name": "ir"
  },
  "language_info": {
   "codemirror_mode": "r",
   "file_extension": ".r",
   "mimetype": "text/x-r-source",
   "name": "R",
   "pygments_lexer": "r",
   "version": "4.1.3"
  }
 },
 "nbformat": 4,
 "nbformat_minor": 5
}
