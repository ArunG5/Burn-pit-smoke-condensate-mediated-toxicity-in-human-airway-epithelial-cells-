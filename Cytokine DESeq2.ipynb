{
 "cells": [
  {
   "cell_type": "code",
   "execution_count": 1,
   "id": "5d21337e",
   "metadata": {},
   "outputs": [
    {
     "name": "stderr",
     "output_type": "stream",
     "text": [
      "── \u001b[1mAttaching core tidyverse packages\u001b[22m ──────────────────────── tidyverse 2.0.0 ──\n",
      "\u001b[32m✔\u001b[39m \u001b[34mdplyr    \u001b[39m 1.1.2     \u001b[32m✔\u001b[39m \u001b[34mreadr    \u001b[39m 2.1.4\n",
      "\u001b[32m✔\u001b[39m \u001b[34mforcats  \u001b[39m 1.0.0     \u001b[32m✔\u001b[39m \u001b[34mstringr  \u001b[39m 1.5.0\n",
      "\u001b[32m✔\u001b[39m \u001b[34mggplot2  \u001b[39m 3.4.2     \u001b[32m✔\u001b[39m \u001b[34mtibble   \u001b[39m 3.2.1\n",
      "\u001b[32m✔\u001b[39m \u001b[34mlubridate\u001b[39m 1.9.2     \u001b[32m✔\u001b[39m \u001b[34mtidyr    \u001b[39m 1.3.0\n",
      "\u001b[32m✔\u001b[39m \u001b[34mpurrr    \u001b[39m 1.0.1     \n",
      "── \u001b[1mConflicts\u001b[22m ────────────────────────────────────────── tidyverse_conflicts() ──\n",
      "\u001b[31m✖\u001b[39m \u001b[34mdplyr\u001b[39m::\u001b[32mfilter()\u001b[39m masks \u001b[34mstats\u001b[39m::filter()\n",
      "\u001b[31m✖\u001b[39m \u001b[34mdplyr\u001b[39m::\u001b[32mlag()\u001b[39m    masks \u001b[34mstats\u001b[39m::lag()\n",
      "\u001b[36mℹ\u001b[39m Use the conflicted package (\u001b[3m\u001b[34m<http://conflicted.r-lib.org/>\u001b[39m\u001b[23m) to force all conflicts to become errors\n",
      "\n",
      "Attaching package: ‘reshape2’\n",
      "\n",
      "\n",
      "The following object is masked from ‘package:tidyr’:\n",
      "\n",
      "    smiths\n",
      "\n",
      "\n",
      "\n",
      "Attaching package: ‘data.table’\n",
      "\n",
      "\n",
      "The following objects are masked from ‘package:reshape2’:\n",
      "\n",
      "    dcast, melt\n",
      "\n",
      "\n",
      "The following objects are masked from ‘package:lubridate’:\n",
      "\n",
      "    hour, isoweek, mday, minute, month, quarter, second, wday, week,\n",
      "    yday, year\n",
      "\n",
      "\n",
      "The following objects are masked from ‘package:dplyr’:\n",
      "\n",
      "    between, first, last\n",
      "\n",
      "\n",
      "The following object is masked from ‘package:purrr’:\n",
      "\n",
      "    transpose\n",
      "\n",
      "\n",
      "Welcome! Want to learn more? See two factoextra-related books at https://goo.gl/ve3WBa\n",
      "\n",
      "Warning message:\n",
      "“Expecting numeric in E1226 / R1226C5: got 'NA'”\n",
      "Warning message:\n",
      "“Expecting numeric in E1227 / R1227C5: got 'NA'”\n",
      "Warning message:\n",
      "“Expecting numeric in E1228 / R1228C5: got 'NA'”\n",
      "Warning message:\n",
      "“Expecting numeric in E1229 / R1229C5: got 'NA'”\n",
      "Warning message:\n",
      "“Expecting numeric in E1230 / R1230C5: got 'NA'”\n",
      "Warning message:\n",
      "“Expecting numeric in E1231 / R1231C5: got 'NA'”\n",
      "Warning message:\n",
      "“Expecting numeric in E1232 / R1232C5: got 'NA'”\n",
      "Warning message:\n",
      "“Expecting numeric in E1233 / R1233C5: got 'NA'”\n",
      "Warning message:\n",
      "“Expecting numeric in E1234 / R1234C5: got 'NA'”\n",
      "Warning message:\n",
      "“Expecting numeric in E1235 / R1235C5: got 'NA'”\n",
      "Warning message:\n",
      "“Expecting numeric in E1236 / R1236C5: got 'NA'”\n",
      "Warning message:\n",
      "“Expecting numeric in E1237 / R1237C5: got 'NA'”\n",
      "Warning message:\n",
      "“Expecting numeric in E1238 / R1238C5: got 'NA'”\n",
      "Warning message:\n",
      "“Expecting numeric in E1239 / R1239C5: got 'NA'”\n",
      "Warning message:\n",
      "“Expecting numeric in E1240 / R1240C5: got 'NA'”\n",
      "Warning message:\n",
      "“Expecting numeric in E1241 / R1241C5: got 'NA'”\n",
      "Warning message:\n",
      "“Expecting numeric in E1242 / R1242C5: got 'NA'”\n",
      "Warning message:\n",
      "“Expecting numeric in E1243 / R1243C5: got 'NA'”\n",
      "Warning message:\n",
      "“Expecting numeric in E1244 / R1244C5: got 'NA'”\n",
      "Warning message:\n",
      "“Expecting numeric in E1245 / R1245C5: got 'NA'”\n",
      "Warning message:\n",
      "“Expecting numeric in E1246 / R1246C5: got 'NA'”\n",
      "Warning message:\n",
      "“Expecting numeric in E1247 / R1247C5: got 'NA'”\n",
      "Warning message:\n",
      "“Expecting numeric in E1248 / R1248C5: got 'NA'”\n",
      "Warning message:\n",
      "“Expecting numeric in E1249 / R1249C5: got 'NA'”\n",
      "Warning message:\n",
      "“Expecting numeric in E1250 / R1250C5: got 'NA'”\n",
      "Warning message:\n",
      "“Expecting numeric in E1251 / R1251C5: got 'NA'”\n",
      "Warning message:\n",
      "“Expecting numeric in E1252 / R1252C5: got 'NA'”\n",
      "Warning message:\n",
      "“Expecting numeric in E1253 / R1253C5: got 'NA'”\n",
      "Warning message:\n",
      "“Expecting numeric in E1254 / R1254C5: got 'NA'”\n",
      "Warning message:\n",
      "“Expecting numeric in E1255 / R1255C5: got 'NA'”\n",
      "Warning message:\n",
      "“Expecting numeric in E1256 / R1256C5: got 'NA'”\n",
      "Warning message:\n",
      "“Expecting numeric in E1257 / R1257C5: got 'NA'”\n",
      "Warning message:\n",
      "“Expecting numeric in E1258 / R1258C5: got 'NA'”\n",
      "Warning message:\n",
      "“Expecting numeric in E1259 / R1259C5: got 'NA'”\n",
      "Warning message:\n",
      "“Expecting numeric in E1260 / R1260C5: got 'NA'”\n",
      "Warning message:\n",
      "“Expecting numeric in E1261 / R1261C5: got 'NA'”\n",
      "Warning message:\n",
      "“Expecting numeric in E1262 / R1262C5: got 'NA'”\n",
      "Warning message:\n",
      "“Expecting numeric in E1263 / R1263C5: got 'NA'”\n",
      "Warning message:\n",
      "“Expecting numeric in E1264 / R1264C5: got 'NA'”\n",
      "Warning message:\n",
      "“Expecting numeric in E1265 / R1265C5: got 'NA'”\n",
      "Warning message:\n",
      "“Expecting numeric in E1266 / R1266C5: got 'NA'”\n",
      "Warning message:\n",
      "“Expecting numeric in E1267 / R1267C5: got 'NA'”\n",
      "Warning message:\n",
      "“Expecting numeric in E1268 / R1268C5: got 'NA'”\n",
      "Warning message:\n",
      "“Expecting numeric in E1269 / R1269C5: got 'NA'”\n",
      "Warning message:\n",
      "“Expecting numeric in E1270 / R1270C5: got 'NA'”\n",
      "Warning message:\n",
      "“Expecting numeric in E1271 / R1271C5: got 'NA'”\n",
      "Warning message:\n",
      "“Expecting numeric in E1272 / R1272C5: got 'NA'”\n",
      "Warning message:\n",
      "“Expecting numeric in E1273 / R1273C5: got 'NA'”\n",
      "Warning message:\n",
      "“Expecting numeric in E1274 / R1274C5: got 'NA'”\n",
      "Warning message:\n",
      "“Expecting numeric in E1275 / R1275C5: got 'NA'”\n",
      "Warning message:\n",
      "“Expecting numeric in E1276 / R1276C5: got 'NA'”\n",
      "Warning message:\n",
      "“Expecting numeric in E1277 / R1277C5: got 'NA'”\n",
      "Warning message:\n",
      "“Expecting numeric in E1278 / R1278C5: got 'NA'”\n",
      "Warning message:\n",
      "“Expecting numeric in E1279 / R1279C5: got 'NA'”\n",
      "Warning message:\n",
      "“Expecting numeric in E1280 / R1280C5: got 'NA'”\n",
      "Warning message:\n",
      "“Expecting numeric in E1281 / R1281C5: got 'NA'”\n",
      "Warning message:\n",
      "“Expecting numeric in E1282 / R1282C5: got 'NA'”\n",
      "Warning message:\n",
      "“Expecting numeric in E1283 / R1283C5: got 'NA'”\n",
      "Warning message:\n",
      "“Expecting numeric in E1284 / R1284C5: got 'NA'”\n",
      "Warning message:\n",
      "“Expecting numeric in E1285 / R1285C5: got 'NA'”\n",
      "Warning message:\n",
      "“Expecting numeric in E1286 / R1286C5: got 'NA'”\n",
      "Warning message:\n",
      "“Expecting numeric in E1287 / R1287C5: got 'NA'”\n",
      "Warning message:\n",
      "“Expecting numeric in E1288 / R1288C5: got 'NA'”\n",
      "Warning message:\n",
      "“Expecting numeric in E1289 / R1289C5: got 'NA'”\n",
      "Warning message:\n",
      "“Expecting numeric in E1290 / R1290C5: got 'NA'”\n",
      "Warning message:\n",
      "“Expecting numeric in E1291 / R1291C5: got 'NA'”\n",
      "Warning message:\n",
      "“Expecting numeric in E1292 / R1292C5: got 'NA'”\n",
      "Warning message:\n",
      "“Expecting numeric in E1293 / R1293C5: got 'NA'”\n",
      "Warning message:\n",
      "“Expecting numeric in E1294 / R1294C5: got 'NA'”\n",
      "Warning message:\n",
      "“Expecting numeric in E1295 / R1295C5: got 'NA'”\n",
      "Warning message:\n",
      "“Expecting numeric in E1296 / R1296C5: got 'NA'”\n",
      "Warning message:\n",
      "“Expecting numeric in E1297 / R1297C5: got 'NA'”\n",
      "Warning message:\n",
      "“Expecting numeric in E1298 / R1298C5: got 'NA'”\n",
      "Warning message:\n",
      "“Expecting numeric in E1299 / R1299C5: got 'NA'”\n",
      "Warning message:\n",
      "“Expecting numeric in E1300 / R1300C5: got 'NA'”\n",
      "Warning message:\n",
      "“Expecting numeric in E1301 / R1301C5: got 'NA'”\n",
      "Warning message:\n",
      "“Expecting numeric in E1302 / R1302C5: got 'NA'”\n",
      "Warning message:\n",
      "“Expecting numeric in E1303 / R1303C5: got 'NA'”\n",
      "Warning message:\n",
      "“Expecting numeric in E1304 / R1304C5: got 'NA'”\n",
      "Warning message:\n",
      "“Expecting numeric in E1305 / R1305C5: got 'NA'”\n",
      "Warning message:\n",
      "“Expecting numeric in E1306 / R1306C5: got 'NA'”\n",
      "Warning message:\n",
      "“Expecting numeric in E1307 / R1307C5: got 'NA'”\n",
      "Warning message:\n",
      "“Expecting numeric in E1308 / R1308C5: got 'NA'”\n",
      "Warning message:\n",
      "“Expecting numeric in E1309 / R1309C5: got 'NA'”\n",
      "Warning message:\n",
      "“Expecting numeric in E1310 / R1310C5: got 'NA'”\n",
      "Warning message:\n",
      "“Expecting numeric in E1311 / R1311C5: got 'NA'”\n",
      "Warning message:\n",
      "“Expecting numeric in E1312 / R1312C5: got 'NA'”\n",
      "Warning message:\n",
      "“Expecting numeric in E1313 / R1313C5: got 'NA'”\n",
      "Warning message:\n",
      "“Expecting numeric in E1314 / R1314C5: got 'NA'”\n",
      "Warning message:\n",
      "“Expecting numeric in E1315 / R1315C5: got 'NA'”\n",
      "Warning message:\n",
      "“Expecting numeric in E1316 / R1316C5: got 'NA'”\n",
      "Warning message:\n",
      "“Expecting numeric in E1317 / R1317C5: got 'NA'”\n",
      "Warning message:\n",
      "“Expecting numeric in E1318 / R1318C5: got 'NA'”\n",
      "Warning message:\n",
      "“Expecting numeric in E1319 / R1319C5: got 'NA'”\n",
      "Warning message:\n",
      "“Expecting numeric in E1320 / R1320C5: got 'NA'”\n",
      "Warning message:\n",
      "“Expecting numeric in E1321 / R1321C5: got 'NA'”\n",
      "Warning message:\n",
      "“Expecting numeric in E1322 / R1322C5: got 'NA'”\n",
      "Warning message:\n",
      "“Expecting numeric in E1323 / R1323C5: got 'NA'”\n",
      "Warning message:\n",
      "“Expecting numeric in E1324 / R1324C5: got 'NA'”\n",
      "Warning message:\n",
      "“Expecting numeric in E1325 / R1325C5: got 'NA'”\n",
      "Warning message:\n",
      "“Expecting numeric in E1326 / R1326C5: got 'NA'”\n",
      "Warning message:\n",
      "“Expecting numeric in E1327 / R1327C5: got 'NA'”\n"
     ]
    }
   ],
   "source": [
    "Output = ('/Users/alexis/Library/CloudStorage/OneDrive-UniversityofNorthCarolinaatChapelHill/CEMALB_DataAnalysisPM/Projects/P1011. Emission Mixtures/P1011.3. Analyses/P1011.3.1. Data Processing/Output')\n",
    "cur_date = \"090123\"\n",
    "\n",
    "library(readxl)\n",
    "library(openxlsx)\n",
    "library(tidyverse)\n",
    "library(reshape2)\n",
    "library(data.table)\n",
    "library(factoextra)\n",
    "#library(imputeLCMD)\n",
    "#library(vsn)\n",
    "\n",
    "# reading in file\n",
    "cytokine_df = data.frame(read_excel(\"Input/Cytokine_Data_050423.xlsx\", sheet = 2)) %>%\n",
    "    rename(Dose = Condensate_Conc) %>%\n",
    "    # only interested in doses 1 and 25\n",
    "    filter(Dose %in% c(1,25))"
   ]
  },
  {
   "cell_type": "code",
   "execution_count": 2,
   "id": "932490ed",
   "metadata": {},
   "outputs": [
    {
     "data": {
      "text/html": [
       "<table class=\"dataframe\">\n",
       "<caption>A data.frame: 6 × 8</caption>\n",
       "<thead>\n",
       "\t<tr><th></th><th scope=col>Subject_No</th><th scope=col>Subject_ID</th><th scope=col>Condensate</th><th scope=col>Burn_Condition</th><th scope=col>Dose</th><th scope=col>Cytokine</th><th scope=col>Cytokine_Conc</th><th scope=col>Cytokine_Conc_pslog2</th></tr>\n",
       "\t<tr><th></th><th scope=col>&lt;dbl&gt;</th><th scope=col>&lt;chr&gt;</th><th scope=col>&lt;chr&gt;</th><th scope=col>&lt;chr&gt;</th><th scope=col>&lt;dbl&gt;</th><th scope=col>&lt;chr&gt;</th><th scope=col>&lt;dbl&gt;</th><th scope=col>&lt;dbl&gt;</th></tr>\n",
       "</thead>\n",
       "<tbody>\n",
       "\t<tr><th scope=row>1</th><td>1</td><td>F_1</td><td>C</td><td>F</td><td> 1</td><td>Eotaxin3</td><td>21.750958</td><td>4.507855</td></tr>\n",
       "\t<tr><th scope=row>2</th><td>1</td><td>F_1</td><td>C</td><td>F</td><td>25</td><td>Eotaxin3</td><td>11.624224</td><td>3.658123</td></tr>\n",
       "\t<tr><th scope=row>3</th><td>1</td><td>F_1</td><td>C</td><td>S</td><td> 1</td><td>Eotaxin3</td><td>22.798534</td><td>4.572801</td></tr>\n",
       "\t<tr><th scope=row>4</th><td>1</td><td>F_1</td><td>C</td><td>S</td><td>25</td><td>Eotaxin3</td><td>10.342567</td><td>3.503675</td></tr>\n",
       "\t<tr><th scope=row>5</th><td>1</td><td>F_1</td><td>C</td><td>F</td><td> 1</td><td>GMCSF   </td><td> 1.910502</td><td>1.541268</td></tr>\n",
       "\t<tr><th scope=row>6</th><td>1</td><td>F_1</td><td>C</td><td>F</td><td>25</td><td>GMCSF   </td><td> 8.931102</td><td>3.311954</td></tr>\n",
       "</tbody>\n",
       "</table>\n"
      ],
      "text/latex": [
       "A data.frame: 6 × 8\n",
       "\\begin{tabular}{r|llllllll}\n",
       "  & Subject\\_No & Subject\\_ID & Condensate & Burn\\_Condition & Dose & Cytokine & Cytokine\\_Conc & Cytokine\\_Conc\\_pslog2\\\\\n",
       "  & <dbl> & <chr> & <chr> & <chr> & <dbl> & <chr> & <dbl> & <dbl>\\\\\n",
       "\\hline\n",
       "\t1 & 1 & F\\_1 & C & F &  1 & Eotaxin3 & 21.750958 & 4.507855\\\\\n",
       "\t2 & 1 & F\\_1 & C & F & 25 & Eotaxin3 & 11.624224 & 3.658123\\\\\n",
       "\t3 & 1 & F\\_1 & C & S &  1 & Eotaxin3 & 22.798534 & 4.572801\\\\\n",
       "\t4 & 1 & F\\_1 & C & S & 25 & Eotaxin3 & 10.342567 & 3.503675\\\\\n",
       "\t5 & 1 & F\\_1 & C & F &  1 & GMCSF    &  1.910502 & 1.541268\\\\\n",
       "\t6 & 1 & F\\_1 & C & F & 25 & GMCSF    &  8.931102 & 3.311954\\\\\n",
       "\\end{tabular}\n"
      ],
      "text/markdown": [
       "\n",
       "A data.frame: 6 × 8\n",
       "\n",
       "| <!--/--> | Subject_No &lt;dbl&gt; | Subject_ID &lt;chr&gt; | Condensate &lt;chr&gt; | Burn_Condition &lt;chr&gt; | Dose &lt;dbl&gt; | Cytokine &lt;chr&gt; | Cytokine_Conc &lt;dbl&gt; | Cytokine_Conc_pslog2 &lt;dbl&gt; |\n",
       "|---|---|---|---|---|---|---|---|---|\n",
       "| 1 | 1 | F_1 | C | F |  1 | Eotaxin3 | 21.750958 | 4.507855 |\n",
       "| 2 | 1 | F_1 | C | F | 25 | Eotaxin3 | 11.624224 | 3.658123 |\n",
       "| 3 | 1 | F_1 | C | S |  1 | Eotaxin3 | 22.798534 | 4.572801 |\n",
       "| 4 | 1 | F_1 | C | S | 25 | Eotaxin3 | 10.342567 | 3.503675 |\n",
       "| 5 | 1 | F_1 | C | F |  1 | GMCSF    |  1.910502 | 1.541268 |\n",
       "| 6 | 1 | F_1 | C | F | 25 | GMCSF    |  8.931102 | 3.311954 |\n",
       "\n"
      ],
      "text/plain": [
       "  Subject_No Subject_ID Condensate Burn_Condition Dose Cytokine Cytokine_Conc\n",
       "1 1          F_1        C          F               1   Eotaxin3 21.750958    \n",
       "2 1          F_1        C          F              25   Eotaxin3 11.624224    \n",
       "3 1          F_1        C          S               1   Eotaxin3 22.798534    \n",
       "4 1          F_1        C          S              25   Eotaxin3 10.342567    \n",
       "5 1          F_1        C          F               1   GMCSF     1.910502    \n",
       "6 1          F_1        C          F              25   GMCSF     8.931102    \n",
       "  Cytokine_Conc_pslog2\n",
       "1 4.507855            \n",
       "2 3.658123            \n",
       "3 4.572801            \n",
       "4 3.503675            \n",
       "5 1.541268            \n",
       "6 3.311954            "
      ]
     },
     "metadata": {},
     "output_type": "display_data"
    }
   ],
   "source": [
    "head(cytokine_df)"
   ]
  },
  {
   "cell_type": "code",
   "execution_count": 3,
   "id": "074dab73",
   "metadata": {},
   "outputs": [
    {
     "data": {
      "text/plain": [
       "   Mode   FALSE \n",
       "logical     816 "
      ]
     },
     "metadata": {},
     "output_type": "display_data"
    }
   ],
   "source": [
    "# checking for duplicates\n",
    "Dups = duplicated(cytokine_df)\n",
    "summary(Dups)"
   ]
  },
  {
   "cell_type": "markdown",
   "id": "9d7ae357",
   "metadata": {},
   "source": [
    "No duplicates. Now creating dataframes that are formatted for proceeding code, as well as DESeq2 functions."
   ]
  },
  {
   "cell_type": "code",
   "execution_count": 4,
   "id": "218c0b7b",
   "metadata": {},
   "outputs": [
    {
     "data": {
      "text/html": [
       "<table class=\"dataframe\">\n",
       "<caption>A data.frame: 6 × 5</caption>\n",
       "<thead>\n",
       "\t<tr><th></th><th scope=col>SampleID</th><th scope=col>Subject_No</th><th scope=col>Subject_ID</th><th scope=col>Condensate</th><th scope=col>Burn_Condition</th></tr>\n",
       "\t<tr><th></th><th scope=col>&lt;chr&gt;</th><th scope=col>&lt;dbl&gt;</th><th scope=col>&lt;chr&gt;</th><th scope=col>&lt;chr&gt;</th><th scope=col>&lt;chr&gt;</th></tr>\n",
       "</thead>\n",
       "<tbody>\n",
       "\t<tr><th scope=row>1</th><td>1_C_F</td><td>1</td><td>F_1</td><td>C</td><td>F</td></tr>\n",
       "\t<tr><th scope=row>2</th><td>1_C_S</td><td>1</td><td>F_1</td><td>C</td><td>S</td></tr>\n",
       "\t<tr><th scope=row>3</th><td>2_C_F</td><td>2</td><td>M_2</td><td>C</td><td>F</td></tr>\n",
       "\t<tr><th scope=row>4</th><td>2_C_S</td><td>2</td><td>M_2</td><td>C</td><td>S</td></tr>\n",
       "\t<tr><th scope=row>5</th><td>3_C_F</td><td>3</td><td>M_3</td><td>C</td><td>F</td></tr>\n",
       "\t<tr><th scope=row>6</th><td>3_C_S</td><td>3</td><td>M_3</td><td>C</td><td>S</td></tr>\n",
       "</tbody>\n",
       "</table>\n"
      ],
      "text/latex": [
       "A data.frame: 6 × 5\n",
       "\\begin{tabular}{r|lllll}\n",
       "  & SampleID & Subject\\_No & Subject\\_ID & Condensate & Burn\\_Condition\\\\\n",
       "  & <chr> & <dbl> & <chr> & <chr> & <chr>\\\\\n",
       "\\hline\n",
       "\t1 & 1\\_C\\_F & 1 & F\\_1 & C & F\\\\\n",
       "\t2 & 1\\_C\\_S & 1 & F\\_1 & C & S\\\\\n",
       "\t3 & 2\\_C\\_F & 2 & M\\_2 & C & F\\\\\n",
       "\t4 & 2\\_C\\_S & 2 & M\\_2 & C & S\\\\\n",
       "\t5 & 3\\_C\\_F & 3 & M\\_3 & C & F\\\\\n",
       "\t6 & 3\\_C\\_S & 3 & M\\_3 & C & S\\\\\n",
       "\\end{tabular}\n"
      ],
      "text/markdown": [
       "\n",
       "A data.frame: 6 × 5\n",
       "\n",
       "| <!--/--> | SampleID &lt;chr&gt; | Subject_No &lt;dbl&gt; | Subject_ID &lt;chr&gt; | Condensate &lt;chr&gt; | Burn_Condition &lt;chr&gt; |\n",
       "|---|---|---|---|---|---|\n",
       "| 1 | 1_C_F | 1 | F_1 | C | F |\n",
       "| 2 | 1_C_S | 1 | F_1 | C | S |\n",
       "| 3 | 2_C_F | 2 | M_2 | C | F |\n",
       "| 4 | 2_C_S | 2 | M_2 | C | S |\n",
       "| 5 | 3_C_F | 3 | M_3 | C | F |\n",
       "| 6 | 3_C_S | 3 | M_3 | C | S |\n",
       "\n"
      ],
      "text/plain": [
       "  SampleID Subject_No Subject_ID Condensate Burn_Condition\n",
       "1 1_C_F    1          F_1        C          F             \n",
       "2 1_C_S    1          F_1        C          S             \n",
       "3 2_C_F    2          M_2        C          F             \n",
       "4 2_C_S    2          M_2        C          S             \n",
       "5 3_C_F    3          M_3        C          F             \n",
       "6 3_C_S    3          M_3        C          S             "
      ]
     },
     "metadata": {},
     "output_type": "display_data"
    }
   ],
   "source": [
    "# first creating a `coldata` object that contains all the metadata for each sample\n",
    "coldata = unique(cytokine_df[,1:5]) %>%\n",
    "    filter(Dose == 1) %>%\n",
    "    select(-Dose) %>%\n",
    "    # creating sample ids\n",
    "    unite(\"SampleID\", c(colnames(cytokine_df))[c(1,3,4)], sep = \"_\", remove = FALSE)\n",
    "head(coldata)"
   ]
  },
  {
   "cell_type": "code",
   "execution_count": 5,
   "id": "7e122afe",
   "metadata": {},
   "outputs": [
    {
     "data": {
      "text/html": [
       "<table class=\"dataframe\">\n",
       "<caption>A data.frame: 6 × 24</caption>\n",
       "<thead>\n",
       "\t<tr><th></th><th scope=col>1_C_F</th><th scope=col>1_C_S</th><th scope=col>2_C_F</th><th scope=col>2_C_S</th><th scope=col>3_C_F</th><th scope=col>3_C_S</th><th scope=col>4_C_F</th><th scope=col>4_C_S</th><th scope=col>5_C_F</th><th scope=col>5_C_S</th><th scope=col>⋯</th><th scope=col>2_P_F</th><th scope=col>2_P_S</th><th scope=col>3_P_F</th><th scope=col>3_P_S</th><th scope=col>4_P_F</th><th scope=col>4_P_S</th><th scope=col>5_P_F</th><th scope=col>5_P_S</th><th scope=col>6_P_F</th><th scope=col>6_P_S</th></tr>\n",
       "\t<tr><th></th><th scope=col>&lt;dbl&gt;</th><th scope=col>&lt;dbl&gt;</th><th scope=col>&lt;dbl&gt;</th><th scope=col>&lt;dbl&gt;</th><th scope=col>&lt;dbl&gt;</th><th scope=col>&lt;dbl&gt;</th><th scope=col>&lt;dbl&gt;</th><th scope=col>&lt;dbl&gt;</th><th scope=col>&lt;dbl&gt;</th><th scope=col>&lt;dbl&gt;</th><th scope=col>⋯</th><th scope=col>&lt;dbl&gt;</th><th scope=col>&lt;dbl&gt;</th><th scope=col>&lt;dbl&gt;</th><th scope=col>&lt;dbl&gt;</th><th scope=col>&lt;dbl&gt;</th><th scope=col>&lt;dbl&gt;</th><th scope=col>&lt;dbl&gt;</th><th scope=col>&lt;dbl&gt;</th><th scope=col>&lt;dbl&gt;</th><th scope=col>&lt;dbl&gt;</th></tr>\n",
       "</thead>\n",
       "<tbody>\n",
       "\t<tr><th scope=row>Eotaxin3</th><td>21.7509578</td><td>22.79853427</td><td> 9.4828925</td><td>12.6741020</td><td>18.4398691</td><td>16.4146637</td><td> 4.4829115</td><td> 9.5209271</td><td> 7.573477</td><td> 3.6296576</td><td>⋯</td><td> 8.2936229</td><td>18.6520082</td><td>15.0899717</td><td>16.7957367</td><td> 4.067179</td><td>207.438843</td><td> 6.7991874</td><td> 2.5391094</td><td> 3.2070731</td><td> 7.193271</td></tr>\n",
       "\t<tr><th scope=row>GMCSF</th><td> 1.9105023</td><td> 1.42736197</td><td> 1.6934569</td><td> 1.3916790</td><td> 8.2429786</td><td> 6.0218778</td><td> 8.3059936</td><td>10.5290902</td><td> 2.452392</td><td> 2.1404754</td><td>⋯</td><td> 1.9678472</td><td> 1.8978532</td><td> 3.3200535</td><td> 8.9756119</td><td> 6.072230</td><td>  9.643617</td><td> 0.9946222</td><td> 2.0659819</td><td> 3.8135098</td><td> 7.172952</td></tr>\n",
       "\t<tr><th scope=row>IL10</th><td> 0.3885503</td><td> 0.05697711</td><td> 0.2349819</td><td> 0.3546597</td><td> 0.3163962</td><td> 0.3140775</td><td> 1.3321109</td><td> 1.9886760</td><td> 1.600229</td><td> 1.8291945</td><td>⋯</td><td> 0.3630145</td><td> 0.3224251</td><td> 0.1988852</td><td> 0.3139541</td><td> 3.379502</td><td>  1.462555</td><td> 0.9236629</td><td> 1.2991277</td><td> 2.9059010</td><td> 3.019063</td></tr>\n",
       "\t<tr><th scope=row>IL13</th><td>14.5879538</td><td> 2.50176460</td><td>12.4418665</td><td> 8.7577660</td><td>25.9946091</td><td>27.6393773</td><td>35.5467587</td><td>27.2435905</td><td>28.484812</td><td>51.3058197</td><td>⋯</td><td>25.0783598</td><td>18.6455434</td><td>20.0949470</td><td>26.4132313</td><td>47.924392</td><td> 34.241897</td><td>30.4906672</td><td>36.9444166</td><td>36.2466305</td><td>49.057905</td></tr>\n",
       "\t<tr><th scope=row>IL15</th><td> 0.3237601</td><td> 0.30452873</td><td> 0.3412690</td><td> 0.4024510</td><td> 1.8320968</td><td> 1.6673361</td><td> 0.4390184</td><td> 0.4389947</td><td> 2.283583</td><td> 2.0461378</td><td>⋯</td><td> 0.2605374</td><td> 0.5416367</td><td> 0.7452637</td><td> 1.4394709</td><td> 0.448145</td><td>  0.414656</td><td> 0.9462201</td><td> 2.0408351</td><td> 0.9859481</td><td> 1.998325</td></tr>\n",
       "\t<tr><th scope=row>IL1a</th><td> 1.1257898</td><td> 0.37538110</td><td> 1.7955959</td><td> 0.4593748</td><td> 0.9815676</td><td> 1.6244131</td><td> 0.5076990</td><td> 1.8242721</td><td> 2.685869</td><td> 0.7289766</td><td>⋯</td><td> 1.3560527</td><td> 1.2029431</td><td> 0.5410433</td><td> 1.5285507</td><td> 1.189849</td><td>  2.101779</td><td> 0.2647102</td><td> 0.8654108</td><td> 2.4299206</td><td> 1.527494</td></tr>\n",
       "</tbody>\n",
       "</table>\n"
      ],
      "text/latex": [
       "A data.frame: 6 × 24\n",
       "\\begin{tabular}{r|lllllllllllllllllllll}\n",
       "  & 1\\_C\\_F & 1\\_C\\_S & 2\\_C\\_F & 2\\_C\\_S & 3\\_C\\_F & 3\\_C\\_S & 4\\_C\\_F & 4\\_C\\_S & 5\\_C\\_F & 5\\_C\\_S & ⋯ & 2\\_P\\_F & 2\\_P\\_S & 3\\_P\\_F & 3\\_P\\_S & 4\\_P\\_F & 4\\_P\\_S & 5\\_P\\_F & 5\\_P\\_S & 6\\_P\\_F & 6\\_P\\_S\\\\\n",
       "  & <dbl> & <dbl> & <dbl> & <dbl> & <dbl> & <dbl> & <dbl> & <dbl> & <dbl> & <dbl> & ⋯ & <dbl> & <dbl> & <dbl> & <dbl> & <dbl> & <dbl> & <dbl> & <dbl> & <dbl> & <dbl>\\\\\n",
       "\\hline\n",
       "\tEotaxin3 & 21.7509578 & 22.79853427 &  9.4828925 & 12.6741020 & 18.4398691 & 16.4146637 &  4.4829115 &  9.5209271 &  7.573477 &  3.6296576 & ⋯ &  8.2936229 & 18.6520082 & 15.0899717 & 16.7957367 &  4.067179 & 207.438843 &  6.7991874 &  2.5391094 &  3.2070731 &  7.193271\\\\\n",
       "\tGMCSF &  1.9105023 &  1.42736197 &  1.6934569 &  1.3916790 &  8.2429786 &  6.0218778 &  8.3059936 & 10.5290902 &  2.452392 &  2.1404754 & ⋯ &  1.9678472 &  1.8978532 &  3.3200535 &  8.9756119 &  6.072230 &   9.643617 &  0.9946222 &  2.0659819 &  3.8135098 &  7.172952\\\\\n",
       "\tIL10 &  0.3885503 &  0.05697711 &  0.2349819 &  0.3546597 &  0.3163962 &  0.3140775 &  1.3321109 &  1.9886760 &  1.600229 &  1.8291945 & ⋯ &  0.3630145 &  0.3224251 &  0.1988852 &  0.3139541 &  3.379502 &   1.462555 &  0.9236629 &  1.2991277 &  2.9059010 &  3.019063\\\\\n",
       "\tIL13 & 14.5879538 &  2.50176460 & 12.4418665 &  8.7577660 & 25.9946091 & 27.6393773 & 35.5467587 & 27.2435905 & 28.484812 & 51.3058197 & ⋯ & 25.0783598 & 18.6455434 & 20.0949470 & 26.4132313 & 47.924392 &  34.241897 & 30.4906672 & 36.9444166 & 36.2466305 & 49.057905\\\\\n",
       "\tIL15 &  0.3237601 &  0.30452873 &  0.3412690 &  0.4024510 &  1.8320968 &  1.6673361 &  0.4390184 &  0.4389947 &  2.283583 &  2.0461378 & ⋯ &  0.2605374 &  0.5416367 &  0.7452637 &  1.4394709 &  0.448145 &   0.414656 &  0.9462201 &  2.0408351 &  0.9859481 &  1.998325\\\\\n",
       "\tIL1a &  1.1257898 &  0.37538110 &  1.7955959 &  0.4593748 &  0.9815676 &  1.6244131 &  0.5076990 &  1.8242721 &  2.685869 &  0.7289766 & ⋯ &  1.3560527 &  1.2029431 &  0.5410433 &  1.5285507 &  1.189849 &   2.101779 &  0.2647102 &  0.8654108 &  2.4299206 &  1.527494\\\\\n",
       "\\end{tabular}\n"
      ],
      "text/markdown": [
       "\n",
       "A data.frame: 6 × 24\n",
       "\n",
       "| <!--/--> | 1_C_F &lt;dbl&gt; | 1_C_S &lt;dbl&gt; | 2_C_F &lt;dbl&gt; | 2_C_S &lt;dbl&gt; | 3_C_F &lt;dbl&gt; | 3_C_S &lt;dbl&gt; | 4_C_F &lt;dbl&gt; | 4_C_S &lt;dbl&gt; | 5_C_F &lt;dbl&gt; | 5_C_S &lt;dbl&gt; | ⋯ ⋯ | 2_P_F &lt;dbl&gt; | 2_P_S &lt;dbl&gt; | 3_P_F &lt;dbl&gt; | 3_P_S &lt;dbl&gt; | 4_P_F &lt;dbl&gt; | 4_P_S &lt;dbl&gt; | 5_P_F &lt;dbl&gt; | 5_P_S &lt;dbl&gt; | 6_P_F &lt;dbl&gt; | 6_P_S &lt;dbl&gt; |\n",
       "|---|---|---|---|---|---|---|---|---|---|---|---|---|---|---|---|---|---|---|---|---|---|\n",
       "| Eotaxin3 | 21.7509578 | 22.79853427 |  9.4828925 | 12.6741020 | 18.4398691 | 16.4146637 |  4.4829115 |  9.5209271 |  7.573477 |  3.6296576 | ⋯ |  8.2936229 | 18.6520082 | 15.0899717 | 16.7957367 |  4.067179 | 207.438843 |  6.7991874 |  2.5391094 |  3.2070731 |  7.193271 |\n",
       "| GMCSF |  1.9105023 |  1.42736197 |  1.6934569 |  1.3916790 |  8.2429786 |  6.0218778 |  8.3059936 | 10.5290902 |  2.452392 |  2.1404754 | ⋯ |  1.9678472 |  1.8978532 |  3.3200535 |  8.9756119 |  6.072230 |   9.643617 |  0.9946222 |  2.0659819 |  3.8135098 |  7.172952 |\n",
       "| IL10 |  0.3885503 |  0.05697711 |  0.2349819 |  0.3546597 |  0.3163962 |  0.3140775 |  1.3321109 |  1.9886760 |  1.600229 |  1.8291945 | ⋯ |  0.3630145 |  0.3224251 |  0.1988852 |  0.3139541 |  3.379502 |   1.462555 |  0.9236629 |  1.2991277 |  2.9059010 |  3.019063 |\n",
       "| IL13 | 14.5879538 |  2.50176460 | 12.4418665 |  8.7577660 | 25.9946091 | 27.6393773 | 35.5467587 | 27.2435905 | 28.484812 | 51.3058197 | ⋯ | 25.0783598 | 18.6455434 | 20.0949470 | 26.4132313 | 47.924392 |  34.241897 | 30.4906672 | 36.9444166 | 36.2466305 | 49.057905 |\n",
       "| IL15 |  0.3237601 |  0.30452873 |  0.3412690 |  0.4024510 |  1.8320968 |  1.6673361 |  0.4390184 |  0.4389947 |  2.283583 |  2.0461378 | ⋯ |  0.2605374 |  0.5416367 |  0.7452637 |  1.4394709 |  0.448145 |   0.414656 |  0.9462201 |  2.0408351 |  0.9859481 |  1.998325 |\n",
       "| IL1a |  1.1257898 |  0.37538110 |  1.7955959 |  0.4593748 |  0.9815676 |  1.6244131 |  0.5076990 |  1.8242721 |  2.685869 |  0.7289766 | ⋯ |  1.3560527 |  1.2029431 |  0.5410433 |  1.5285507 |  1.189849 |   2.101779 |  0.2647102 |  0.8654108 |  2.4299206 |  1.527494 |\n",
       "\n"
      ],
      "text/plain": [
       "         1_C_F      1_C_S       2_C_F      2_C_S      3_C_F      3_C_S     \n",
       "Eotaxin3 21.7509578 22.79853427  9.4828925 12.6741020 18.4398691 16.4146637\n",
       "GMCSF     1.9105023  1.42736197  1.6934569  1.3916790  8.2429786  6.0218778\n",
       "IL10      0.3885503  0.05697711  0.2349819  0.3546597  0.3163962  0.3140775\n",
       "IL13     14.5879538  2.50176460 12.4418665  8.7577660 25.9946091 27.6393773\n",
       "IL15      0.3237601  0.30452873  0.3412690  0.4024510  1.8320968  1.6673361\n",
       "IL1a      1.1257898  0.37538110  1.7955959  0.4593748  0.9815676  1.6244131\n",
       "         4_C_F      4_C_S      5_C_F     5_C_S      ⋯ 2_P_F      2_P_S     \n",
       "Eotaxin3  4.4829115  9.5209271  7.573477  3.6296576 ⋯  8.2936229 18.6520082\n",
       "GMCSF     8.3059936 10.5290902  2.452392  2.1404754 ⋯  1.9678472  1.8978532\n",
       "IL10      1.3321109  1.9886760  1.600229  1.8291945 ⋯  0.3630145  0.3224251\n",
       "IL13     35.5467587 27.2435905 28.484812 51.3058197 ⋯ 25.0783598 18.6455434\n",
       "IL15      0.4390184  0.4389947  2.283583  2.0461378 ⋯  0.2605374  0.5416367\n",
       "IL1a      0.5076990  1.8242721  2.685869  0.7289766 ⋯  1.3560527  1.2029431\n",
       "         3_P_F      3_P_S      4_P_F     4_P_S      5_P_F      5_P_S     \n",
       "Eotaxin3 15.0899717 16.7957367  4.067179 207.438843  6.7991874  2.5391094\n",
       "GMCSF     3.3200535  8.9756119  6.072230   9.643617  0.9946222  2.0659819\n",
       "IL10      0.1988852  0.3139541  3.379502   1.462555  0.9236629  1.2991277\n",
       "IL13     20.0949470 26.4132313 47.924392  34.241897 30.4906672 36.9444166\n",
       "IL15      0.7452637  1.4394709  0.448145   0.414656  0.9462201  2.0408351\n",
       "IL1a      0.5410433  1.5285507  1.189849   2.101779  0.2647102  0.8654108\n",
       "         6_P_F      6_P_S    \n",
       "Eotaxin3  3.2070731  7.193271\n",
       "GMCSF     3.8135098  7.172952\n",
       "IL10      2.9059010  3.019063\n",
       "IL13     36.2466305 49.057905\n",
       "IL15      0.9859481  1.998325\n",
       "IL1a      2.4299206  1.527494"
      ]
     },
     "metadata": {},
     "output_type": "display_data"
    }
   ],
   "source": [
    "# making a `countdata` obj that contains cytokines as rows and sample names as cols\n",
    "countdata = cytokine_df %>%\n",
    "    filter(Dose == 1) %>%\n",
    "    select(-Dose) %>%\n",
    "# creating sample ids\n",
    "    unite(\"SampleID\", c(colnames(cytokine_df)[c(1,3:4)]), sep = \"_\") %>%\n",
    "    select(-c(\"Cytokine_Conc_pslog2\", \"Subject_ID\")) %>%\n",
    "    pivot_wider(names_from = \"SampleID\", values_from = \"Cytokine_Conc\") %>%\n",
    "    column_to_rownames(var = \"Cytokine\")\n",
    "\n",
    "head(countdata)"
   ]
  },
  {
   "cell_type": "code",
   "execution_count": 6,
   "id": "8a3a60c7",
   "metadata": {},
   "outputs": [
    {
     "data": {
      "text/plain": [
       "   Mode   FALSE \n",
       "logical      24 "
      ]
     },
     "metadata": {},
     "output_type": "display_data"
    },
    {
     "data": {
      "text/plain": [
       "   Mode   FALSE \n",
       "logical      17 "
      ]
     },
     "metadata": {},
     "output_type": "display_data"
    },
    {
     "data": {
      "text/html": [
       "<style>\n",
       ".list-inline {list-style: none; margin:0; padding: 0}\n",
       ".list-inline>li {display: inline-block}\n",
       ".list-inline>li:not(:last-child)::after {content: \"\\00b7\"; padding: 0 .5ex}\n",
       "</style>\n",
       "<ol class=list-inline><li>24</li><li>5</li></ol>\n"
      ],
      "text/latex": [
       "\\begin{enumerate*}\n",
       "\\item 24\n",
       "\\item 5\n",
       "\\end{enumerate*}\n"
      ],
      "text/markdown": [
       "1. 24\n",
       "2. 5\n",
       "\n",
       "\n"
      ],
      "text/plain": [
       "[1] 24  5"
      ]
     },
     "metadata": {},
     "output_type": "display_data"
    },
    {
     "data": {
      "text/html": [
       "<style>\n",
       ".list-inline {list-style: none; margin:0; padding: 0}\n",
       ".list-inline>li {display: inline-block}\n",
       ".list-inline>li:not(:last-child)::after {content: \"\\00b7\"; padding: 0 .5ex}\n",
       "</style>\n",
       "<ol class=list-inline><li>17</li><li>24</li></ol>\n"
      ],
      "text/latex": [
       "\\begin{enumerate*}\n",
       "\\item 17\n",
       "\\item 24\n",
       "\\end{enumerate*}\n"
      ],
      "text/markdown": [
       "1. 17\n",
       "2. 24\n",
       "\n",
       "\n"
      ],
      "text/plain": [
       "[1] 17 24"
      ]
     },
     "metadata": {},
     "output_type": "display_data"
    }
   ],
   "source": [
    "# checking for duplicates\n",
    "summary(duplicated(coldata))\n",
    "summary(duplicated(countdata))\n",
    "\n",
    "# getting dimensions\n",
    "dim(coldata)\n",
    "dim(countdata)"
   ]
  },
  {
   "cell_type": "code",
   "execution_count": 7,
   "id": "1181ef9b",
   "metadata": {},
   "outputs": [
    {
     "data": {
      "text/html": [
       "<table class=\"dataframe\">\n",
       "<caption>A data.frame: 6 × 24</caption>\n",
       "<thead>\n",
       "\t<tr><th></th><th scope=col>1_C_F</th><th scope=col>1_C_S</th><th scope=col>2_C_F</th><th scope=col>2_C_S</th><th scope=col>3_C_F</th><th scope=col>3_C_S</th><th scope=col>4_C_F</th><th scope=col>4_C_S</th><th scope=col>5_C_F</th><th scope=col>5_C_S</th><th scope=col>⋯</th><th scope=col>2_P_F</th><th scope=col>2_P_S</th><th scope=col>3_P_F</th><th scope=col>3_P_S</th><th scope=col>4_P_F</th><th scope=col>4_P_S</th><th scope=col>5_P_F</th><th scope=col>5_P_S</th><th scope=col>6_P_F</th><th scope=col>6_P_S</th></tr>\n",
       "\t<tr><th></th><th scope=col>&lt;dbl&gt;</th><th scope=col>&lt;dbl&gt;</th><th scope=col>&lt;dbl&gt;</th><th scope=col>&lt;dbl&gt;</th><th scope=col>&lt;dbl&gt;</th><th scope=col>&lt;dbl&gt;</th><th scope=col>&lt;dbl&gt;</th><th scope=col>&lt;dbl&gt;</th><th scope=col>&lt;dbl&gt;</th><th scope=col>&lt;dbl&gt;</th><th scope=col>⋯</th><th scope=col>&lt;dbl&gt;</th><th scope=col>&lt;dbl&gt;</th><th scope=col>&lt;dbl&gt;</th><th scope=col>&lt;dbl&gt;</th><th scope=col>&lt;dbl&gt;</th><th scope=col>&lt;dbl&gt;</th><th scope=col>&lt;dbl&gt;</th><th scope=col>&lt;dbl&gt;</th><th scope=col>&lt;dbl&gt;</th><th scope=col>&lt;dbl&gt;</th></tr>\n",
       "</thead>\n",
       "<tbody>\n",
       "\t<tr><th scope=row>Eotaxin3</th><td>21.7509578</td><td>22.79853427</td><td> 9.4828925</td><td>12.6741020</td><td>18.4398691</td><td>16.4146637</td><td> 4.4829115</td><td> 9.5209271</td><td> 7.573477</td><td> 3.6296576</td><td>⋯</td><td> 8.2936229</td><td>18.6520082</td><td>15.0899717</td><td>16.7957367</td><td> 4.067179</td><td>207.438843</td><td> 6.7991874</td><td> 2.5391094</td><td> 3.2070731</td><td> 7.193271</td></tr>\n",
       "\t<tr><th scope=row>GMCSF</th><td> 1.9105023</td><td> 1.42736197</td><td> 1.6934569</td><td> 1.3916790</td><td> 8.2429786</td><td> 6.0218778</td><td> 8.3059936</td><td>10.5290902</td><td> 2.452392</td><td> 2.1404754</td><td>⋯</td><td> 1.9678472</td><td> 1.8978532</td><td> 3.3200535</td><td> 8.9756119</td><td> 6.072230</td><td>  9.643617</td><td> 0.9946222</td><td> 2.0659819</td><td> 3.8135098</td><td> 7.172952</td></tr>\n",
       "\t<tr><th scope=row>IL10</th><td> 0.3885503</td><td> 0.05697711</td><td> 0.2349819</td><td> 0.3546597</td><td> 0.3163962</td><td> 0.3140775</td><td> 1.3321109</td><td> 1.9886760</td><td> 1.600229</td><td> 1.8291945</td><td>⋯</td><td> 0.3630145</td><td> 0.3224251</td><td> 0.1988852</td><td> 0.3139541</td><td> 3.379502</td><td>  1.462555</td><td> 0.9236629</td><td> 1.2991277</td><td> 2.9059010</td><td> 3.019063</td></tr>\n",
       "\t<tr><th scope=row>IL13</th><td>14.5879538</td><td> 2.50176460</td><td>12.4418665</td><td> 8.7577660</td><td>25.9946091</td><td>27.6393773</td><td>35.5467587</td><td>27.2435905</td><td>28.484812</td><td>51.3058197</td><td>⋯</td><td>25.0783598</td><td>18.6455434</td><td>20.0949470</td><td>26.4132313</td><td>47.924392</td><td> 34.241897</td><td>30.4906672</td><td>36.9444166</td><td>36.2466305</td><td>49.057905</td></tr>\n",
       "\t<tr><th scope=row>IL15</th><td> 0.3237601</td><td> 0.30452873</td><td> 0.3412690</td><td> 0.4024510</td><td> 1.8320968</td><td> 1.6673361</td><td> 0.4390184</td><td> 0.4389947</td><td> 2.283583</td><td> 2.0461378</td><td>⋯</td><td> 0.2605374</td><td> 0.5416367</td><td> 0.7452637</td><td> 1.4394709</td><td> 0.448145</td><td>  0.414656</td><td> 0.9462201</td><td> 2.0408351</td><td> 0.9859481</td><td> 1.998325</td></tr>\n",
       "\t<tr><th scope=row>IL1a</th><td> 1.1257898</td><td> 0.37538110</td><td> 1.7955959</td><td> 0.4593748</td><td> 0.9815676</td><td> 1.6244131</td><td> 0.5076990</td><td> 1.8242721</td><td> 2.685869</td><td> 0.7289766</td><td>⋯</td><td> 1.3560527</td><td> 1.2029431</td><td> 0.5410433</td><td> 1.5285507</td><td> 1.189849</td><td>  2.101779</td><td> 0.2647102</td><td> 0.8654108</td><td> 2.4299206</td><td> 1.527494</td></tr>\n",
       "</tbody>\n",
       "</table>\n"
      ],
      "text/latex": [
       "A data.frame: 6 × 24\n",
       "\\begin{tabular}{r|lllllllllllllllllllll}\n",
       "  & 1\\_C\\_F & 1\\_C\\_S & 2\\_C\\_F & 2\\_C\\_S & 3\\_C\\_F & 3\\_C\\_S & 4\\_C\\_F & 4\\_C\\_S & 5\\_C\\_F & 5\\_C\\_S & ⋯ & 2\\_P\\_F & 2\\_P\\_S & 3\\_P\\_F & 3\\_P\\_S & 4\\_P\\_F & 4\\_P\\_S & 5\\_P\\_F & 5\\_P\\_S & 6\\_P\\_F & 6\\_P\\_S\\\\\n",
       "  & <dbl> & <dbl> & <dbl> & <dbl> & <dbl> & <dbl> & <dbl> & <dbl> & <dbl> & <dbl> & ⋯ & <dbl> & <dbl> & <dbl> & <dbl> & <dbl> & <dbl> & <dbl> & <dbl> & <dbl> & <dbl>\\\\\n",
       "\\hline\n",
       "\tEotaxin3 & 21.7509578 & 22.79853427 &  9.4828925 & 12.6741020 & 18.4398691 & 16.4146637 &  4.4829115 &  9.5209271 &  7.573477 &  3.6296576 & ⋯ &  8.2936229 & 18.6520082 & 15.0899717 & 16.7957367 &  4.067179 & 207.438843 &  6.7991874 &  2.5391094 &  3.2070731 &  7.193271\\\\\n",
       "\tGMCSF &  1.9105023 &  1.42736197 &  1.6934569 &  1.3916790 &  8.2429786 &  6.0218778 &  8.3059936 & 10.5290902 &  2.452392 &  2.1404754 & ⋯ &  1.9678472 &  1.8978532 &  3.3200535 &  8.9756119 &  6.072230 &   9.643617 &  0.9946222 &  2.0659819 &  3.8135098 &  7.172952\\\\\n",
       "\tIL10 &  0.3885503 &  0.05697711 &  0.2349819 &  0.3546597 &  0.3163962 &  0.3140775 &  1.3321109 &  1.9886760 &  1.600229 &  1.8291945 & ⋯ &  0.3630145 &  0.3224251 &  0.1988852 &  0.3139541 &  3.379502 &   1.462555 &  0.9236629 &  1.2991277 &  2.9059010 &  3.019063\\\\\n",
       "\tIL13 & 14.5879538 &  2.50176460 & 12.4418665 &  8.7577660 & 25.9946091 & 27.6393773 & 35.5467587 & 27.2435905 & 28.484812 & 51.3058197 & ⋯ & 25.0783598 & 18.6455434 & 20.0949470 & 26.4132313 & 47.924392 &  34.241897 & 30.4906672 & 36.9444166 & 36.2466305 & 49.057905\\\\\n",
       "\tIL15 &  0.3237601 &  0.30452873 &  0.3412690 &  0.4024510 &  1.8320968 &  1.6673361 &  0.4390184 &  0.4389947 &  2.283583 &  2.0461378 & ⋯ &  0.2605374 &  0.5416367 &  0.7452637 &  1.4394709 &  0.448145 &   0.414656 &  0.9462201 &  2.0408351 &  0.9859481 &  1.998325\\\\\n",
       "\tIL1a &  1.1257898 &  0.37538110 &  1.7955959 &  0.4593748 &  0.9815676 &  1.6244131 &  0.5076990 &  1.8242721 &  2.685869 &  0.7289766 & ⋯ &  1.3560527 &  1.2029431 &  0.5410433 &  1.5285507 &  1.189849 &   2.101779 &  0.2647102 &  0.8654108 &  2.4299206 &  1.527494\\\\\n",
       "\\end{tabular}\n"
      ],
      "text/markdown": [
       "\n",
       "A data.frame: 6 × 24\n",
       "\n",
       "| <!--/--> | 1_C_F &lt;dbl&gt; | 1_C_S &lt;dbl&gt; | 2_C_F &lt;dbl&gt; | 2_C_S &lt;dbl&gt; | 3_C_F &lt;dbl&gt; | 3_C_S &lt;dbl&gt; | 4_C_F &lt;dbl&gt; | 4_C_S &lt;dbl&gt; | 5_C_F &lt;dbl&gt; | 5_C_S &lt;dbl&gt; | ⋯ ⋯ | 2_P_F &lt;dbl&gt; | 2_P_S &lt;dbl&gt; | 3_P_F &lt;dbl&gt; | 3_P_S &lt;dbl&gt; | 4_P_F &lt;dbl&gt; | 4_P_S &lt;dbl&gt; | 5_P_F &lt;dbl&gt; | 5_P_S &lt;dbl&gt; | 6_P_F &lt;dbl&gt; | 6_P_S &lt;dbl&gt; |\n",
       "|---|---|---|---|---|---|---|---|---|---|---|---|---|---|---|---|---|---|---|---|---|---|\n",
       "| Eotaxin3 | 21.7509578 | 22.79853427 |  9.4828925 | 12.6741020 | 18.4398691 | 16.4146637 |  4.4829115 |  9.5209271 |  7.573477 |  3.6296576 | ⋯ |  8.2936229 | 18.6520082 | 15.0899717 | 16.7957367 |  4.067179 | 207.438843 |  6.7991874 |  2.5391094 |  3.2070731 |  7.193271 |\n",
       "| GMCSF |  1.9105023 |  1.42736197 |  1.6934569 |  1.3916790 |  8.2429786 |  6.0218778 |  8.3059936 | 10.5290902 |  2.452392 |  2.1404754 | ⋯ |  1.9678472 |  1.8978532 |  3.3200535 |  8.9756119 |  6.072230 |   9.643617 |  0.9946222 |  2.0659819 |  3.8135098 |  7.172952 |\n",
       "| IL10 |  0.3885503 |  0.05697711 |  0.2349819 |  0.3546597 |  0.3163962 |  0.3140775 |  1.3321109 |  1.9886760 |  1.600229 |  1.8291945 | ⋯ |  0.3630145 |  0.3224251 |  0.1988852 |  0.3139541 |  3.379502 |   1.462555 |  0.9236629 |  1.2991277 |  2.9059010 |  3.019063 |\n",
       "| IL13 | 14.5879538 |  2.50176460 | 12.4418665 |  8.7577660 | 25.9946091 | 27.6393773 | 35.5467587 | 27.2435905 | 28.484812 | 51.3058197 | ⋯ | 25.0783598 | 18.6455434 | 20.0949470 | 26.4132313 | 47.924392 |  34.241897 | 30.4906672 | 36.9444166 | 36.2466305 | 49.057905 |\n",
       "| IL15 |  0.3237601 |  0.30452873 |  0.3412690 |  0.4024510 |  1.8320968 |  1.6673361 |  0.4390184 |  0.4389947 |  2.283583 |  2.0461378 | ⋯ |  0.2605374 |  0.5416367 |  0.7452637 |  1.4394709 |  0.448145 |   0.414656 |  0.9462201 |  2.0408351 |  0.9859481 |  1.998325 |\n",
       "| IL1a |  1.1257898 |  0.37538110 |  1.7955959 |  0.4593748 |  0.9815676 |  1.6244131 |  0.5076990 |  1.8242721 |  2.685869 |  0.7289766 | ⋯ |  1.3560527 |  1.2029431 |  0.5410433 |  1.5285507 |  1.189849 |   2.101779 |  0.2647102 |  0.8654108 |  2.4299206 |  1.527494 |\n",
       "\n"
      ],
      "text/plain": [
       "         1_C_F      1_C_S       2_C_F      2_C_S      3_C_F      3_C_S     \n",
       "Eotaxin3 21.7509578 22.79853427  9.4828925 12.6741020 18.4398691 16.4146637\n",
       "GMCSF     1.9105023  1.42736197  1.6934569  1.3916790  8.2429786  6.0218778\n",
       "IL10      0.3885503  0.05697711  0.2349819  0.3546597  0.3163962  0.3140775\n",
       "IL13     14.5879538  2.50176460 12.4418665  8.7577660 25.9946091 27.6393773\n",
       "IL15      0.3237601  0.30452873  0.3412690  0.4024510  1.8320968  1.6673361\n",
       "IL1a      1.1257898  0.37538110  1.7955959  0.4593748  0.9815676  1.6244131\n",
       "         4_C_F      4_C_S      5_C_F     5_C_S      ⋯ 2_P_F      2_P_S     \n",
       "Eotaxin3  4.4829115  9.5209271  7.573477  3.6296576 ⋯  8.2936229 18.6520082\n",
       "GMCSF     8.3059936 10.5290902  2.452392  2.1404754 ⋯  1.9678472  1.8978532\n",
       "IL10      1.3321109  1.9886760  1.600229  1.8291945 ⋯  0.3630145  0.3224251\n",
       "IL13     35.5467587 27.2435905 28.484812 51.3058197 ⋯ 25.0783598 18.6455434\n",
       "IL15      0.4390184  0.4389947  2.283583  2.0461378 ⋯  0.2605374  0.5416367\n",
       "IL1a      0.5076990  1.8242721  2.685869  0.7289766 ⋯  1.3560527  1.2029431\n",
       "         3_P_F      3_P_S      4_P_F     4_P_S      5_P_F      5_P_S     \n",
       "Eotaxin3 15.0899717 16.7957367  4.067179 207.438843  6.7991874  2.5391094\n",
       "GMCSF     3.3200535  8.9756119  6.072230   9.643617  0.9946222  2.0659819\n",
       "IL10      0.1988852  0.3139541  3.379502   1.462555  0.9236629  1.2991277\n",
       "IL13     20.0949470 26.4132313 47.924392  34.241897 30.4906672 36.9444166\n",
       "IL15      0.7452637  1.4394709  0.448145   0.414656  0.9462201  2.0408351\n",
       "IL1a      0.5410433  1.5285507  1.189849   2.101779  0.2647102  0.8654108\n",
       "         6_P_F      6_P_S    \n",
       "Eotaxin3  3.2070731  7.193271\n",
       "GMCSF     3.8135098  7.172952\n",
       "IL10      2.9059010  3.019063\n",
       "IL13     36.2466305 49.057905\n",
       "IL15      0.9859481  1.998325\n",
       "IL1a      2.4299206  1.527494"
      ]
     },
     "metadata": {},
     "output_type": "display_data"
    }
   ],
   "source": [
    "# Set the rownames of coldata and column names of countdata to be in the same order \n",
    "countdata <- setcolorder(countdata, as.character(coldata$SampleID))\n",
    "\n",
    "# replacing the sample ids in the countdata file with the ids\n",
    "#colnames(countdata) <- coldata$ID\n",
    "\n",
    "head(countdata)"
   ]
  },
  {
   "cell_type": "code",
   "execution_count": 8,
   "id": "c7ef1191",
   "metadata": {},
   "outputs": [
    {
     "data": {
      "text/html": [
       "TRUE"
      ],
      "text/latex": [
       "TRUE"
      ],
      "text/markdown": [
       "TRUE"
      ],
      "text/plain": [
       "[1] TRUE"
      ]
     },
     "metadata": {},
     "output_type": "display_data"
    },
    {
     "data": {
      "text/html": [
       "TRUE"
      ],
      "text/latex": [
       "TRUE"
      ],
      "text/markdown": [
       "TRUE"
      ],
      "text/plain": [
       "[1] TRUE"
      ]
     },
     "metadata": {},
     "output_type": "display_data"
    }
   ],
   "source": [
    "# Double checking that the same variables appear between the two dataframes\n",
    "setequal(as.character(coldata$SampleID), colnames(countdata))\n",
    "\n",
    "# Additionally checking that not only the sets of variables are the same, but that they are in the same order\n",
    "identical(as.character(coldata$SampleID), colnames(countdata))"
   ]
  },
  {
   "cell_type": "markdown",
   "id": "dd45f3aa",
   "metadata": {},
   "source": [
    "# Transcriptomics QA/QC \n",
    "Performed on raw count data to identify potential outlier samples. Starting by filtering lowly expressed cytokines."
   ]
  },
  {
   "cell_type": "code",
   "execution_count": 10,
   "id": "1b709d32",
   "metadata": {},
   "outputs": [],
   "source": [
    "# First count the total number of samples and save it as a value in the global environment\n",
    "nsamp <- ncol(countdata)\n",
    "\n",
    "# Then, calculate the median expression level across all genes and all samples and save it as a value\n",
    "total_median <- median(as.matrix(countdata))\n",
    "\n",
    "# We need to temporarily add back in the cytokine column to the countdata \n",
    "# so we can filter for genes that pass the background filter\n",
    "countdata <- countdata %>% \n",
    "    rownames_to_column(\"Cytokine\")"
   ]
  },
  {
   "cell_type": "code",
   "execution_count": 12,
   "id": "ade9290a",
   "metadata": {},
   "outputs": [
    {
     "data": {
      "text/html": [
       "<style>\n",
       ".list-inline {list-style: none; margin:0; padding: 0}\n",
       ".list-inline>li {display: inline-block}\n",
       ".list-inline>li:not(:last-child)::after {content: \"\\00b7\"; padding: 0 .5ex}\n",
       "</style>\n",
       "<ol class=list-inline><li>11</li><li>25</li></ol>\n"
      ],
      "text/latex": [
       "\\begin{enumerate*}\n",
       "\\item 11\n",
       "\\item 25\n",
       "\\end{enumerate*}\n"
      ],
      "text/markdown": [
       "1. 11\n",
       "2. 25\n",
       "\n",
       "\n"
      ],
      "text/plain": [
       "[1] 11 25"
      ]
     },
     "metadata": {},
     "output_type": "display_data"
    }
   ],
   "source": [
    "# filtering for cytokines that have an expression greater than the total median in at least 20% of the samples\n",
    "cytokines_above_background <- countdata %>% \n",
    "    pivot_longer(cols =! Cytokine, names_to = \"sampleID\", values_to = \"expression\") %>% \n",
    "    # indicates whether the expression of a cytokine for the corresponding exposure condition is above (1) or not \n",
    "    # above (0) the median of all count data\n",
    "    mutate(above_median = ifelse(expression > total_median,1,0)) %>% \n",
    "    group_by(Cytokine) %>% \n",
    "    # For each cytokine, count the number of exposure conditions where the expression was greater than the median \n",
    "    # of all count data\n",
    "    summarize(total_above_median = sum(above_median)) %>% \n",
    "    # Filter for cytokines that have expression above the median in at least 20% of the samples\n",
    "    filter(total_above_median >= 0.2*nsamp) %>% \n",
    "    select(Cytokine) \n",
    "\n",
    "# Then filter the original 'countdata' dataframe for only the cytokines above background. \n",
    "countdata <- left_join(cytokines_above_background, countdata, by = \"Cytokine\")\n",
    "\n",
    "dim(countdata)"
   ]
  },
  {
   "cell_type": "markdown",
   "id": "1eacb749",
   "metadata": {},
   "source": [
    "This dataframe went from having 17 cytokines to 11 cytokines. Now filtering lowly expressed samples. "
   ]
  },
  {
   "cell_type": "code",
   "execution_count": null,
   "id": "d9707cdb",
   "metadata": {},
   "outputs": [],
   "source": [
    "countdata_T <- countdata %>% \n",
    "  pivot_longer(cols =! Cytokine, names_to = \"sampleID\",values_to = \"expression\") %>% \n",
    "  pivot_wider(names_from = Cytokine, values_from = expression)\n",
    "\n",
    "# Then add in a column to the transposed countdata dataframe that sums expression across all cytokines for each \n",
    "# exposure condition\n",
    "countdata_T$rowsum <- rowSums(countdata_T[2:ncol(countdata_T)])\n",
    "\n",
    "# Remove samples that have no expression\n",
    "countdata_T <- countdata_T %>% \n",
    "    filter(rowsum != 0)\n",
    "\n",
    "# Take the count data filtered for correct samples, remove the 'rowsums' column\n",
    "countdata_T <- countdata_T %>% \n",
    "    select(!rowsum) \n",
    "\n",
    "# Then, transpose it back to the correct format for analysis\n",
    "countdata <- countdata_T %>%\n",
    "  pivot_longer(cols =! sampleID, names_to = \"Cytokine\", values_to = \"expression\") %>% \n",
    "  pivot_wider(names_from = sampleID, values_from = \"expression\")\n",
    "\n",
    "dim(countdata)"
   ]
  },
  {
   "cell_type": "markdown",
   "id": "374301ea",
   "metadata": {},
   "source": [
    "No samples were removed."
   ]
  },
  {
   "cell_type": "code",
   "execution_count": 9,
   "id": "9429df91",
   "metadata": {},
   "outputs": [
    {
     "data": {
      "image/png": "[encoded data removed]",
      "text/plain": [
       "Plot with title “pca”"
      ]
     },
     "metadata": {
      "image/png": {
       "height": 420,
       "width": 420
      }
     },
     "output_type": "display_data"
    },
    {
     "data": {
      "image/png": "[encoded data removed]",
      "text/plain": [
       "plot without title"
      ]
     },
     "metadata": {
      "image/png": {
       "height": 300,
       "width": 600
      }
     },
     "output_type": "display_data"
    }
   ],
   "source": [
    "# One way to evaluate sequencing data quality / identify potential outliers is through PCA\n",
    "# PCA helps in identifying outlying samples for quality control and gives a feeling for the principal causes of \n",
    "# variation in a dataset\n",
    "\n",
    "\n",
    "# Calculate principal components using transposed count data\n",
    "pca <- prcomp(t(countdata))\n",
    "\n",
    "options(repr.plot.width = 10, repr.plot.height = 5) #changing size\n",
    "fviz_eig(pca, addlabels = TRUE)"
   ]
  }
 ],
 "metadata": {
  "kernelspec": {
   "display_name": "R",
   "language": "R",
   "name": "ir"
  },
  "language_info": {
   "codemirror_mode": "r",
   "file_extension": ".r",
   "mimetype": "text/x-r-source",
   "name": "R",
   "pygments_lexer": "r",
   "version": "4.1.3"
  }
 },
 "nbformat": 4,
 "nbformat_minor": 5
}
