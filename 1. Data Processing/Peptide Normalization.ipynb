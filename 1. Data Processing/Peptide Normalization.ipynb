{
 "cells": [
  {
   "cell_type": "code",
   "execution_count": 1,
   "id": "13fe40a7",
   "metadata": {},
   "outputs": [
    {
     "name": "stderr",
     "output_type": "stream",
     "text": [
      "── \u001b[1mAttaching core tidyverse packages\u001b[22m ──────────────────────── tidyverse 2.0.0 ──\n",
      "\u001b[32m✔\u001b[39m \u001b[34mdplyr    \u001b[39m 1.1.2     \u001b[32m✔\u001b[39m \u001b[34mreadr    \u001b[39m 2.1.4\n",
      "\u001b[32m✔\u001b[39m \u001b[34mforcats  \u001b[39m 1.0.0     \u001b[32m✔\u001b[39m \u001b[34mstringr  \u001b[39m 1.5.0\n",
      "\u001b[32m✔\u001b[39m \u001b[34mggplot2  \u001b[39m 3.4.2     \u001b[32m✔\u001b[39m \u001b[34mtibble   \u001b[39m 3.2.1\n",
      "\u001b[32m✔\u001b[39m \u001b[34mlubridate\u001b[39m 1.9.2     \u001b[32m✔\u001b[39m \u001b[34mtidyr    \u001b[39m 1.3.0\n",
      "\u001b[32m✔\u001b[39m \u001b[34mpurrr    \u001b[39m 1.0.1     \n",
      "── \u001b[1mConflicts\u001b[22m ────────────────────────────────────────── tidyverse_conflicts() ──\n",
      "\u001b[31m✖\u001b[39m \u001b[34mdplyr\u001b[39m::\u001b[32mfilter()\u001b[39m masks \u001b[34mstats\u001b[39m::filter()\n",
      "\u001b[31m✖\u001b[39m \u001b[34mdplyr\u001b[39m::\u001b[32mlag()\u001b[39m    masks \u001b[34mstats\u001b[39m::lag()\n",
      "\u001b[36mℹ\u001b[39m Use the conflicted package (\u001b[3m\u001b[34m<http://conflicted.r-lib.org/>\u001b[39m\u001b[23m) to force all conflicts to become errors\n"
     ]
    }
   ],
   "source": [
    "Output = c('/Users/alexis/Library/CloudStorage/OneDrive-UniversityofNorthCarolinaatChapelHill/CEMALB_DataAnalysisPM/Projects/P1011. Emission Mixtures/P1011.3. Analyses/P1011.3.1. Data Cleaning, Imputation & Normalization/Output')\n",
    "cur_date = \"070423\"\n",
    "\n",
    "library(readxl)\n",
    "library(tidyverse)\n",
    "library(openxlsx)\n",
    "\n",
    "# reading in files\n",
    "proteomics_5_df = data.frame(read_excel(\"Input/Proteomics_Data_5ug_040423.xlsx\", sheet = 2))\n",
    "proteomics_25_df = data.frame(read_excel(\"Input/Proteomics_Data_25ug_040423.xlsx\", sheet = 2))"
   ]
  },
  {
   "cell_type": "code",
   "execution_count": 2,
   "id": "71a67118",
   "metadata": {},
   "outputs": [
    {
     "data": {
      "text/html": [
       "<table class=\"dataframe\">\n",
       "<caption>A data.frame: 6 × 10</caption>\n",
       "<thead>\n",
       "\t<tr><th></th><th scope=col>Subject_No</th><th scope=col>Subject_ID</th><th scope=col>Protein_Accession</th><th scope=col>Gene_Name</th><th scope=col>Description</th><th scope=col>Condensate</th><th scope=col>Burn_Condition</th><th scope=col>Concentration</th><th scope=col>Intensity</th><th scope=col>Intensity_pslog2</th></tr>\n",
       "\t<tr><th></th><th scope=col>&lt;dbl&gt;</th><th scope=col>&lt;chr&gt;</th><th scope=col>&lt;chr&gt;</th><th scope=col>&lt;chr&gt;</th><th scope=col>&lt;chr&gt;</th><th scope=col>&lt;chr&gt;</th><th scope=col>&lt;chr&gt;</th><th scope=col>&lt;dbl&gt;</th><th scope=col>&lt;dbl&gt;</th><th scope=col>&lt;dbl&gt;</th></tr>\n",
       "</thead>\n",
       "<tbody>\n",
       "\t<tr><th scope=row>1</th><td>1</td><td>F_1</td><td>CO3_HUMAN</td><td>C3</td><td>Complement C3 OS=Homo sapiens OX=9606 GN=C3 PE=1 SV=2</td><td>C</td><td>F</td><td>25</td><td>1488600000</td><td>30.47131</td></tr>\n",
       "\t<tr><th scope=row>2</th><td>2</td><td>M_2</td><td>CO3_HUMAN</td><td>C3</td><td>Complement C3 OS=Homo sapiens OX=9606 GN=C3 PE=1 SV=2</td><td>C</td><td>F</td><td>25</td><td>3806600000</td><td>31.82586</td></tr>\n",
       "\t<tr><th scope=row>3</th><td>3</td><td>M_3</td><td>CO3_HUMAN</td><td>C3</td><td>Complement C3 OS=Homo sapiens OX=9606 GN=C3 PE=1 SV=2</td><td>C</td><td>F</td><td>25</td><td>3900000000</td><td>31.86083</td></tr>\n",
       "\t<tr><th scope=row>4</th><td>4</td><td>F_4</td><td>CO3_HUMAN</td><td>C3</td><td>Complement C3 OS=Homo sapiens OX=9606 GN=C3 PE=1 SV=2</td><td>C</td><td>F</td><td>25</td><td>5373200000</td><td>32.32313</td></tr>\n",
       "\t<tr><th scope=row>5</th><td>5</td><td>F_5</td><td>CO3_HUMAN</td><td>C3</td><td>Complement C3 OS=Homo sapiens OX=9606 GN=C3 PE=1 SV=2</td><td>C</td><td>F</td><td>25</td><td>2595200000</td><td>31.27320</td></tr>\n",
       "\t<tr><th scope=row>6</th><td>6</td><td>M_6</td><td>CO3_HUMAN</td><td>C3</td><td>Complement C3 OS=Homo sapiens OX=9606 GN=C3 PE=1 SV=2</td><td>C</td><td>F</td><td>25</td><td>5780700000</td><td>32.42860</td></tr>\n",
       "</tbody>\n",
       "</table>\n"
      ],
      "text/latex": [
       "A data.frame: 6 × 10\n",
       "\\begin{tabular}{r|llllllllll}\n",
       "  & Subject\\_No & Subject\\_ID & Protein\\_Accession & Gene\\_Name & Description & Condensate & Burn\\_Condition & Concentration & Intensity & Intensity\\_pslog2\\\\\n",
       "  & <dbl> & <chr> & <chr> & <chr> & <chr> & <chr> & <chr> & <dbl> & <dbl> & <dbl>\\\\\n",
       "\\hline\n",
       "\t1 & 1 & F\\_1 & CO3\\_HUMAN & C3 & Complement C3 OS=Homo sapiens OX=9606 GN=C3 PE=1 SV=2 & C & F & 25 & 1488600000 & 30.47131\\\\\n",
       "\t2 & 2 & M\\_2 & CO3\\_HUMAN & C3 & Complement C3 OS=Homo sapiens OX=9606 GN=C3 PE=1 SV=2 & C & F & 25 & 3806600000 & 31.82586\\\\\n",
       "\t3 & 3 & M\\_3 & CO3\\_HUMAN & C3 & Complement C3 OS=Homo sapiens OX=9606 GN=C3 PE=1 SV=2 & C & F & 25 & 3900000000 & 31.86083\\\\\n",
       "\t4 & 4 & F\\_4 & CO3\\_HUMAN & C3 & Complement C3 OS=Homo sapiens OX=9606 GN=C3 PE=1 SV=2 & C & F & 25 & 5373200000 & 32.32313\\\\\n",
       "\t5 & 5 & F\\_5 & CO3\\_HUMAN & C3 & Complement C3 OS=Homo sapiens OX=9606 GN=C3 PE=1 SV=2 & C & F & 25 & 2595200000 & 31.27320\\\\\n",
       "\t6 & 6 & M\\_6 & CO3\\_HUMAN & C3 & Complement C3 OS=Homo sapiens OX=9606 GN=C3 PE=1 SV=2 & C & F & 25 & 5780700000 & 32.42860\\\\\n",
       "\\end{tabular}\n"
      ],
      "text/markdown": [
       "\n",
       "A data.frame: 6 × 10\n",
       "\n",
       "| <!--/--> | Subject_No &lt;dbl&gt; | Subject_ID &lt;chr&gt; | Protein_Accession &lt;chr&gt; | Gene_Name &lt;chr&gt; | Description &lt;chr&gt; | Condensate &lt;chr&gt; | Burn_Condition &lt;chr&gt; | Concentration &lt;dbl&gt; | Intensity &lt;dbl&gt; | Intensity_pslog2 &lt;dbl&gt; |\n",
       "|---|---|---|---|---|---|---|---|---|---|---|\n",
       "| 1 | 1 | F_1 | CO3_HUMAN | C3 | Complement C3 OS=Homo sapiens OX=9606 GN=C3 PE=1 SV=2 | C | F | 25 | 1488600000 | 30.47131 |\n",
       "| 2 | 2 | M_2 | CO3_HUMAN | C3 | Complement C3 OS=Homo sapiens OX=9606 GN=C3 PE=1 SV=2 | C | F | 25 | 3806600000 | 31.82586 |\n",
       "| 3 | 3 | M_3 | CO3_HUMAN | C3 | Complement C3 OS=Homo sapiens OX=9606 GN=C3 PE=1 SV=2 | C | F | 25 | 3900000000 | 31.86083 |\n",
       "| 4 | 4 | F_4 | CO3_HUMAN | C3 | Complement C3 OS=Homo sapiens OX=9606 GN=C3 PE=1 SV=2 | C | F | 25 | 5373200000 | 32.32313 |\n",
       "| 5 | 5 | F_5 | CO3_HUMAN | C3 | Complement C3 OS=Homo sapiens OX=9606 GN=C3 PE=1 SV=2 | C | F | 25 | 2595200000 | 31.27320 |\n",
       "| 6 | 6 | M_6 | CO3_HUMAN | C3 | Complement C3 OS=Homo sapiens OX=9606 GN=C3 PE=1 SV=2 | C | F | 25 | 5780700000 | 32.42860 |\n",
       "\n"
      ],
      "text/plain": [
       "  Subject_No Subject_ID Protein_Accession Gene_Name\n",
       "1 1          F_1        CO3_HUMAN         C3       \n",
       "2 2          M_2        CO3_HUMAN         C3       \n",
       "3 3          M_3        CO3_HUMAN         C3       \n",
       "4 4          F_4        CO3_HUMAN         C3       \n",
       "5 5          F_5        CO3_HUMAN         C3       \n",
       "6 6          M_6        CO3_HUMAN         C3       \n",
       "  Description                                           Condensate\n",
       "1 Complement C3 OS=Homo sapiens OX=9606 GN=C3 PE=1 SV=2 C         \n",
       "2 Complement C3 OS=Homo sapiens OX=9606 GN=C3 PE=1 SV=2 C         \n",
       "3 Complement C3 OS=Homo sapiens OX=9606 GN=C3 PE=1 SV=2 C         \n",
       "4 Complement C3 OS=Homo sapiens OX=9606 GN=C3 PE=1 SV=2 C         \n",
       "5 Complement C3 OS=Homo sapiens OX=9606 GN=C3 PE=1 SV=2 C         \n",
       "6 Complement C3 OS=Homo sapiens OX=9606 GN=C3 PE=1 SV=2 C         \n",
       "  Burn_Condition Concentration Intensity  Intensity_pslog2\n",
       "1 F              25            1488600000 30.47131        \n",
       "2 F              25            3806600000 31.82586        \n",
       "3 F              25            3900000000 31.86083        \n",
       "4 F              25            5373200000 32.32313        \n",
       "5 F              25            2595200000 31.27320        \n",
       "6 F              25            5780700000 32.42860        "
      ]
     },
     "metadata": {},
     "output_type": "display_data"
    }
   ],
   "source": [
    "head(proteomics_25_df)"
   ]
  },
  {
   "cell_type": "markdown",
   "id": "239d734c",
   "metadata": {},
   "source": [
    "# Peptide Normalization\n",
    "Normalize to total amount of peptide per subject: take the intensity value for each protein for each subject, then calculate the median value, and calculate the ratio."
   ]
  },
  {
   "cell_type": "code",
   "execution_count": 3,
   "id": "0e105a88",
   "metadata": {},
   "outputs": [
    {
     "data": {
      "text/html": [
       "<table class=\"dataframe\">\n",
       "<caption>A tibble: 6 × 10</caption>\n",
       "<thead>\n",
       "\t<tr><th scope=col>Subject_No</th><th scope=col>Subject_ID</th><th scope=col>Protein_Accession</th><th scope=col>Gene_Name</th><th scope=col>Description</th><th scope=col>Condensate</th><th scope=col>Burn_Condition</th><th scope=col>Concentration</th><th scope=col>Norm_Intensity</th><th scope=col>Norm_Intensity_pslog2</th></tr>\n",
       "\t<tr><th scope=col>&lt;dbl&gt;</th><th scope=col>&lt;chr&gt;</th><th scope=col>&lt;chr&gt;</th><th scope=col>&lt;chr&gt;</th><th scope=col>&lt;chr&gt;</th><th scope=col>&lt;chr&gt;</th><th scope=col>&lt;chr&gt;</th><th scope=col>&lt;dbl&gt;</th><th scope=col>&lt;dbl&gt;</th><th scope=col>&lt;dbl&gt;</th></tr>\n",
       "</thead>\n",
       "<tbody>\n",
       "\t<tr><td>1</td><td>F_1</td><td>CO3_HUMAN</td><td>C3</td><td>Complement C3 OS=Homo sapiens OX=9606 GN=C3 PE=1 SV=2</td><td>C</td><td>F</td><td>25</td><td>1657403040</td><td>30.62628</td></tr>\n",
       "\t<tr><td>2</td><td>M_2</td><td>CO3_HUMAN</td><td>C3</td><td>Complement C3 OS=Homo sapiens OX=9606 GN=C3 PE=1 SV=2</td><td>C</td><td>F</td><td>25</td><td>1104030254</td><td>30.04013</td></tr>\n",
       "\t<tr><td>3</td><td>M_3</td><td>CO3_HUMAN</td><td>C3</td><td>Complement C3 OS=Homo sapiens OX=9606 GN=C3 PE=1 SV=2</td><td>C</td><td>F</td><td>25</td><td>3833400337</td><td>31.83598</td></tr>\n",
       "\t<tr><td>4</td><td>F_4</td><td>CO3_HUMAN</td><td>C3</td><td>Complement C3 OS=Homo sapiens OX=9606 GN=C3 PE=1 SV=2</td><td>C</td><td>F</td><td>25</td><td>3751240231</td><td>31.80472</td></tr>\n",
       "\t<tr><td>5</td><td>F_5</td><td>CO3_HUMAN</td><td>C3</td><td>Complement C3 OS=Homo sapiens OX=9606 GN=C3 PE=1 SV=2</td><td>C</td><td>F</td><td>25</td><td>3011320293</td><td>31.48775</td></tr>\n",
       "\t<tr><td>6</td><td>M_6</td><td>CO3_HUMAN</td><td>C3</td><td>Complement C3 OS=Homo sapiens OX=9606 GN=C3 PE=1 SV=2</td><td>C</td><td>F</td><td>25</td><td>6331729010</td><td>32.55995</td></tr>\n",
       "</tbody>\n",
       "</table>\n"
      ],
      "text/latex": [
       "A tibble: 6 × 10\n",
       "\\begin{tabular}{llllllllll}\n",
       " Subject\\_No & Subject\\_ID & Protein\\_Accession & Gene\\_Name & Description & Condensate & Burn\\_Condition & Concentration & Norm\\_Intensity & Norm\\_Intensity\\_pslog2\\\\\n",
       " <dbl> & <chr> & <chr> & <chr> & <chr> & <chr> & <chr> & <dbl> & <dbl> & <dbl>\\\\\n",
       "\\hline\n",
       "\t 1 & F\\_1 & CO3\\_HUMAN & C3 & Complement C3 OS=Homo sapiens OX=9606 GN=C3 PE=1 SV=2 & C & F & 25 & 1657403040 & 30.62628\\\\\n",
       "\t 2 & M\\_2 & CO3\\_HUMAN & C3 & Complement C3 OS=Homo sapiens OX=9606 GN=C3 PE=1 SV=2 & C & F & 25 & 1104030254 & 30.04013\\\\\n",
       "\t 3 & M\\_3 & CO3\\_HUMAN & C3 & Complement C3 OS=Homo sapiens OX=9606 GN=C3 PE=1 SV=2 & C & F & 25 & 3833400337 & 31.83598\\\\\n",
       "\t 4 & F\\_4 & CO3\\_HUMAN & C3 & Complement C3 OS=Homo sapiens OX=9606 GN=C3 PE=1 SV=2 & C & F & 25 & 3751240231 & 31.80472\\\\\n",
       "\t 5 & F\\_5 & CO3\\_HUMAN & C3 & Complement C3 OS=Homo sapiens OX=9606 GN=C3 PE=1 SV=2 & C & F & 25 & 3011320293 & 31.48775\\\\\n",
       "\t 6 & M\\_6 & CO3\\_HUMAN & C3 & Complement C3 OS=Homo sapiens OX=9606 GN=C3 PE=1 SV=2 & C & F & 25 & 6331729010 & 32.55995\\\\\n",
       "\\end{tabular}\n"
      ],
      "text/markdown": [
       "\n",
       "A tibble: 6 × 10\n",
       "\n",
       "| Subject_No &lt;dbl&gt; | Subject_ID &lt;chr&gt; | Protein_Accession &lt;chr&gt; | Gene_Name &lt;chr&gt; | Description &lt;chr&gt; | Condensate &lt;chr&gt; | Burn_Condition &lt;chr&gt; | Concentration &lt;dbl&gt; | Norm_Intensity &lt;dbl&gt; | Norm_Intensity_pslog2 &lt;dbl&gt; |\n",
       "|---|---|---|---|---|---|---|---|---|---|\n",
       "| 1 | F_1 | CO3_HUMAN | C3 | Complement C3 OS=Homo sapiens OX=9606 GN=C3 PE=1 SV=2 | C | F | 25 | 1657403040 | 30.62628 |\n",
       "| 2 | M_2 | CO3_HUMAN | C3 | Complement C3 OS=Homo sapiens OX=9606 GN=C3 PE=1 SV=2 | C | F | 25 | 1104030254 | 30.04013 |\n",
       "| 3 | M_3 | CO3_HUMAN | C3 | Complement C3 OS=Homo sapiens OX=9606 GN=C3 PE=1 SV=2 | C | F | 25 | 3833400337 | 31.83598 |\n",
       "| 4 | F_4 | CO3_HUMAN | C3 | Complement C3 OS=Homo sapiens OX=9606 GN=C3 PE=1 SV=2 | C | F | 25 | 3751240231 | 31.80472 |\n",
       "| 5 | F_5 | CO3_HUMAN | C3 | Complement C3 OS=Homo sapiens OX=9606 GN=C3 PE=1 SV=2 | C | F | 25 | 3011320293 | 31.48775 |\n",
       "| 6 | M_6 | CO3_HUMAN | C3 | Complement C3 OS=Homo sapiens OX=9606 GN=C3 PE=1 SV=2 | C | F | 25 | 6331729010 | 32.55995 |\n",
       "\n"
      ],
      "text/plain": [
       "  Subject_No Subject_ID Protein_Accession Gene_Name\n",
       "1 1          F_1        CO3_HUMAN         C3       \n",
       "2 2          M_2        CO3_HUMAN         C3       \n",
       "3 3          M_3        CO3_HUMAN         C3       \n",
       "4 4          F_4        CO3_HUMAN         C3       \n",
       "5 5          F_5        CO3_HUMAN         C3       \n",
       "6 6          M_6        CO3_HUMAN         C3       \n",
       "  Description                                           Condensate\n",
       "1 Complement C3 OS=Homo sapiens OX=9606 GN=C3 PE=1 SV=2 C         \n",
       "2 Complement C3 OS=Homo sapiens OX=9606 GN=C3 PE=1 SV=2 C         \n",
       "3 Complement C3 OS=Homo sapiens OX=9606 GN=C3 PE=1 SV=2 C         \n",
       "4 Complement C3 OS=Homo sapiens OX=9606 GN=C3 PE=1 SV=2 C         \n",
       "5 Complement C3 OS=Homo sapiens OX=9606 GN=C3 PE=1 SV=2 C         \n",
       "6 Complement C3 OS=Homo sapiens OX=9606 GN=C3 PE=1 SV=2 C         \n",
       "  Burn_Condition Concentration Norm_Intensity Norm_Intensity_pslog2\n",
       "1 F              25            1657403040     30.62628             \n",
       "2 F              25            1104030254     30.04013             \n",
       "3 F              25            3833400337     31.83598             \n",
       "4 F              25            3751240231     31.80472             \n",
       "5 F              25            3011320293     31.48775             \n",
       "6 F              25            6331729010     32.55995             "
      ]
     },
     "metadata": {},
     "output_type": "display_data"
    }
   ],
   "source": [
    "# creating 1 df\n",
    "proteomics_df = rbind(proteomics_25_df, proteomics_5_df)\n",
    "\n",
    "normalized_df = proteomics_df %>%\n",
    "    group_by(Concentration, Condensate, Burn_Condition, Subject_ID) %>%\n",
    "    #removing missing data (to be added back in later)\n",
    "    drop_na() %>%\n",
    "    mutate(Summed_Intensity = sum(Intensity)) %>%\n",
    "    #calculating median across all subjects but still within each set\n",
    "    ungroup() %>%\n",
    "    mutate(Median_of_Sum = median(Summed_Intensity), Norm_Factor = Summed_Intensity/ Median_of_Sum, \n",
    "           Norm_Intensity = Intensity/Norm_Factor, Norm_Intensity_pslog2 = log2(Norm_Intensity + 1)) %>%\n",
    "    select(-c(\"Summed_Intensity\", \"Median_of_Sum\", \"Norm_Factor\", \"Intensity\", \"Intensity_pslog2\"))\n",
    "\n",
    "head(normalized_df)"
   ]
  },
  {
   "cell_type": "code",
   "execution_count": 4,
   "id": "3e802d38",
   "metadata": {},
   "outputs": [],
   "source": [
    "# splitting into 2 dfs again to decrease the file size\n",
    "split_proteomics_df = normalized_df %>%\n",
    "    group_by(Concentration) %>%\n",
    "    group_split()\n",
    "\n",
    "norm_proteomics_5_df = split_proteomics_df[[1]]\n",
    "norm_proteomics_25_df = split_proteomics_df[[2]]"
   ]
  },
  {
   "cell_type": "code",
   "execution_count": 5,
   "id": "d0996bcf",
   "metadata": {},
   "outputs": [],
   "source": [
    "# exporting\n",
    "write.xlsx(norm_proteomics_25_df, paste0(Output,\"/\", \"Normalized_Proteomics_Data_25ug_\", cur_date, \".xlsx\"), \n",
    "           rowNames = FALSE)\n",
    "write.xlsx(norm_proteomics_5_df, paste0(Output,\"/\", \"Normalized_Proteomics_Data_5ug_\", cur_date, \".xlsx\"), \n",
    "           rowNames = FALSE)"
   ]
  }
 ],
 "metadata": {
  "kernelspec": {
   "display_name": "R",
   "language": "R",
   "name": "ir"
  },
  "language_info": {
   "codemirror_mode": "r",
   "file_extension": ".r",
   "mimetype": "text/x-r-source",
   "name": "R",
   "pygments_lexer": "r",
   "version": "4.1.3"
  }
 },
 "nbformat": 4,
 "nbformat_minor": 5
}
