{
 "cells": [
  {
   "cell_type": "code",
   "execution_count": 2,
   "id": "13fe40a7",
   "metadata": {},
   "outputs": [],
   "source": [
    "Output = c('/Users/alexis/Library/CloudStorage/OneDrive-UniversityofNorthCarolinaatChapelHill/CEMALB_DataAnalysisPM/Projects/P1011. Emission Mixtures/P1011.3. Analyses/P1011.3.1. Data Cleaning, Imputation & Normalization/Output')\n",
    "cur_date = \"081423\"\n",
    "\n",
    "library(readxl)\n",
    "library(tidyverse)\n",
    "library(openxlsx)\n",
    "\n",
    "# reading in files\n",
    "proteomics_5_df = data.frame(read_excel(\"Input/Proteomics_Data_5ug_040423.xlsx\", sheet = 2))\n",
    "proteomics_25_df = data.frame(read_excel(\"Input/Proteomics_Data_25ug_040423.xlsx\", sheet = 2))"
   ]
  },
  {
   "cell_type": "code",
   "execution_count": 3,
   "id": "71a67118",
   "metadata": {},
   "outputs": [
    {
     "data": {
      "text/html": [
       "<table class=\"dataframe\">\n",
       "<caption>A data.frame: 6 × 10</caption>\n",
       "<thead>\n",
       "\t<tr><th></th><th scope=col>Subject_No</th><th scope=col>Subject_ID</th><th scope=col>Protein_Accession</th><th scope=col>Gene_Name</th><th scope=col>Description</th><th scope=col>Condensate</th><th scope=col>Burn_Condition</th><th scope=col>Concentration</th><th scope=col>Intensity</th><th scope=col>Intensity_pslog2</th></tr>\n",
       "\t<tr><th></th><th scope=col>&lt;dbl&gt;</th><th scope=col>&lt;chr&gt;</th><th scope=col>&lt;chr&gt;</th><th scope=col>&lt;chr&gt;</th><th scope=col>&lt;chr&gt;</th><th scope=col>&lt;chr&gt;</th><th scope=col>&lt;chr&gt;</th><th scope=col>&lt;dbl&gt;</th><th scope=col>&lt;dbl&gt;</th><th scope=col>&lt;dbl&gt;</th></tr>\n",
       "</thead>\n",
       "<tbody>\n",
       "\t<tr><th scope=row>1</th><td>1</td><td>F_1</td><td>CO3_HUMAN</td><td>C3</td><td>Complement C3 OS=Homo sapiens OX=9606 GN=C3 PE=1 SV=2</td><td>C</td><td>F</td><td>25</td><td>1488600000</td><td>30.47131</td></tr>\n",
       "\t<tr><th scope=row>2</th><td>2</td><td>M_2</td><td>CO3_HUMAN</td><td>C3</td><td>Complement C3 OS=Homo sapiens OX=9606 GN=C3 PE=1 SV=2</td><td>C</td><td>F</td><td>25</td><td>3806600000</td><td>31.82586</td></tr>\n",
       "\t<tr><th scope=row>3</th><td>3</td><td>M_3</td><td>CO3_HUMAN</td><td>C3</td><td>Complement C3 OS=Homo sapiens OX=9606 GN=C3 PE=1 SV=2</td><td>C</td><td>F</td><td>25</td><td>3900000000</td><td>31.86083</td></tr>\n",
       "\t<tr><th scope=row>4</th><td>4</td><td>F_4</td><td>CO3_HUMAN</td><td>C3</td><td>Complement C3 OS=Homo sapiens OX=9606 GN=C3 PE=1 SV=2</td><td>C</td><td>F</td><td>25</td><td>5373200000</td><td>32.32313</td></tr>\n",
       "\t<tr><th scope=row>5</th><td>5</td><td>F_5</td><td>CO3_HUMAN</td><td>C3</td><td>Complement C3 OS=Homo sapiens OX=9606 GN=C3 PE=1 SV=2</td><td>C</td><td>F</td><td>25</td><td>2595200000</td><td>31.27320</td></tr>\n",
       "\t<tr><th scope=row>6</th><td>6</td><td>M_6</td><td>CO3_HUMAN</td><td>C3</td><td>Complement C3 OS=Homo sapiens OX=9606 GN=C3 PE=1 SV=2</td><td>C</td><td>F</td><td>25</td><td>5780700000</td><td>32.42860</td></tr>\n",
       "</tbody>\n",
       "</table>\n"
      ],
      "text/latex": [
       "A data.frame: 6 × 10\n",
       "\\begin{tabular}{r|llllllllll}\n",
       "  & Subject\\_No & Subject\\_ID & Protein\\_Accession & Gene\\_Name & Description & Condensate & Burn\\_Condition & Concentration & Intensity & Intensity\\_pslog2\\\\\n",
       "  & <dbl> & <chr> & <chr> & <chr> & <chr> & <chr> & <chr> & <dbl> & <dbl> & <dbl>\\\\\n",
       "\\hline\n",
       "\t1 & 1 & F\\_1 & CO3\\_HUMAN & C3 & Complement C3 OS=Homo sapiens OX=9606 GN=C3 PE=1 SV=2 & C & F & 25 & 1488600000 & 30.47131\\\\\n",
       "\t2 & 2 & M\\_2 & CO3\\_HUMAN & C3 & Complement C3 OS=Homo sapiens OX=9606 GN=C3 PE=1 SV=2 & C & F & 25 & 3806600000 & 31.82586\\\\\n",
       "\t3 & 3 & M\\_3 & CO3\\_HUMAN & C3 & Complement C3 OS=Homo sapiens OX=9606 GN=C3 PE=1 SV=2 & C & F & 25 & 3900000000 & 31.86083\\\\\n",
       "\t4 & 4 & F\\_4 & CO3\\_HUMAN & C3 & Complement C3 OS=Homo sapiens OX=9606 GN=C3 PE=1 SV=2 & C & F & 25 & 5373200000 & 32.32313\\\\\n",
       "\t5 & 5 & F\\_5 & CO3\\_HUMAN & C3 & Complement C3 OS=Homo sapiens OX=9606 GN=C3 PE=1 SV=2 & C & F & 25 & 2595200000 & 31.27320\\\\\n",
       "\t6 & 6 & M\\_6 & CO3\\_HUMAN & C3 & Complement C3 OS=Homo sapiens OX=9606 GN=C3 PE=1 SV=2 & C & F & 25 & 5780700000 & 32.42860\\\\\n",
       "\\end{tabular}\n"
      ],
      "text/markdown": [
       "\n",
       "A data.frame: 6 × 10\n",
       "\n",
       "| <!--/--> | Subject_No &lt;dbl&gt; | Subject_ID &lt;chr&gt; | Protein_Accession &lt;chr&gt; | Gene_Name &lt;chr&gt; | Description &lt;chr&gt; | Condensate &lt;chr&gt; | Burn_Condition &lt;chr&gt; | Concentration &lt;dbl&gt; | Intensity &lt;dbl&gt; | Intensity_pslog2 &lt;dbl&gt; |\n",
       "|---|---|---|---|---|---|---|---|---|---|---|\n",
       "| 1 | 1 | F_1 | CO3_HUMAN | C3 | Complement C3 OS=Homo sapiens OX=9606 GN=C3 PE=1 SV=2 | C | F | 25 | 1488600000 | 30.47131 |\n",
       "| 2 | 2 | M_2 | CO3_HUMAN | C3 | Complement C3 OS=Homo sapiens OX=9606 GN=C3 PE=1 SV=2 | C | F | 25 | 3806600000 | 31.82586 |\n",
       "| 3 | 3 | M_3 | CO3_HUMAN | C3 | Complement C3 OS=Homo sapiens OX=9606 GN=C3 PE=1 SV=2 | C | F | 25 | 3900000000 | 31.86083 |\n",
       "| 4 | 4 | F_4 | CO3_HUMAN | C3 | Complement C3 OS=Homo sapiens OX=9606 GN=C3 PE=1 SV=2 | C | F | 25 | 5373200000 | 32.32313 |\n",
       "| 5 | 5 | F_5 | CO3_HUMAN | C3 | Complement C3 OS=Homo sapiens OX=9606 GN=C3 PE=1 SV=2 | C | F | 25 | 2595200000 | 31.27320 |\n",
       "| 6 | 6 | M_6 | CO3_HUMAN | C3 | Complement C3 OS=Homo sapiens OX=9606 GN=C3 PE=1 SV=2 | C | F | 25 | 5780700000 | 32.42860 |\n",
       "\n"
      ],
      "text/plain": [
       "  Subject_No Subject_ID Protein_Accession Gene_Name\n",
       "1 1          F_1        CO3_HUMAN         C3       \n",
       "2 2          M_2        CO3_HUMAN         C3       \n",
       "3 3          M_3        CO3_HUMAN         C3       \n",
       "4 4          F_4        CO3_HUMAN         C3       \n",
       "5 5          F_5        CO3_HUMAN         C3       \n",
       "6 6          M_6        CO3_HUMAN         C3       \n",
       "  Description                                           Condensate\n",
       "1 Complement C3 OS=Homo sapiens OX=9606 GN=C3 PE=1 SV=2 C         \n",
       "2 Complement C3 OS=Homo sapiens OX=9606 GN=C3 PE=1 SV=2 C         \n",
       "3 Complement C3 OS=Homo sapiens OX=9606 GN=C3 PE=1 SV=2 C         \n",
       "4 Complement C3 OS=Homo sapiens OX=9606 GN=C3 PE=1 SV=2 C         \n",
       "5 Complement C3 OS=Homo sapiens OX=9606 GN=C3 PE=1 SV=2 C         \n",
       "6 Complement C3 OS=Homo sapiens OX=9606 GN=C3 PE=1 SV=2 C         \n",
       "  Burn_Condition Concentration Intensity  Intensity_pslog2\n",
       "1 F              25            1488600000 30.47131        \n",
       "2 F              25            3806600000 31.82586        \n",
       "3 F              25            3900000000 31.86083        \n",
       "4 F              25            5373200000 32.32313        \n",
       "5 F              25            2595200000 31.27320        \n",
       "6 F              25            5780700000 32.42860        "
      ]
     },
     "metadata": {},
     "output_type": "display_data"
    }
   ],
   "source": [
    "head(proteomics_25_df)"
   ]
  },
  {
   "cell_type": "code",
   "execution_count": 14,
   "id": "35e6e0d4",
   "metadata": {},
   "outputs": [
    {
     "data": {
      "text/html": [
       "<table class=\"dataframe\">\n",
       "<caption>A data.frame: 6 × 60</caption>\n",
       "<thead>\n",
       "\t<tr><th></th><th scope=col>1_C_F_25</th><th scope=col>2_C_F_25</th><th scope=col>3_C_F_25</th><th scope=col>4_C_F_25</th><th scope=col>5_C_F_25</th><th scope=col>6_C_F_25</th><th scope=col>1_C_S_25</th><th scope=col>2_C_S_25</th><th scope=col>3_C_S_25</th><th scope=col>4_C_S_25</th><th scope=col>⋯</th><th scope=col>3_P_S_5</th><th scope=col>4_P_S_5</th><th scope=col>5_P_S_5</th><th scope=col>6_P_S_5</th><th scope=col>5_PBS_PBS_5</th><th scope=col>1_PBS_PBS_5</th><th scope=col>2_PBS_PBS_5</th><th scope=col>3_PBS_PBS_5</th><th scope=col>4_PBS_PBS_5</th><th scope=col>6_PBS_PBS_5</th></tr>\n",
       "\t<tr><th></th><th scope=col>&lt;dbl&gt;</th><th scope=col>&lt;dbl&gt;</th><th scope=col>&lt;dbl&gt;</th><th scope=col>&lt;dbl&gt;</th><th scope=col>&lt;dbl&gt;</th><th scope=col>&lt;dbl&gt;</th><th scope=col>&lt;dbl&gt;</th><th scope=col>&lt;dbl&gt;</th><th scope=col>&lt;dbl&gt;</th><th scope=col>&lt;dbl&gt;</th><th scope=col>⋯</th><th scope=col>&lt;dbl&gt;</th><th scope=col>&lt;dbl&gt;</th><th scope=col>&lt;dbl&gt;</th><th scope=col>&lt;dbl&gt;</th><th scope=col>&lt;dbl&gt;</th><th scope=col>&lt;dbl&gt;</th><th scope=col>&lt;dbl&gt;</th><th scope=col>&lt;dbl&gt;</th><th scope=col>&lt;dbl&gt;</th><th scope=col>&lt;dbl&gt;</th></tr>\n",
       "</thead>\n",
       "<tbody>\n",
       "\t<tr><th scope=row>CO3_HUMAN</th><td>1488600000</td><td>3.8066e+09</td><td>3.9000e+09</td><td>5.3732e+09</td><td>2595200000</td><td>5780700000</td><td>4.1688e+09</td><td>2.4289e+09</td><td>5198100000</td><td>9.2868e+09</td><td>⋯</td><td>4.21e+09</td><td>7.89e+09</td><td>9.31e+08</td><td>7.21e+09</td><td>3.11e+09</td><td>3.43e+08</td><td>1.81e+09</td><td>3.98e+09</td><td>5.01e+09</td><td>1.40e+10</td></tr>\n",
       "\t<tr><th scope=row>K1C19_HUMAN</th><td>6021100000</td><td>1.9726e+10</td><td>4.1603e+09</td><td>6.4458e+09</td><td>7470700000</td><td>3719100000</td><td>6.7010e+09</td><td>1.1612e+10</td><td>6557700000</td><td>2.3940e+10</td><td>⋯</td><td>2.06e+09</td><td>5.19e+09</td><td>8.04e+08</td><td>3.41e+09</td><td>1.22e+09</td><td>1.67e+09</td><td>4.90e+09</td><td>1.71e+09</td><td>6.03e+09</td><td>3.01e+09</td></tr>\n",
       "\t<tr><th scope=row>TBB4B_HUMAN</th><td>3074000000</td><td>1.4896e+10</td><td>1.8863e+09</td><td>1.6609e+09</td><td>1519400000</td><td>1549800000</td><td>3.9525e+09</td><td>7.9426e+09</td><td>3895000000</td><td>1.5815e+10</td><td>⋯</td><td>9.84e+08</td><td>2.55e+09</td><td>1.11e+08</td><td>7.52e+08</td><td>1.51e+08</td><td>5.06e+08</td><td>3.53e+09</td><td>7.61e+08</td><td>2.70e+09</td><td>1.70e+09</td></tr>\n",
       "\t<tr><th scope=row>K2C5_HUMAN</th><td>4767800000</td><td>3.5045e+09</td><td>3.4925e+09</td><td>5.3666e+09</td><td>5907300000</td><td>3072900000</td><td>5.9636e+09</td><td>4.7625e+09</td><td>6328100000</td><td>2.0851e+10</td><td>⋯</td><td>1.70e+09</td><td>3.08e+09</td><td>6.41e+08</td><td>4.38e+09</td><td>1.05e+09</td><td>1.63e+09</td><td>2.78e+09</td><td>1.72e+09</td><td>4.92e+09</td><td>2.37e+09</td></tr>\n",
       "\t<tr><th scope=row>ACTG_HUMAN</th><td>5420100000</td><td>1.5121e+10</td><td>3.4553e+09</td><td>7.1396e+09</td><td>4962400000</td><td>5649500000</td><td>6.0785e+09</td><td>1.1247e+10</td><td>5655600000</td><td>2.0502e+10</td><td>⋯</td><td>      NA</td><td>      NA</td><td>      NA</td><td>      NA</td><td>      NA</td><td>      NA</td><td>      NA</td><td>      NA</td><td>      NA</td><td>      NA</td></tr>\n",
       "\t<tr><th scope=row>PIGR_HUMAN</th><td>8038200000</td><td>1.9136e+10</td><td>1.0893e+10</td><td>1.4922e+10</td><td>4744600000</td><td>9297400000</td><td>1.4044e+10</td><td>1.1491e+10</td><td>7957600000</td><td>1.5351e+10</td><td>⋯</td><td>6.07e+09</td><td>9.84e+09</td><td>7.94e+08</td><td>4.53e+09</td><td>2.55e+09</td><td>8.32e+08</td><td>6.69e+09</td><td>6.10e+09</td><td>6.14e+09</td><td>1.52e+10</td></tr>\n",
       "</tbody>\n",
       "</table>\n"
      ],
      "text/latex": [
       "A data.frame: 6 × 60\n",
       "\\begin{tabular}{r|lllllllllllllllllllll}\n",
       "  & 1\\_C\\_F\\_25 & 2\\_C\\_F\\_25 & 3\\_C\\_F\\_25 & 4\\_C\\_F\\_25 & 5\\_C\\_F\\_25 & 6\\_C\\_F\\_25 & 1\\_C\\_S\\_25 & 2\\_C\\_S\\_25 & 3\\_C\\_S\\_25 & 4\\_C\\_S\\_25 & ⋯ & 3\\_P\\_S\\_5 & 4\\_P\\_S\\_5 & 5\\_P\\_S\\_5 & 6\\_P\\_S\\_5 & 5\\_PBS\\_PBS\\_5 & 1\\_PBS\\_PBS\\_5 & 2\\_PBS\\_PBS\\_5 & 3\\_PBS\\_PBS\\_5 & 4\\_PBS\\_PBS\\_5 & 6\\_PBS\\_PBS\\_5\\\\\n",
       "  & <dbl> & <dbl> & <dbl> & <dbl> & <dbl> & <dbl> & <dbl> & <dbl> & <dbl> & <dbl> & ⋯ & <dbl> & <dbl> & <dbl> & <dbl> & <dbl> & <dbl> & <dbl> & <dbl> & <dbl> & <dbl>\\\\\n",
       "\\hline\n",
       "\tCO3\\_HUMAN & 1488600000 & 3.8066e+09 & 3.9000e+09 & 5.3732e+09 & 2595200000 & 5780700000 & 4.1688e+09 & 2.4289e+09 & 5198100000 & 9.2868e+09 & ⋯ & 4.21e+09 & 7.89e+09 & 9.31e+08 & 7.21e+09 & 3.11e+09 & 3.43e+08 & 1.81e+09 & 3.98e+09 & 5.01e+09 & 1.40e+10\\\\\n",
       "\tK1C19\\_HUMAN & 6021100000 & 1.9726e+10 & 4.1603e+09 & 6.4458e+09 & 7470700000 & 3719100000 & 6.7010e+09 & 1.1612e+10 & 6557700000 & 2.3940e+10 & ⋯ & 2.06e+09 & 5.19e+09 & 8.04e+08 & 3.41e+09 & 1.22e+09 & 1.67e+09 & 4.90e+09 & 1.71e+09 & 6.03e+09 & 3.01e+09\\\\\n",
       "\tTBB4B\\_HUMAN & 3074000000 & 1.4896e+10 & 1.8863e+09 & 1.6609e+09 & 1519400000 & 1549800000 & 3.9525e+09 & 7.9426e+09 & 3895000000 & 1.5815e+10 & ⋯ & 9.84e+08 & 2.55e+09 & 1.11e+08 & 7.52e+08 & 1.51e+08 & 5.06e+08 & 3.53e+09 & 7.61e+08 & 2.70e+09 & 1.70e+09\\\\\n",
       "\tK2C5\\_HUMAN & 4767800000 & 3.5045e+09 & 3.4925e+09 & 5.3666e+09 & 5907300000 & 3072900000 & 5.9636e+09 & 4.7625e+09 & 6328100000 & 2.0851e+10 & ⋯ & 1.70e+09 & 3.08e+09 & 6.41e+08 & 4.38e+09 & 1.05e+09 & 1.63e+09 & 2.78e+09 & 1.72e+09 & 4.92e+09 & 2.37e+09\\\\\n",
       "\tACTG\\_HUMAN & 5420100000 & 1.5121e+10 & 3.4553e+09 & 7.1396e+09 & 4962400000 & 5649500000 & 6.0785e+09 & 1.1247e+10 & 5655600000 & 2.0502e+10 & ⋯ &       NA &       NA &       NA &       NA &       NA &       NA &       NA &       NA &       NA &       NA\\\\\n",
       "\tPIGR\\_HUMAN & 8038200000 & 1.9136e+10 & 1.0893e+10 & 1.4922e+10 & 4744600000 & 9297400000 & 1.4044e+10 & 1.1491e+10 & 7957600000 & 1.5351e+10 & ⋯ & 6.07e+09 & 9.84e+09 & 7.94e+08 & 4.53e+09 & 2.55e+09 & 8.32e+08 & 6.69e+09 & 6.10e+09 & 6.14e+09 & 1.52e+10\\\\\n",
       "\\end{tabular}\n"
      ],
      "text/markdown": [
       "\n",
       "A data.frame: 6 × 60\n",
       "\n",
       "| <!--/--> | 1_C_F_25 &lt;dbl&gt; | 2_C_F_25 &lt;dbl&gt; | 3_C_F_25 &lt;dbl&gt; | 4_C_F_25 &lt;dbl&gt; | 5_C_F_25 &lt;dbl&gt; | 6_C_F_25 &lt;dbl&gt; | 1_C_S_25 &lt;dbl&gt; | 2_C_S_25 &lt;dbl&gt; | 3_C_S_25 &lt;dbl&gt; | 4_C_S_25 &lt;dbl&gt; | ⋯ ⋯ | 3_P_S_5 &lt;dbl&gt; | 4_P_S_5 &lt;dbl&gt; | 5_P_S_5 &lt;dbl&gt; | 6_P_S_5 &lt;dbl&gt; | 5_PBS_PBS_5 &lt;dbl&gt; | 1_PBS_PBS_5 &lt;dbl&gt; | 2_PBS_PBS_5 &lt;dbl&gt; | 3_PBS_PBS_5 &lt;dbl&gt; | 4_PBS_PBS_5 &lt;dbl&gt; | 6_PBS_PBS_5 &lt;dbl&gt; |\n",
       "|---|---|---|---|---|---|---|---|---|---|---|---|---|---|---|---|---|---|---|---|---|---|\n",
       "| CO3_HUMAN | 1488600000 | 3.8066e+09 | 3.9000e+09 | 5.3732e+09 | 2595200000 | 5780700000 | 4.1688e+09 | 2.4289e+09 | 5198100000 | 9.2868e+09 | ⋯ | 4.21e+09 | 7.89e+09 | 9.31e+08 | 7.21e+09 | 3.11e+09 | 3.43e+08 | 1.81e+09 | 3.98e+09 | 5.01e+09 | 1.40e+10 |\n",
       "| K1C19_HUMAN | 6021100000 | 1.9726e+10 | 4.1603e+09 | 6.4458e+09 | 7470700000 | 3719100000 | 6.7010e+09 | 1.1612e+10 | 6557700000 | 2.3940e+10 | ⋯ | 2.06e+09 | 5.19e+09 | 8.04e+08 | 3.41e+09 | 1.22e+09 | 1.67e+09 | 4.90e+09 | 1.71e+09 | 6.03e+09 | 3.01e+09 |\n",
       "| TBB4B_HUMAN | 3074000000 | 1.4896e+10 | 1.8863e+09 | 1.6609e+09 | 1519400000 | 1549800000 | 3.9525e+09 | 7.9426e+09 | 3895000000 | 1.5815e+10 | ⋯ | 9.84e+08 | 2.55e+09 | 1.11e+08 | 7.52e+08 | 1.51e+08 | 5.06e+08 | 3.53e+09 | 7.61e+08 | 2.70e+09 | 1.70e+09 |\n",
       "| K2C5_HUMAN | 4767800000 | 3.5045e+09 | 3.4925e+09 | 5.3666e+09 | 5907300000 | 3072900000 | 5.9636e+09 | 4.7625e+09 | 6328100000 | 2.0851e+10 | ⋯ | 1.70e+09 | 3.08e+09 | 6.41e+08 | 4.38e+09 | 1.05e+09 | 1.63e+09 | 2.78e+09 | 1.72e+09 | 4.92e+09 | 2.37e+09 |\n",
       "| ACTG_HUMAN | 5420100000 | 1.5121e+10 | 3.4553e+09 | 7.1396e+09 | 4962400000 | 5649500000 | 6.0785e+09 | 1.1247e+10 | 5655600000 | 2.0502e+10 | ⋯ |       NA |       NA |       NA |       NA |       NA |       NA |       NA |       NA |       NA |       NA |\n",
       "| PIGR_HUMAN | 8038200000 | 1.9136e+10 | 1.0893e+10 | 1.4922e+10 | 4744600000 | 9297400000 | 1.4044e+10 | 1.1491e+10 | 7957600000 | 1.5351e+10 | ⋯ | 6.07e+09 | 9.84e+09 | 7.94e+08 | 4.53e+09 | 2.55e+09 | 8.32e+08 | 6.69e+09 | 6.10e+09 | 6.14e+09 | 1.52e+10 |\n",
       "\n"
      ],
      "text/plain": [
       "            1_C_F_25   2_C_F_25   3_C_F_25   4_C_F_25   5_C_F_25   6_C_F_25  \n",
       "CO3_HUMAN   1488600000 3.8066e+09 3.9000e+09 5.3732e+09 2595200000 5780700000\n",
       "K1C19_HUMAN 6021100000 1.9726e+10 4.1603e+09 6.4458e+09 7470700000 3719100000\n",
       "TBB4B_HUMAN 3074000000 1.4896e+10 1.8863e+09 1.6609e+09 1519400000 1549800000\n",
       "K2C5_HUMAN  4767800000 3.5045e+09 3.4925e+09 5.3666e+09 5907300000 3072900000\n",
       "ACTG_HUMAN  5420100000 1.5121e+10 3.4553e+09 7.1396e+09 4962400000 5649500000\n",
       "PIGR_HUMAN  8038200000 1.9136e+10 1.0893e+10 1.4922e+10 4744600000 9297400000\n",
       "            1_C_S_25   2_C_S_25   3_C_S_25   4_C_S_25   ⋯ 3_P_S_5  4_P_S_5 \n",
       "CO3_HUMAN   4.1688e+09 2.4289e+09 5198100000 9.2868e+09 ⋯ 4.21e+09 7.89e+09\n",
       "K1C19_HUMAN 6.7010e+09 1.1612e+10 6557700000 2.3940e+10 ⋯ 2.06e+09 5.19e+09\n",
       "TBB4B_HUMAN 3.9525e+09 7.9426e+09 3895000000 1.5815e+10 ⋯ 9.84e+08 2.55e+09\n",
       "K2C5_HUMAN  5.9636e+09 4.7625e+09 6328100000 2.0851e+10 ⋯ 1.70e+09 3.08e+09\n",
       "ACTG_HUMAN  6.0785e+09 1.1247e+10 5655600000 2.0502e+10 ⋯       NA       NA\n",
       "PIGR_HUMAN  1.4044e+10 1.1491e+10 7957600000 1.5351e+10 ⋯ 6.07e+09 9.84e+09\n",
       "            5_P_S_5  6_P_S_5  5_PBS_PBS_5 1_PBS_PBS_5 2_PBS_PBS_5 3_PBS_PBS_5\n",
       "CO3_HUMAN   9.31e+08 7.21e+09 3.11e+09    3.43e+08    1.81e+09    3.98e+09   \n",
       "K1C19_HUMAN 8.04e+08 3.41e+09 1.22e+09    1.67e+09    4.90e+09    1.71e+09   \n",
       "TBB4B_HUMAN 1.11e+08 7.52e+08 1.51e+08    5.06e+08    3.53e+09    7.61e+08   \n",
       "K2C5_HUMAN  6.41e+08 4.38e+09 1.05e+09    1.63e+09    2.78e+09    1.72e+09   \n",
       "ACTG_HUMAN        NA       NA       NA          NA          NA          NA   \n",
       "PIGR_HUMAN  7.94e+08 4.53e+09 2.55e+09    8.32e+08    6.69e+09    6.10e+09   \n",
       "            4_PBS_PBS_5 6_PBS_PBS_5\n",
       "CO3_HUMAN   5.01e+09    1.40e+10   \n",
       "K1C19_HUMAN 6.03e+09    3.01e+09   \n",
       "TBB4B_HUMAN 2.70e+09    1.70e+09   \n",
       "K2C5_HUMAN  4.92e+09    2.37e+09   \n",
       "ACTG_HUMAN        NA          NA   \n",
       "PIGR_HUMAN  6.14e+09    1.52e+10   "
      ]
     },
     "metadata": {},
     "output_type": "display_data"
    }
   ],
   "source": [
    "# first converting from long to wide format, which is necessary for the vsn function\n",
    "wider_proteomics_df = rbind(proteomics_25_df, proteomics_5_df) %>%\n",
    "# creating sample ids\n",
    "    unite(\"SampleID\", c(colnames(proteomics_25_df)[c(1,6:8)])) %>%\n",
    "    select(-c(\"Gene_Name\", \"Description\", \"Intensity_pslog2\", \"Subject_ID\")) %>%\n",
    "    pivot_wider(names_from = \"SampleID\", values_from = \"Intensity\") %>%\n",
    "    column_to_rownames(var = \"Protein_Accession\")\n",
    "\n",
    "head(wider_proteomics_df)"
   ]
  },
  {
   "cell_type": "markdown",
   "id": "239d734c",
   "metadata": {},
   "source": [
    "# Peptide Normalization\n",
    "Normalize to total amount of peptide per subject: take the intensity value for each protein for each subject, then calculate the median value, and calculate the ratio."
   ]
  },
  {
   "cell_type": "code",
   "execution_count": 3,
   "id": "0e105a88",
   "metadata": {},
   "outputs": [
    {
     "data": {
      "text/html": [
       "<table class=\"dataframe\">\n",
       "<caption>A tibble: 6 × 10</caption>\n",
       "<thead>\n",
       "\t<tr><th scope=col>Subject_No</th><th scope=col>Subject_ID</th><th scope=col>Protein_Accession</th><th scope=col>Gene_Name</th><th scope=col>Description</th><th scope=col>Condensate</th><th scope=col>Burn_Condition</th><th scope=col>Concentration</th><th scope=col>Norm_Intensity</th><th scope=col>Norm_Intensity_pslog2</th></tr>\n",
       "\t<tr><th scope=col>&lt;dbl&gt;</th><th scope=col>&lt;chr&gt;</th><th scope=col>&lt;chr&gt;</th><th scope=col>&lt;chr&gt;</th><th scope=col>&lt;chr&gt;</th><th scope=col>&lt;chr&gt;</th><th scope=col>&lt;chr&gt;</th><th scope=col>&lt;dbl&gt;</th><th scope=col>&lt;dbl&gt;</th><th scope=col>&lt;dbl&gt;</th></tr>\n",
       "</thead>\n",
       "<tbody>\n",
       "\t<tr><td>1</td><td>F_1</td><td>CO3_HUMAN</td><td>C3</td><td>Complement C3 OS=Homo sapiens OX=9606 GN=C3 PE=1 SV=2</td><td>C</td><td>F</td><td>25</td><td>1657403040</td><td>30.62628</td></tr>\n",
       "\t<tr><td>2</td><td>M_2</td><td>CO3_HUMAN</td><td>C3</td><td>Complement C3 OS=Homo sapiens OX=9606 GN=C3 PE=1 SV=2</td><td>C</td><td>F</td><td>25</td><td>1104030254</td><td>30.04013</td></tr>\n",
       "\t<tr><td>3</td><td>M_3</td><td>CO3_HUMAN</td><td>C3</td><td>Complement C3 OS=Homo sapiens OX=9606 GN=C3 PE=1 SV=2</td><td>C</td><td>F</td><td>25</td><td>3833400337</td><td>31.83598</td></tr>\n",
       "\t<tr><td>4</td><td>F_4</td><td>CO3_HUMAN</td><td>C3</td><td>Complement C3 OS=Homo sapiens OX=9606 GN=C3 PE=1 SV=2</td><td>C</td><td>F</td><td>25</td><td>3751240231</td><td>31.80472</td></tr>\n",
       "\t<tr><td>5</td><td>F_5</td><td>CO3_HUMAN</td><td>C3</td><td>Complement C3 OS=Homo sapiens OX=9606 GN=C3 PE=1 SV=2</td><td>C</td><td>F</td><td>25</td><td>3011320293</td><td>31.48775</td></tr>\n",
       "\t<tr><td>6</td><td>M_6</td><td>CO3_HUMAN</td><td>C3</td><td>Complement C3 OS=Homo sapiens OX=9606 GN=C3 PE=1 SV=2</td><td>C</td><td>F</td><td>25</td><td>6331729010</td><td>32.55995</td></tr>\n",
       "</tbody>\n",
       "</table>\n"
      ],
      "text/latex": [
       "A tibble: 6 × 10\n",
       "\\begin{tabular}{llllllllll}\n",
       " Subject\\_No & Subject\\_ID & Protein\\_Accession & Gene\\_Name & Description & Condensate & Burn\\_Condition & Concentration & Norm\\_Intensity & Norm\\_Intensity\\_pslog2\\\\\n",
       " <dbl> & <chr> & <chr> & <chr> & <chr> & <chr> & <chr> & <dbl> & <dbl> & <dbl>\\\\\n",
       "\\hline\n",
       "\t 1 & F\\_1 & CO3\\_HUMAN & C3 & Complement C3 OS=Homo sapiens OX=9606 GN=C3 PE=1 SV=2 & C & F & 25 & 1657403040 & 30.62628\\\\\n",
       "\t 2 & M\\_2 & CO3\\_HUMAN & C3 & Complement C3 OS=Homo sapiens OX=9606 GN=C3 PE=1 SV=2 & C & F & 25 & 1104030254 & 30.04013\\\\\n",
       "\t 3 & M\\_3 & CO3\\_HUMAN & C3 & Complement C3 OS=Homo sapiens OX=9606 GN=C3 PE=1 SV=2 & C & F & 25 & 3833400337 & 31.83598\\\\\n",
       "\t 4 & F\\_4 & CO3\\_HUMAN & C3 & Complement C3 OS=Homo sapiens OX=9606 GN=C3 PE=1 SV=2 & C & F & 25 & 3751240231 & 31.80472\\\\\n",
       "\t 5 & F\\_5 & CO3\\_HUMAN & C3 & Complement C3 OS=Homo sapiens OX=9606 GN=C3 PE=1 SV=2 & C & F & 25 & 3011320293 & 31.48775\\\\\n",
       "\t 6 & M\\_6 & CO3\\_HUMAN & C3 & Complement C3 OS=Homo sapiens OX=9606 GN=C3 PE=1 SV=2 & C & F & 25 & 6331729010 & 32.55995\\\\\n",
       "\\end{tabular}\n"
      ],
      "text/markdown": [
       "\n",
       "A tibble: 6 × 10\n",
       "\n",
       "| Subject_No &lt;dbl&gt; | Subject_ID &lt;chr&gt; | Protein_Accession &lt;chr&gt; | Gene_Name &lt;chr&gt; | Description &lt;chr&gt; | Condensate &lt;chr&gt; | Burn_Condition &lt;chr&gt; | Concentration &lt;dbl&gt; | Norm_Intensity &lt;dbl&gt; | Norm_Intensity_pslog2 &lt;dbl&gt; |\n",
       "|---|---|---|---|---|---|---|---|---|---|\n",
       "| 1 | F_1 | CO3_HUMAN | C3 | Complement C3 OS=Homo sapiens OX=9606 GN=C3 PE=1 SV=2 | C | F | 25 | 1657403040 | 30.62628 |\n",
       "| 2 | M_2 | CO3_HUMAN | C3 | Complement C3 OS=Homo sapiens OX=9606 GN=C3 PE=1 SV=2 | C | F | 25 | 1104030254 | 30.04013 |\n",
       "| 3 | M_3 | CO3_HUMAN | C3 | Complement C3 OS=Homo sapiens OX=9606 GN=C3 PE=1 SV=2 | C | F | 25 | 3833400337 | 31.83598 |\n",
       "| 4 | F_4 | CO3_HUMAN | C3 | Complement C3 OS=Homo sapiens OX=9606 GN=C3 PE=1 SV=2 | C | F | 25 | 3751240231 | 31.80472 |\n",
       "| 5 | F_5 | CO3_HUMAN | C3 | Complement C3 OS=Homo sapiens OX=9606 GN=C3 PE=1 SV=2 | C | F | 25 | 3011320293 | 31.48775 |\n",
       "| 6 | M_6 | CO3_HUMAN | C3 | Complement C3 OS=Homo sapiens OX=9606 GN=C3 PE=1 SV=2 | C | F | 25 | 6331729010 | 32.55995 |\n",
       "\n"
      ],
      "text/plain": [
       "  Subject_No Subject_ID Protein_Accession Gene_Name\n",
       "1 1          F_1        CO3_HUMAN         C3       \n",
       "2 2          M_2        CO3_HUMAN         C3       \n",
       "3 3          M_3        CO3_HUMAN         C3       \n",
       "4 4          F_4        CO3_HUMAN         C3       \n",
       "5 5          F_5        CO3_HUMAN         C3       \n",
       "6 6          M_6        CO3_HUMAN         C3       \n",
       "  Description                                           Condensate\n",
       "1 Complement C3 OS=Homo sapiens OX=9606 GN=C3 PE=1 SV=2 C         \n",
       "2 Complement C3 OS=Homo sapiens OX=9606 GN=C3 PE=1 SV=2 C         \n",
       "3 Complement C3 OS=Homo sapiens OX=9606 GN=C3 PE=1 SV=2 C         \n",
       "4 Complement C3 OS=Homo sapiens OX=9606 GN=C3 PE=1 SV=2 C         \n",
       "5 Complement C3 OS=Homo sapiens OX=9606 GN=C3 PE=1 SV=2 C         \n",
       "6 Complement C3 OS=Homo sapiens OX=9606 GN=C3 PE=1 SV=2 C         \n",
       "  Burn_Condition Concentration Norm_Intensity Norm_Intensity_pslog2\n",
       "1 F              25            1657403040     30.62628             \n",
       "2 F              25            1104030254     30.04013             \n",
       "3 F              25            3833400337     31.83598             \n",
       "4 F              25            3751240231     31.80472             \n",
       "5 F              25            3011320293     31.48775             \n",
       "6 F              25            6331729010     32.55995             "
      ]
     },
     "metadata": {},
     "output_type": "display_data"
    }
   ],
   "source": [
    "# creating 1 df\n",
    "proteomics_df = rbind(proteomics_25_df, proteomics_5_df)\n",
    "\n",
    "normalized_df = proteomics_df %>%\n",
    "    group_by(Concentration, Condensate, Burn_Condition, Subject_ID) %>%\n",
    "    #removing missing data (to be added back in later)\n",
    "    drop_na() %>%\n",
    "    mutate(Summed_Intensity = sum(Intensity)) %>%\n",
    "    #calculating median across all subjects but still within each set\n",
    "    ungroup() %>%\n",
    "    mutate(Median_of_Sum = median(Summed_Intensity), Norm_Factor = Summed_Intensity/ Median_of_Sum, \n",
    "           Norm_Intensity = Intensity/Norm_Factor, Norm_Intensity_pslog2 = log2(Norm_Intensity + 1)) %>%\n",
    "    select(-c(\"Summed_Intensity\", \"Median_of_Sum\", \"Norm_Factor\", \"Intensity\", \"Intensity_pslog2\"))\n",
    "\n",
    "head(normalized_df)"
   ]
  },
  {
   "cell_type": "code",
   "execution_count": 4,
   "id": "3e802d38",
   "metadata": {},
   "outputs": [],
   "source": [
    "# splitting into 2 dfs again to decrease the file size\n",
    "split_proteomics_df = normalized_df %>%\n",
    "    group_by(Concentration) %>%\n",
    "    group_split()\n",
    "\n",
    "norm_proteomics_5_df = split_proteomics_df[[1]]\n",
    "norm_proteomics_25_df = split_proteomics_df[[2]]"
   ]
  },
  {
   "cell_type": "code",
   "execution_count": 5,
   "id": "d0996bcf",
   "metadata": {},
   "outputs": [],
   "source": [
    "# exporting\n",
    "write.xlsx(norm_proteomics_25_df, paste0(Output,\"/\", \"Normalized_Proteomics_Data_25ug_\", cur_date, \".xlsx\"), \n",
    "           rowNames = FALSE)\n",
    "write.xlsx(norm_proteomics_5_df, paste0(Output,\"/\", \"Normalized_Proteomics_Data_5ug_\", cur_date, \".xlsx\"), \n",
    "           rowNames = FALSE)"
   ]
  }
 ],
 "metadata": {
  "kernelspec": {
   "display_name": "R",
   "language": "R",
   "name": "ir"
  },
  "language_info": {
   "codemirror_mode": "r",
   "file_extension": ".r",
   "mimetype": "text/x-r-source",
   "name": "R",
   "pygments_lexer": "r",
   "version": "4.1.3"
  }
 },
 "nbformat": 4,
 "nbformat_minor": 5
}
