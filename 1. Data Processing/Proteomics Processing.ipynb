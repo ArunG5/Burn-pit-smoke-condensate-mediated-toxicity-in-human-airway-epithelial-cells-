{
 "cells": [
  {
   "cell_type": "code",
   "execution_count": 1,
   "id": "13fe40a7",
   "metadata": {},
   "outputs": [
    {
     "name": "stderr",
     "output_type": "stream",
     "text": [
      "── \u001b[1mAttaching core tidyverse packages\u001b[22m ──────────────────────── tidyverse 2.0.0 ──\n",
      "\u001b[32m✔\u001b[39m \u001b[34mdplyr    \u001b[39m 1.1.2     \u001b[32m✔\u001b[39m \u001b[34mreadr    \u001b[39m 2.1.4\n",
      "\u001b[32m✔\u001b[39m \u001b[34mforcats  \u001b[39m 1.0.0     \u001b[32m✔\u001b[39m \u001b[34mstringr  \u001b[39m 1.5.0\n",
      "\u001b[32m✔\u001b[39m \u001b[34mggplot2  \u001b[39m 3.4.2     \u001b[32m✔\u001b[39m \u001b[34mtibble   \u001b[39m 3.2.1\n",
      "\u001b[32m✔\u001b[39m \u001b[34mlubridate\u001b[39m 1.9.2     \u001b[32m✔\u001b[39m \u001b[34mtidyr    \u001b[39m 1.3.0\n",
      "\u001b[32m✔\u001b[39m \u001b[34mpurrr    \u001b[39m 1.0.1     \n",
      "── \u001b[1mConflicts\u001b[22m ────────────────────────────────────────── tidyverse_conflicts() ──\n",
      "\u001b[31m✖\u001b[39m \u001b[34mdplyr\u001b[39m::\u001b[32mfilter()\u001b[39m masks \u001b[34mstats\u001b[39m::filter()\n",
      "\u001b[31m✖\u001b[39m \u001b[34mdplyr\u001b[39m::\u001b[32mlag()\u001b[39m    masks \u001b[34mstats\u001b[39m::lag()\n",
      "\u001b[36mℹ\u001b[39m Use the conflicted package (\u001b[3m\u001b[34m<http://conflicted.r-lib.org/>\u001b[39m\u001b[23m) to force all conflicts to become errors\n",
      "Loading required package: Biobase\n",
      "\n",
      "Loading required package: BiocGenerics\n",
      "\n",
      "\n",
      "Attaching package: ‘BiocGenerics’\n",
      "\n",
      "\n",
      "The following objects are masked from ‘package:lubridate’:\n",
      "\n",
      "    intersect, setdiff, union\n",
      "\n",
      "\n",
      "The following objects are masked from ‘package:dplyr’:\n",
      "\n",
      "    combine, intersect, setdiff, union\n",
      "\n",
      "\n",
      "The following objects are masked from ‘package:stats’:\n",
      "\n",
      "    IQR, mad, sd, var, xtabs\n",
      "\n",
      "\n",
      "The following objects are masked from ‘package:base’:\n",
      "\n",
      "    Filter, Find, Map, Position, Reduce, anyDuplicated, append,\n",
      "    as.data.frame, basename, cbind, colnames, dirname, do.call,\n",
      "    duplicated, eval, evalq, get, grep, grepl, intersect, is.unsorted,\n",
      "    lapply, mapply, match, mget, order, paste, pmax, pmax.int, pmin,\n",
      "    pmin.int, rank, rbind, rownames, sapply, setdiff, sort, table,\n",
      "    tapply, union, unique, unsplit, which.max, which.min\n",
      "\n",
      "\n",
      "Welcome to Bioconductor\n",
      "\n",
      "    Vignettes contain introductory material; view with\n",
      "    'browseVignettes()'. To cite Bioconductor, see\n",
      "    'citation(\"Biobase\")', and for packages 'citation(\"pkgname\")'.\n",
      "\n",
      "\n"
     ]
    }
   ],
   "source": [
    "Output = c('/Users/alexis/Library/CloudStorage/OneDrive-UniversityofNorthCarolinaatChapelHill/CEMALB_DataAnalysisPM/Projects/P1011. Emission Mixtures/P1011.3. Analyses/P1011.3.1. Data Processing/Output')\n",
    "cur_date = \"081523\"\n",
    "\n",
    "library(readxl)\n",
    "library(tidyverse)\n",
    "library(openxlsx)\n",
    "library(vsn)\n",
    "\n",
    "# reading in files\n",
    "proteomics_5_df = data.frame(read_excel(\"Input/Proteomics_Data_5ug_040423.xlsx\", sheet = 2))\n",
    "proteomics_25_df = data.frame(read_excel(\"Input/Proteomics_Data_25ug_040423.xlsx\", sheet = 2))"
   ]
  },
  {
   "cell_type": "code",
   "execution_count": 2,
   "id": "71a67118",
   "metadata": {},
   "outputs": [
    {
     "data": {
      "text/html": [
       "<table class=\"dataframe\">\n",
       "<caption>A data.frame: 6 × 10</caption>\n",
       "<thead>\n",
       "\t<tr><th></th><th scope=col>Subject_No</th><th scope=col>Subject_ID</th><th scope=col>Protein_Accession</th><th scope=col>Gene_Name</th><th scope=col>Description</th><th scope=col>Condensate</th><th scope=col>Burn_Condition</th><th scope=col>Concentration</th><th scope=col>Intensity</th><th scope=col>Intensity_pslog2</th></tr>\n",
       "\t<tr><th></th><th scope=col>&lt;dbl&gt;</th><th scope=col>&lt;chr&gt;</th><th scope=col>&lt;chr&gt;</th><th scope=col>&lt;chr&gt;</th><th scope=col>&lt;chr&gt;</th><th scope=col>&lt;chr&gt;</th><th scope=col>&lt;chr&gt;</th><th scope=col>&lt;dbl&gt;</th><th scope=col>&lt;dbl&gt;</th><th scope=col>&lt;dbl&gt;</th></tr>\n",
       "</thead>\n",
       "<tbody>\n",
       "\t<tr><th scope=row>1</th><td>1</td><td>F_1</td><td>CO3_HUMAN</td><td>C3</td><td>Complement C3 OS=Homo sapiens OX=9606 GN=C3 PE=1 SV=2</td><td>C</td><td>F</td><td>25</td><td>1488600000</td><td>30.47131</td></tr>\n",
       "\t<tr><th scope=row>2</th><td>2</td><td>M_2</td><td>CO3_HUMAN</td><td>C3</td><td>Complement C3 OS=Homo sapiens OX=9606 GN=C3 PE=1 SV=2</td><td>C</td><td>F</td><td>25</td><td>3806600000</td><td>31.82586</td></tr>\n",
       "\t<tr><th scope=row>3</th><td>3</td><td>M_3</td><td>CO3_HUMAN</td><td>C3</td><td>Complement C3 OS=Homo sapiens OX=9606 GN=C3 PE=1 SV=2</td><td>C</td><td>F</td><td>25</td><td>3900000000</td><td>31.86083</td></tr>\n",
       "\t<tr><th scope=row>4</th><td>4</td><td>F_4</td><td>CO3_HUMAN</td><td>C3</td><td>Complement C3 OS=Homo sapiens OX=9606 GN=C3 PE=1 SV=2</td><td>C</td><td>F</td><td>25</td><td>5373200000</td><td>32.32313</td></tr>\n",
       "\t<tr><th scope=row>5</th><td>5</td><td>F_5</td><td>CO3_HUMAN</td><td>C3</td><td>Complement C3 OS=Homo sapiens OX=9606 GN=C3 PE=1 SV=2</td><td>C</td><td>F</td><td>25</td><td>2595200000</td><td>31.27320</td></tr>\n",
       "\t<tr><th scope=row>6</th><td>6</td><td>M_6</td><td>CO3_HUMAN</td><td>C3</td><td>Complement C3 OS=Homo sapiens OX=9606 GN=C3 PE=1 SV=2</td><td>C</td><td>F</td><td>25</td><td>5780700000</td><td>32.42860</td></tr>\n",
       "</tbody>\n",
       "</table>\n"
      ],
      "text/latex": [
       "A data.frame: 6 × 10\n",
       "\\begin{tabular}{r|llllllllll}\n",
       "  & Subject\\_No & Subject\\_ID & Protein\\_Accession & Gene\\_Name & Description & Condensate & Burn\\_Condition & Concentration & Intensity & Intensity\\_pslog2\\\\\n",
       "  & <dbl> & <chr> & <chr> & <chr> & <chr> & <chr> & <chr> & <dbl> & <dbl> & <dbl>\\\\\n",
       "\\hline\n",
       "\t1 & 1 & F\\_1 & CO3\\_HUMAN & C3 & Complement C3 OS=Homo sapiens OX=9606 GN=C3 PE=1 SV=2 & C & F & 25 & 1488600000 & 30.47131\\\\\n",
       "\t2 & 2 & M\\_2 & CO3\\_HUMAN & C3 & Complement C3 OS=Homo sapiens OX=9606 GN=C3 PE=1 SV=2 & C & F & 25 & 3806600000 & 31.82586\\\\\n",
       "\t3 & 3 & M\\_3 & CO3\\_HUMAN & C3 & Complement C3 OS=Homo sapiens OX=9606 GN=C3 PE=1 SV=2 & C & F & 25 & 3900000000 & 31.86083\\\\\n",
       "\t4 & 4 & F\\_4 & CO3\\_HUMAN & C3 & Complement C3 OS=Homo sapiens OX=9606 GN=C3 PE=1 SV=2 & C & F & 25 & 5373200000 & 32.32313\\\\\n",
       "\t5 & 5 & F\\_5 & CO3\\_HUMAN & C3 & Complement C3 OS=Homo sapiens OX=9606 GN=C3 PE=1 SV=2 & C & F & 25 & 2595200000 & 31.27320\\\\\n",
       "\t6 & 6 & M\\_6 & CO3\\_HUMAN & C3 & Complement C3 OS=Homo sapiens OX=9606 GN=C3 PE=1 SV=2 & C & F & 25 & 5780700000 & 32.42860\\\\\n",
       "\\end{tabular}\n"
      ],
      "text/markdown": [
       "\n",
       "A data.frame: 6 × 10\n",
       "\n",
       "| <!--/--> | Subject_No &lt;dbl&gt; | Subject_ID &lt;chr&gt; | Protein_Accession &lt;chr&gt; | Gene_Name &lt;chr&gt; | Description &lt;chr&gt; | Condensate &lt;chr&gt; | Burn_Condition &lt;chr&gt; | Concentration &lt;dbl&gt; | Intensity &lt;dbl&gt; | Intensity_pslog2 &lt;dbl&gt; |\n",
       "|---|---|---|---|---|---|---|---|---|---|---|\n",
       "| 1 | 1 | F_1 | CO3_HUMAN | C3 | Complement C3 OS=Homo sapiens OX=9606 GN=C3 PE=1 SV=2 | C | F | 25 | 1488600000 | 30.47131 |\n",
       "| 2 | 2 | M_2 | CO3_HUMAN | C3 | Complement C3 OS=Homo sapiens OX=9606 GN=C3 PE=1 SV=2 | C | F | 25 | 3806600000 | 31.82586 |\n",
       "| 3 | 3 | M_3 | CO3_HUMAN | C3 | Complement C3 OS=Homo sapiens OX=9606 GN=C3 PE=1 SV=2 | C | F | 25 | 3900000000 | 31.86083 |\n",
       "| 4 | 4 | F_4 | CO3_HUMAN | C3 | Complement C3 OS=Homo sapiens OX=9606 GN=C3 PE=1 SV=2 | C | F | 25 | 5373200000 | 32.32313 |\n",
       "| 5 | 5 | F_5 | CO3_HUMAN | C3 | Complement C3 OS=Homo sapiens OX=9606 GN=C3 PE=1 SV=2 | C | F | 25 | 2595200000 | 31.27320 |\n",
       "| 6 | 6 | M_6 | CO3_HUMAN | C3 | Complement C3 OS=Homo sapiens OX=9606 GN=C3 PE=1 SV=2 | C | F | 25 | 5780700000 | 32.42860 |\n",
       "\n"
      ],
      "text/plain": [
       "  Subject_No Subject_ID Protein_Accession Gene_Name\n",
       "1 1          F_1        CO3_HUMAN         C3       \n",
       "2 2          M_2        CO3_HUMAN         C3       \n",
       "3 3          M_3        CO3_HUMAN         C3       \n",
       "4 4          F_4        CO3_HUMAN         C3       \n",
       "5 5          F_5        CO3_HUMAN         C3       \n",
       "6 6          M_6        CO3_HUMAN         C3       \n",
       "  Description                                           Condensate\n",
       "1 Complement C3 OS=Homo sapiens OX=9606 GN=C3 PE=1 SV=2 C         \n",
       "2 Complement C3 OS=Homo sapiens OX=9606 GN=C3 PE=1 SV=2 C         \n",
       "3 Complement C3 OS=Homo sapiens OX=9606 GN=C3 PE=1 SV=2 C         \n",
       "4 Complement C3 OS=Homo sapiens OX=9606 GN=C3 PE=1 SV=2 C         \n",
       "5 Complement C3 OS=Homo sapiens OX=9606 GN=C3 PE=1 SV=2 C         \n",
       "6 Complement C3 OS=Homo sapiens OX=9606 GN=C3 PE=1 SV=2 C         \n",
       "  Burn_Condition Concentration Intensity  Intensity_pslog2\n",
       "1 F              25            1488600000 30.47131        \n",
       "2 F              25            3806600000 31.82586        \n",
       "3 F              25            3900000000 31.86083        \n",
       "4 F              25            5373200000 32.32313        \n",
       "5 F              25            2595200000 31.27320        \n",
       "6 F              25            5780700000 32.42860        "
      ]
     },
     "metadata": {},
     "output_type": "display_data"
    }
   ],
   "source": [
    "head(proteomics_25_df)"
   ]
  },
  {
   "cell_type": "markdown",
   "id": "239d734c",
   "metadata": {},
   "source": [
    "# Peptide Normalization\n",
    "Using Variance Stabilizing Normalization (VSN)."
   ]
  },
  {
   "cell_type": "code",
   "execution_count": 3,
   "id": "35e6e0d4",
   "metadata": {},
   "outputs": [
    {
     "data": {
      "text/html": [
       "<table class=\"dataframe\">\n",
       "<caption>A data.frame: 6 × 30</caption>\n",
       "<thead>\n",
       "\t<tr><th></th><th scope=col>1_C_F_25</th><th scope=col>2_C_F_25</th><th scope=col>3_C_F_25</th><th scope=col>4_C_F_25</th><th scope=col>5_C_F_25</th><th scope=col>6_C_F_25</th><th scope=col>1_C_S_25</th><th scope=col>2_C_S_25</th><th scope=col>3_C_S_25</th><th scope=col>4_C_S_25</th><th scope=col>⋯</th><th scope=col>3_P_F_25</th><th scope=col>4_P_F_25</th><th scope=col>5_P_F_25</th><th scope=col>6_P_F_25</th><th scope=col>1_P_S_25</th><th scope=col>2_P_S_25</th><th scope=col>3_P_S_25</th><th scope=col>4_P_S_25</th><th scope=col>5_P_S_25</th><th scope=col>6_P_S_25</th></tr>\n",
       "\t<tr><th></th><th scope=col>&lt;dbl&gt;</th><th scope=col>&lt;dbl&gt;</th><th scope=col>&lt;dbl&gt;</th><th scope=col>&lt;dbl&gt;</th><th scope=col>&lt;dbl&gt;</th><th scope=col>&lt;dbl&gt;</th><th scope=col>&lt;dbl&gt;</th><th scope=col>&lt;dbl&gt;</th><th scope=col>&lt;dbl&gt;</th><th scope=col>&lt;dbl&gt;</th><th scope=col>⋯</th><th scope=col>&lt;dbl&gt;</th><th scope=col>&lt;dbl&gt;</th><th scope=col>&lt;dbl&gt;</th><th scope=col>&lt;dbl&gt;</th><th scope=col>&lt;dbl&gt;</th><th scope=col>&lt;dbl&gt;</th><th scope=col>&lt;dbl&gt;</th><th scope=col>&lt;dbl&gt;</th><th scope=col>&lt;dbl&gt;</th><th scope=col>&lt;dbl&gt;</th></tr>\n",
       "</thead>\n",
       "<tbody>\n",
       "\t<tr><th scope=row>CO3_HUMAN</th><td>1488600000</td><td>3.8066e+09</td><td>3.9000e+09</td><td>5.3732e+09</td><td>2595200000</td><td>5780700000</td><td>4.1688e+09</td><td>2.4289e+09</td><td>5198100000</td><td>9.2868e+09</td><td>⋯</td><td>4510300000</td><td>1.0391e+10</td><td>3766600000</td><td>5460200000</td><td>2249000000</td><td>2.8799e+09</td><td>4.8758e+09</td><td>1.4966e+10</td><td>3734300000</td><td>1.6081e+10</td></tr>\n",
       "\t<tr><th scope=row>K1C19_HUMAN</th><td>6021100000</td><td>1.9726e+10</td><td>4.1603e+09</td><td>6.4458e+09</td><td>7470700000</td><td>3719100000</td><td>6.7010e+09</td><td>1.1612e+10</td><td>6557700000</td><td>2.3940e+10</td><td>⋯</td><td>4210400000</td><td>1.3241e+10</td><td>8344100000</td><td>8590100000</td><td>6055100000</td><td>9.1549e+09</td><td>1.0989e+10</td><td>1.6041e+10</td><td>4841700000</td><td>6.4467e+09</td></tr>\n",
       "\t<tr><th scope=row>TBB4B_HUMAN</th><td>3074000000</td><td>1.4896e+10</td><td>1.8863e+09</td><td>1.6609e+09</td><td>1519400000</td><td>1549800000</td><td>3.9525e+09</td><td>7.9426e+09</td><td>3895000000</td><td>1.5815e+10</td><td>⋯</td><td>1394300000</td><td>8.5374e+09</td><td>1532300000</td><td>2165400000</td><td>2559400000</td><td>5.2964e+09</td><td>5.9698e+09</td><td>4.1671e+09</td><td> 800010000</td><td>1.7326e+09</td></tr>\n",
       "\t<tr><th scope=row>K2C5_HUMAN</th><td>4767800000</td><td>3.5045e+09</td><td>3.4925e+09</td><td>5.3666e+09</td><td>5907300000</td><td>3072900000</td><td>5.9636e+09</td><td>4.7625e+09</td><td>6328100000</td><td>2.0851e+10</td><td>⋯</td><td>2765300000</td><td>1.1176e+10</td><td>6433300000</td><td>8647300000</td><td>6477100000</td><td>9.5103e+09</td><td>4.7240e+09</td><td>1.5121e+10</td><td>4511100000</td><td>4.0606e+09</td></tr>\n",
       "\t<tr><th scope=row>ACTG_HUMAN</th><td>5420100000</td><td>1.5121e+10</td><td>3.4553e+09</td><td>7.1396e+09</td><td>4962400000</td><td>5649500000</td><td>6.0785e+09</td><td>1.1247e+10</td><td>5655600000</td><td>2.0502e+10</td><td>⋯</td><td>5309400000</td><td>1.4584e+10</td><td>5596300000</td><td>7149100000</td><td>3947400000</td><td>1.0762e+10</td><td>1.0041e+10</td><td>1.3861e+10</td><td>3347300000</td><td>6.1786e+09</td></tr>\n",
       "\t<tr><th scope=row>PIGR_HUMAN</th><td>8038200000</td><td>1.9136e+10</td><td>1.0893e+10</td><td>1.4922e+10</td><td>4744600000</td><td>9297400000</td><td>1.4044e+10</td><td>1.1491e+10</td><td>7957600000</td><td>1.5351e+10</td><td>⋯</td><td>9538300000</td><td>1.7464e+10</td><td>5873800000</td><td>7215000000</td><td>7007500000</td><td>1.1390e+10</td><td>5.7456e+09</td><td>1.8687e+10</td><td>3939200000</td><td>1.4047e+10</td></tr>\n",
       "</tbody>\n",
       "</table>\n"
      ],
      "text/latex": [
       "A data.frame: 6 × 30\n",
       "\\begin{tabular}{r|lllllllllllllllllllll}\n",
       "  & 1\\_C\\_F\\_25 & 2\\_C\\_F\\_25 & 3\\_C\\_F\\_25 & 4\\_C\\_F\\_25 & 5\\_C\\_F\\_25 & 6\\_C\\_F\\_25 & 1\\_C\\_S\\_25 & 2\\_C\\_S\\_25 & 3\\_C\\_S\\_25 & 4\\_C\\_S\\_25 & ⋯ & 3\\_P\\_F\\_25 & 4\\_P\\_F\\_25 & 5\\_P\\_F\\_25 & 6\\_P\\_F\\_25 & 1\\_P\\_S\\_25 & 2\\_P\\_S\\_25 & 3\\_P\\_S\\_25 & 4\\_P\\_S\\_25 & 5\\_P\\_S\\_25 & 6\\_P\\_S\\_25\\\\\n",
       "  & <dbl> & <dbl> & <dbl> & <dbl> & <dbl> & <dbl> & <dbl> & <dbl> & <dbl> & <dbl> & ⋯ & <dbl> & <dbl> & <dbl> & <dbl> & <dbl> & <dbl> & <dbl> & <dbl> & <dbl> & <dbl>\\\\\n",
       "\\hline\n",
       "\tCO3\\_HUMAN & 1488600000 & 3.8066e+09 & 3.9000e+09 & 5.3732e+09 & 2595200000 & 5780700000 & 4.1688e+09 & 2.4289e+09 & 5198100000 & 9.2868e+09 & ⋯ & 4510300000 & 1.0391e+10 & 3766600000 & 5460200000 & 2249000000 & 2.8799e+09 & 4.8758e+09 & 1.4966e+10 & 3734300000 & 1.6081e+10\\\\\n",
       "\tK1C19\\_HUMAN & 6021100000 & 1.9726e+10 & 4.1603e+09 & 6.4458e+09 & 7470700000 & 3719100000 & 6.7010e+09 & 1.1612e+10 & 6557700000 & 2.3940e+10 & ⋯ & 4210400000 & 1.3241e+10 & 8344100000 & 8590100000 & 6055100000 & 9.1549e+09 & 1.0989e+10 & 1.6041e+10 & 4841700000 & 6.4467e+09\\\\\n",
       "\tTBB4B\\_HUMAN & 3074000000 & 1.4896e+10 & 1.8863e+09 & 1.6609e+09 & 1519400000 & 1549800000 & 3.9525e+09 & 7.9426e+09 & 3895000000 & 1.5815e+10 & ⋯ & 1394300000 & 8.5374e+09 & 1532300000 & 2165400000 & 2559400000 & 5.2964e+09 & 5.9698e+09 & 4.1671e+09 &  800010000 & 1.7326e+09\\\\\n",
       "\tK2C5\\_HUMAN & 4767800000 & 3.5045e+09 & 3.4925e+09 & 5.3666e+09 & 5907300000 & 3072900000 & 5.9636e+09 & 4.7625e+09 & 6328100000 & 2.0851e+10 & ⋯ & 2765300000 & 1.1176e+10 & 6433300000 & 8647300000 & 6477100000 & 9.5103e+09 & 4.7240e+09 & 1.5121e+10 & 4511100000 & 4.0606e+09\\\\\n",
       "\tACTG\\_HUMAN & 5420100000 & 1.5121e+10 & 3.4553e+09 & 7.1396e+09 & 4962400000 & 5649500000 & 6.0785e+09 & 1.1247e+10 & 5655600000 & 2.0502e+10 & ⋯ & 5309400000 & 1.4584e+10 & 5596300000 & 7149100000 & 3947400000 & 1.0762e+10 & 1.0041e+10 & 1.3861e+10 & 3347300000 & 6.1786e+09\\\\\n",
       "\tPIGR\\_HUMAN & 8038200000 & 1.9136e+10 & 1.0893e+10 & 1.4922e+10 & 4744600000 & 9297400000 & 1.4044e+10 & 1.1491e+10 & 7957600000 & 1.5351e+10 & ⋯ & 9538300000 & 1.7464e+10 & 5873800000 & 7215000000 & 7007500000 & 1.1390e+10 & 5.7456e+09 & 1.8687e+10 & 3939200000 & 1.4047e+10\\\\\n",
       "\\end{tabular}\n"
      ],
      "text/markdown": [
       "\n",
       "A data.frame: 6 × 30\n",
       "\n",
       "| <!--/--> | 1_C_F_25 &lt;dbl&gt; | 2_C_F_25 &lt;dbl&gt; | 3_C_F_25 &lt;dbl&gt; | 4_C_F_25 &lt;dbl&gt; | 5_C_F_25 &lt;dbl&gt; | 6_C_F_25 &lt;dbl&gt; | 1_C_S_25 &lt;dbl&gt; | 2_C_S_25 &lt;dbl&gt; | 3_C_S_25 &lt;dbl&gt; | 4_C_S_25 &lt;dbl&gt; | ⋯ ⋯ | 3_P_F_25 &lt;dbl&gt; | 4_P_F_25 &lt;dbl&gt; | 5_P_F_25 &lt;dbl&gt; | 6_P_F_25 &lt;dbl&gt; | 1_P_S_25 &lt;dbl&gt; | 2_P_S_25 &lt;dbl&gt; | 3_P_S_25 &lt;dbl&gt; | 4_P_S_25 &lt;dbl&gt; | 5_P_S_25 &lt;dbl&gt; | 6_P_S_25 &lt;dbl&gt; |\n",
       "|---|---|---|---|---|---|---|---|---|---|---|---|---|---|---|---|---|---|---|---|---|---|\n",
       "| CO3_HUMAN | 1488600000 | 3.8066e+09 | 3.9000e+09 | 5.3732e+09 | 2595200000 | 5780700000 | 4.1688e+09 | 2.4289e+09 | 5198100000 | 9.2868e+09 | ⋯ | 4510300000 | 1.0391e+10 | 3766600000 | 5460200000 | 2249000000 | 2.8799e+09 | 4.8758e+09 | 1.4966e+10 | 3734300000 | 1.6081e+10 |\n",
       "| K1C19_HUMAN | 6021100000 | 1.9726e+10 | 4.1603e+09 | 6.4458e+09 | 7470700000 | 3719100000 | 6.7010e+09 | 1.1612e+10 | 6557700000 | 2.3940e+10 | ⋯ | 4210400000 | 1.3241e+10 | 8344100000 | 8590100000 | 6055100000 | 9.1549e+09 | 1.0989e+10 | 1.6041e+10 | 4841700000 | 6.4467e+09 |\n",
       "| TBB4B_HUMAN | 3074000000 | 1.4896e+10 | 1.8863e+09 | 1.6609e+09 | 1519400000 | 1549800000 | 3.9525e+09 | 7.9426e+09 | 3895000000 | 1.5815e+10 | ⋯ | 1394300000 | 8.5374e+09 | 1532300000 | 2165400000 | 2559400000 | 5.2964e+09 | 5.9698e+09 | 4.1671e+09 |  800010000 | 1.7326e+09 |\n",
       "| K2C5_HUMAN | 4767800000 | 3.5045e+09 | 3.4925e+09 | 5.3666e+09 | 5907300000 | 3072900000 | 5.9636e+09 | 4.7625e+09 | 6328100000 | 2.0851e+10 | ⋯ | 2765300000 | 1.1176e+10 | 6433300000 | 8647300000 | 6477100000 | 9.5103e+09 | 4.7240e+09 | 1.5121e+10 | 4511100000 | 4.0606e+09 |\n",
       "| ACTG_HUMAN | 5420100000 | 1.5121e+10 | 3.4553e+09 | 7.1396e+09 | 4962400000 | 5649500000 | 6.0785e+09 | 1.1247e+10 | 5655600000 | 2.0502e+10 | ⋯ | 5309400000 | 1.4584e+10 | 5596300000 | 7149100000 | 3947400000 | 1.0762e+10 | 1.0041e+10 | 1.3861e+10 | 3347300000 | 6.1786e+09 |\n",
       "| PIGR_HUMAN | 8038200000 | 1.9136e+10 | 1.0893e+10 | 1.4922e+10 | 4744600000 | 9297400000 | 1.4044e+10 | 1.1491e+10 | 7957600000 | 1.5351e+10 | ⋯ | 9538300000 | 1.7464e+10 | 5873800000 | 7215000000 | 7007500000 | 1.1390e+10 | 5.7456e+09 | 1.8687e+10 | 3939200000 | 1.4047e+10 |\n",
       "\n"
      ],
      "text/plain": [
       "            1_C_F_25   2_C_F_25   3_C_F_25   4_C_F_25   5_C_F_25   6_C_F_25  \n",
       "CO3_HUMAN   1488600000 3.8066e+09 3.9000e+09 5.3732e+09 2595200000 5780700000\n",
       "K1C19_HUMAN 6021100000 1.9726e+10 4.1603e+09 6.4458e+09 7470700000 3719100000\n",
       "TBB4B_HUMAN 3074000000 1.4896e+10 1.8863e+09 1.6609e+09 1519400000 1549800000\n",
       "K2C5_HUMAN  4767800000 3.5045e+09 3.4925e+09 5.3666e+09 5907300000 3072900000\n",
       "ACTG_HUMAN  5420100000 1.5121e+10 3.4553e+09 7.1396e+09 4962400000 5649500000\n",
       "PIGR_HUMAN  8038200000 1.9136e+10 1.0893e+10 1.4922e+10 4744600000 9297400000\n",
       "            1_C_S_25   2_C_S_25   3_C_S_25   4_C_S_25   ⋯ 3_P_F_25   4_P_F_25  \n",
       "CO3_HUMAN   4.1688e+09 2.4289e+09 5198100000 9.2868e+09 ⋯ 4510300000 1.0391e+10\n",
       "K1C19_HUMAN 6.7010e+09 1.1612e+10 6557700000 2.3940e+10 ⋯ 4210400000 1.3241e+10\n",
       "TBB4B_HUMAN 3.9525e+09 7.9426e+09 3895000000 1.5815e+10 ⋯ 1394300000 8.5374e+09\n",
       "K2C5_HUMAN  5.9636e+09 4.7625e+09 6328100000 2.0851e+10 ⋯ 2765300000 1.1176e+10\n",
       "ACTG_HUMAN  6.0785e+09 1.1247e+10 5655600000 2.0502e+10 ⋯ 5309400000 1.4584e+10\n",
       "PIGR_HUMAN  1.4044e+10 1.1491e+10 7957600000 1.5351e+10 ⋯ 9538300000 1.7464e+10\n",
       "            5_P_F_25   6_P_F_25   1_P_S_25   2_P_S_25   3_P_S_25   4_P_S_25  \n",
       "CO3_HUMAN   3766600000 5460200000 2249000000 2.8799e+09 4.8758e+09 1.4966e+10\n",
       "K1C19_HUMAN 8344100000 8590100000 6055100000 9.1549e+09 1.0989e+10 1.6041e+10\n",
       "TBB4B_HUMAN 1532300000 2165400000 2559400000 5.2964e+09 5.9698e+09 4.1671e+09\n",
       "K2C5_HUMAN  6433300000 8647300000 6477100000 9.5103e+09 4.7240e+09 1.5121e+10\n",
       "ACTG_HUMAN  5596300000 7149100000 3947400000 1.0762e+10 1.0041e+10 1.3861e+10\n",
       "PIGR_HUMAN  5873800000 7215000000 7007500000 1.1390e+10 5.7456e+09 1.8687e+10\n",
       "            5_P_S_25   6_P_S_25  \n",
       "CO3_HUMAN   3734300000 1.6081e+10\n",
       "K1C19_HUMAN 4841700000 6.4467e+09\n",
       "TBB4B_HUMAN  800010000 1.7326e+09\n",
       "K2C5_HUMAN  4511100000 4.0606e+09\n",
       "ACTG_HUMAN  3347300000 6.1786e+09\n",
       "PIGR_HUMAN  3939200000 1.4047e+10"
      ]
     },
     "metadata": {},
     "output_type": "display_data"
    }
   ],
   "source": [
    "# first converting from long to wide format, which is necessary for the vsn function\n",
    "wider_proteomics_25_df = proteomics_25_df %>%\n",
    "# creating sample ids\n",
    "    unite(\"SampleID\", c(colnames(proteomics_25_df)[c(1,6:8)]), sep = \"_\") %>%\n",
    "    select(-c(\"Gene_Name\", \"Description\", \"Intensity_pslog2\", \"Subject_ID\")) %>%\n",
    "    pivot_wider(names_from = \"SampleID\", values_from = \"Intensity\") %>%\n",
    "    column_to_rownames(var = \"Protein_Accession\")\n",
    "\n",
    "wider_proteomics_5_df = proteomics_5_df %>%\n",
    "# creating sample ids\n",
    "    unite(\"SampleID\", c(colnames(proteomics_25_df)[c(1,6:8)]), sep = \"_\") %>%\n",
    "    select(-c(\"Gene_Name\", \"Description\", \"Intensity_pslog2\", \"Subject_ID\")) %>%\n",
    "    pivot_wider(names_from = \"SampleID\", values_from = \"Intensity\") %>%\n",
    "    column_to_rownames(var = \"Protein_Accession\")\n",
    "\n",
    "head(wider_proteomics_25_df)"
   ]
  },
  {
   "cell_type": "code",
   "execution_count": 4,
   "id": "64f034cd",
   "metadata": {},
   "outputs": [
    {
     "data": {
      "text/html": [
       "<table class=\"dataframe\">\n",
       "<caption>A matrix: 6 × 30 of type dbl</caption>\n",
       "<thead>\n",
       "\t<tr><th></th><th scope=col>1_C_F_25</th><th scope=col>2_C_F_25</th><th scope=col>3_C_F_25</th><th scope=col>4_C_F_25</th><th scope=col>5_C_F_25</th><th scope=col>6_C_F_25</th><th scope=col>1_C_S_25</th><th scope=col>2_C_S_25</th><th scope=col>3_C_S_25</th><th scope=col>4_C_S_25</th><th scope=col>⋯</th><th scope=col>3_P_F_25</th><th scope=col>4_P_F_25</th><th scope=col>5_P_F_25</th><th scope=col>6_P_F_25</th><th scope=col>1_P_S_25</th><th scope=col>2_P_S_25</th><th scope=col>3_P_S_25</th><th scope=col>4_P_S_25</th><th scope=col>5_P_S_25</th><th scope=col>6_P_S_25</th></tr>\n",
       "</thead>\n",
       "<tbody>\n",
       "\t<tr><th scope=row>CO3_HUMAN</th><td>30.47131</td><td>31.82586</td><td>31.86083</td><td>32.32313</td><td>31.27320</td><td>32.42860</td><td>31.95699</td><td>31.17766</td><td>32.27534</td><td>33.11253</td><td>⋯</td><td>32.07058</td><td>33.27462</td><td>31.81062</td><td>32.34631</td><td>31.06664</td><td>31.42337</td><td>32.18299</td><td>33.80097</td><td>31.79819</td><td>33.90464</td></tr>\n",
       "\t<tr><th scope=row>K1C19_HUMAN</th><td>32.48738</td><td>34.19938</td><td>31.95404</td><td>32.58571</td><td>32.79860</td><td>31.79231</td><td>32.64173</td><td>33.43490</td><td>32.61054</td><td>34.47870</td><td>⋯</td><td>31.97131</td><td>33.62429</td><td>32.95811</td><td>33.00003</td><td>32.49550</td><td>33.09190</td><td>33.35534</td><td>33.90105</td><td>32.17287</td><td>32.58591</td></tr>\n",
       "\t<tr><th scope=row>TBB4B_HUMAN</th><td>31.51747</td><td>33.79421</td><td>30.81291</td><td>30.62932</td><td>30.50085</td><td>30.52943</td><td>31.88012</td><td>32.88696</td><td>31.85898</td><td>33.88057</td><td>⋯</td><td>30.37689</td><td>32.99115</td><td>30.51305</td><td>31.01199</td><td>31.25316</td><td>32.30236</td><td>32.47504</td><td>31.95640</td><td>29.57544</td><td>30.69029</td></tr>\n",
       "\t<tr><th scope=row>K2C5_HUMAN</th><td>32.15068</td><td>31.70656</td><td>31.70161</td><td>32.32136</td><td>32.45985</td><td>31.51695</td><td>32.47354</td><td>32.14907</td><td>32.55913</td><td>34.27940</td><td>⋯</td><td>31.36479</td><td>33.37968</td><td>32.58291</td><td>33.00960</td><td>32.59270</td><td>33.14684</td><td>32.13736</td><td>33.81583</td><td>32.07083</td><td>31.91905</td></tr>\n",
       "\t<tr><th scope=row>ACTG_HUMAN</th><td>32.33567</td><td>33.81583</td><td>31.68616</td><td>32.73320</td><td>32.20839</td><td>32.39548</td><td>32.50107</td><td>33.38882</td><td>32.39703</td><td>34.25505</td><td>⋯</td><td>32.30590</td><td>33.76367</td><td>32.38183</td><td>32.73511</td><td>31.87826</td><td>33.32523</td><td>33.22518</td><td>33.69031</td><td>31.64035</td><td>32.52463</td></tr>\n",
       "\t<tr><th scope=row>PIGR_HUMAN</th><td>32.90423</td><td>34.15557</td><td>33.34268</td><td>33.79672</td><td>32.14364</td><td>33.11418</td><td>33.70923</td><td>33.41979</td><td>32.88969</td><td>33.83761</td><td>⋯</td><td>33.15109</td><td>34.02366</td><td>32.45165</td><td>32.74835</td><td>32.70625</td><td>33.40705</td><td>32.41981</td><td>34.12132</td><td>31.87526</td><td>33.70954</td></tr>\n",
       "</tbody>\n",
       "</table>\n"
      ],
      "text/latex": [
       "A matrix: 6 × 30 of type dbl\n",
       "\\begin{tabular}{r|lllllllllllllllllllll}\n",
       "  & 1\\_C\\_F\\_25 & 2\\_C\\_F\\_25 & 3\\_C\\_F\\_25 & 4\\_C\\_F\\_25 & 5\\_C\\_F\\_25 & 6\\_C\\_F\\_25 & 1\\_C\\_S\\_25 & 2\\_C\\_S\\_25 & 3\\_C\\_S\\_25 & 4\\_C\\_S\\_25 & ⋯ & 3\\_P\\_F\\_25 & 4\\_P\\_F\\_25 & 5\\_P\\_F\\_25 & 6\\_P\\_F\\_25 & 1\\_P\\_S\\_25 & 2\\_P\\_S\\_25 & 3\\_P\\_S\\_25 & 4\\_P\\_S\\_25 & 5\\_P\\_S\\_25 & 6\\_P\\_S\\_25\\\\\n",
       "\\hline\n",
       "\tCO3\\_HUMAN & 30.47131 & 31.82586 & 31.86083 & 32.32313 & 31.27320 & 32.42860 & 31.95699 & 31.17766 & 32.27534 & 33.11253 & ⋯ & 32.07058 & 33.27462 & 31.81062 & 32.34631 & 31.06664 & 31.42337 & 32.18299 & 33.80097 & 31.79819 & 33.90464\\\\\n",
       "\tK1C19\\_HUMAN & 32.48738 & 34.19938 & 31.95404 & 32.58571 & 32.79860 & 31.79231 & 32.64173 & 33.43490 & 32.61054 & 34.47870 & ⋯ & 31.97131 & 33.62429 & 32.95811 & 33.00003 & 32.49550 & 33.09190 & 33.35534 & 33.90105 & 32.17287 & 32.58591\\\\\n",
       "\tTBB4B\\_HUMAN & 31.51747 & 33.79421 & 30.81291 & 30.62932 & 30.50085 & 30.52943 & 31.88012 & 32.88696 & 31.85898 & 33.88057 & ⋯ & 30.37689 & 32.99115 & 30.51305 & 31.01199 & 31.25316 & 32.30236 & 32.47504 & 31.95640 & 29.57544 & 30.69029\\\\\n",
       "\tK2C5\\_HUMAN & 32.15068 & 31.70656 & 31.70161 & 32.32136 & 32.45985 & 31.51695 & 32.47354 & 32.14907 & 32.55913 & 34.27940 & ⋯ & 31.36479 & 33.37968 & 32.58291 & 33.00960 & 32.59270 & 33.14684 & 32.13736 & 33.81583 & 32.07083 & 31.91905\\\\\n",
       "\tACTG\\_HUMAN & 32.33567 & 33.81583 & 31.68616 & 32.73320 & 32.20839 & 32.39548 & 32.50107 & 33.38882 & 32.39703 & 34.25505 & ⋯ & 32.30590 & 33.76367 & 32.38183 & 32.73511 & 31.87826 & 33.32523 & 33.22518 & 33.69031 & 31.64035 & 32.52463\\\\\n",
       "\tPIGR\\_HUMAN & 32.90423 & 34.15557 & 33.34268 & 33.79672 & 32.14364 & 33.11418 & 33.70923 & 33.41979 & 32.88969 & 33.83761 & ⋯ & 33.15109 & 34.02366 & 32.45165 & 32.74835 & 32.70625 & 33.40705 & 32.41981 & 34.12132 & 31.87526 & 33.70954\\\\\n",
       "\\end{tabular}\n"
      ],
      "text/markdown": [
       "\n",
       "A matrix: 6 × 30 of type dbl\n",
       "\n",
       "| <!--/--> | 1_C_F_25 | 2_C_F_25 | 3_C_F_25 | 4_C_F_25 | 5_C_F_25 | 6_C_F_25 | 1_C_S_25 | 2_C_S_25 | 3_C_S_25 | 4_C_S_25 | ⋯ | 3_P_F_25 | 4_P_F_25 | 5_P_F_25 | 6_P_F_25 | 1_P_S_25 | 2_P_S_25 | 3_P_S_25 | 4_P_S_25 | 5_P_S_25 | 6_P_S_25 |\n",
       "|---|---|---|---|---|---|---|---|---|---|---|---|---|---|---|---|---|---|---|---|---|---|\n",
       "| CO3_HUMAN | 30.47131 | 31.82586 | 31.86083 | 32.32313 | 31.27320 | 32.42860 | 31.95699 | 31.17766 | 32.27534 | 33.11253 | ⋯ | 32.07058 | 33.27462 | 31.81062 | 32.34631 | 31.06664 | 31.42337 | 32.18299 | 33.80097 | 31.79819 | 33.90464 |\n",
       "| K1C19_HUMAN | 32.48738 | 34.19938 | 31.95404 | 32.58571 | 32.79860 | 31.79231 | 32.64173 | 33.43490 | 32.61054 | 34.47870 | ⋯ | 31.97131 | 33.62429 | 32.95811 | 33.00003 | 32.49550 | 33.09190 | 33.35534 | 33.90105 | 32.17287 | 32.58591 |\n",
       "| TBB4B_HUMAN | 31.51747 | 33.79421 | 30.81291 | 30.62932 | 30.50085 | 30.52943 | 31.88012 | 32.88696 | 31.85898 | 33.88057 | ⋯ | 30.37689 | 32.99115 | 30.51305 | 31.01199 | 31.25316 | 32.30236 | 32.47504 | 31.95640 | 29.57544 | 30.69029 |\n",
       "| K2C5_HUMAN | 32.15068 | 31.70656 | 31.70161 | 32.32136 | 32.45985 | 31.51695 | 32.47354 | 32.14907 | 32.55913 | 34.27940 | ⋯ | 31.36479 | 33.37968 | 32.58291 | 33.00960 | 32.59270 | 33.14684 | 32.13736 | 33.81583 | 32.07083 | 31.91905 |\n",
       "| ACTG_HUMAN | 32.33567 | 33.81583 | 31.68616 | 32.73320 | 32.20839 | 32.39548 | 32.50107 | 33.38882 | 32.39703 | 34.25505 | ⋯ | 32.30590 | 33.76367 | 32.38183 | 32.73511 | 31.87826 | 33.32523 | 33.22518 | 33.69031 | 31.64035 | 32.52463 |\n",
       "| PIGR_HUMAN | 32.90423 | 34.15557 | 33.34268 | 33.79672 | 32.14364 | 33.11418 | 33.70923 | 33.41979 | 32.88969 | 33.83761 | ⋯ | 33.15109 | 34.02366 | 32.45165 | 32.74835 | 32.70625 | 33.40705 | 32.41981 | 34.12132 | 31.87526 | 33.70954 |\n",
       "\n"
      ],
      "text/plain": [
       "            1_C_F_25 2_C_F_25 3_C_F_25 4_C_F_25 5_C_F_25 6_C_F_25 1_C_S_25\n",
       "CO3_HUMAN   30.47131 31.82586 31.86083 32.32313 31.27320 32.42860 31.95699\n",
       "K1C19_HUMAN 32.48738 34.19938 31.95404 32.58571 32.79860 31.79231 32.64173\n",
       "TBB4B_HUMAN 31.51747 33.79421 30.81291 30.62932 30.50085 30.52943 31.88012\n",
       "K2C5_HUMAN  32.15068 31.70656 31.70161 32.32136 32.45985 31.51695 32.47354\n",
       "ACTG_HUMAN  32.33567 33.81583 31.68616 32.73320 32.20839 32.39548 32.50107\n",
       "PIGR_HUMAN  32.90423 34.15557 33.34268 33.79672 32.14364 33.11418 33.70923\n",
       "            2_C_S_25 3_C_S_25 4_C_S_25 ⋯ 3_P_F_25 4_P_F_25 5_P_F_25 6_P_F_25\n",
       "CO3_HUMAN   31.17766 32.27534 33.11253 ⋯ 32.07058 33.27462 31.81062 32.34631\n",
       "K1C19_HUMAN 33.43490 32.61054 34.47870 ⋯ 31.97131 33.62429 32.95811 33.00003\n",
       "TBB4B_HUMAN 32.88696 31.85898 33.88057 ⋯ 30.37689 32.99115 30.51305 31.01199\n",
       "K2C5_HUMAN  32.14907 32.55913 34.27940 ⋯ 31.36479 33.37968 32.58291 33.00960\n",
       "ACTG_HUMAN  33.38882 32.39703 34.25505 ⋯ 32.30590 33.76367 32.38183 32.73511\n",
       "PIGR_HUMAN  33.41979 32.88969 33.83761 ⋯ 33.15109 34.02366 32.45165 32.74835\n",
       "            1_P_S_25 2_P_S_25 3_P_S_25 4_P_S_25 5_P_S_25 6_P_S_25\n",
       "CO3_HUMAN   31.06664 31.42337 32.18299 33.80097 31.79819 33.90464\n",
       "K1C19_HUMAN 32.49550 33.09190 33.35534 33.90105 32.17287 32.58591\n",
       "TBB4B_HUMAN 31.25316 32.30236 32.47504 31.95640 29.57544 30.69029\n",
       "K2C5_HUMAN  32.59270 33.14684 32.13736 33.81583 32.07083 31.91905\n",
       "ACTG_HUMAN  31.87826 33.32523 33.22518 33.69031 31.64035 32.52463\n",
       "PIGR_HUMAN  32.70625 33.40705 32.41981 34.12132 31.87526 33.70954"
      ]
     },
     "metadata": {},
     "output_type": "display_data"
    }
   ],
   "source": [
    "normalized_25_matrix = justvsn(as.matrix(wider_proteomics_25_df))\n",
    "normalized_5_matrix = justvsn(as.matrix(wider_proteomics_5_df))\n",
    "head(normalized_25_matrix)"
   ]
  },
  {
   "cell_type": "markdown",
   "id": "85582c1b",
   "metadata": {},
   "source": [
    "There's no missing data, so I'll convert the data back to a long format. "
   ]
  },
  {
   "cell_type": "code",
   "execution_count": 5,
   "id": "3e802d38",
   "metadata": {},
   "outputs": [
    {
     "name": "stderr",
     "output_type": "stream",
     "text": [
      "\u001b[1m\u001b[22mJoining with `by = join_by(Protein_Accession, Subject_No, Condensate,\n",
      "Burn_Condition, Concentration)`\n",
      "\u001b[1m\u001b[22mJoining with `by = join_by(Protein_Accession, Subject_No, Condensate,\n",
      "Burn_Condition, Concentration)`\n"
     ]
    },
    {
     "data": {
      "text/html": [
       "<table class=\"dataframe\">\n",
       "<caption>A tibble: 6 × 8</caption>\n",
       "<thead>\n",
       "\t<tr><th scope=col>Subject_No</th><th scope=col>Subject_ID</th><th scope=col>Protein_Accession</th><th scope=col>Description</th><th scope=col>Condensate</th><th scope=col>Burn_Condition</th><th scope=col>Concentration</th><th scope=col>Norm_Intensity</th></tr>\n",
       "\t<tr><th scope=col>&lt;dbl&gt;</th><th scope=col>&lt;chr&gt;</th><th scope=col>&lt;chr&gt;</th><th scope=col>&lt;chr&gt;</th><th scope=col>&lt;chr&gt;</th><th scope=col>&lt;chr&gt;</th><th scope=col>&lt;dbl&gt;</th><th scope=col>&lt;dbl&gt;</th></tr>\n",
       "</thead>\n",
       "<tbody>\n",
       "\t<tr><td>1</td><td>F_1</td><td>CO3_HUMAN</td><td>Complement C3 OS=Homo sapiens OX=9606 GN=C3 PE=1 SV=2</td><td>C</td><td>F</td><td>25</td><td>30.47131</td></tr>\n",
       "\t<tr><td>2</td><td>M_2</td><td>CO3_HUMAN</td><td>Complement C3 OS=Homo sapiens OX=9606 GN=C3 PE=1 SV=2</td><td>C</td><td>F</td><td>25</td><td>31.82586</td></tr>\n",
       "\t<tr><td>3</td><td>M_3</td><td>CO3_HUMAN</td><td>Complement C3 OS=Homo sapiens OX=9606 GN=C3 PE=1 SV=2</td><td>C</td><td>F</td><td>25</td><td>31.86083</td></tr>\n",
       "\t<tr><td>4</td><td>F_4</td><td>CO3_HUMAN</td><td>Complement C3 OS=Homo sapiens OX=9606 GN=C3 PE=1 SV=2</td><td>C</td><td>F</td><td>25</td><td>32.32313</td></tr>\n",
       "\t<tr><td>5</td><td>F_5</td><td>CO3_HUMAN</td><td>Complement C3 OS=Homo sapiens OX=9606 GN=C3 PE=1 SV=2</td><td>C</td><td>F</td><td>25</td><td>31.27320</td></tr>\n",
       "\t<tr><td>6</td><td>M_6</td><td>CO3_HUMAN</td><td>Complement C3 OS=Homo sapiens OX=9606 GN=C3 PE=1 SV=2</td><td>C</td><td>F</td><td>25</td><td>32.42860</td></tr>\n",
       "</tbody>\n",
       "</table>\n"
      ],
      "text/latex": [
       "A tibble: 6 × 8\n",
       "\\begin{tabular}{llllllll}\n",
       " Subject\\_No & Subject\\_ID & Protein\\_Accession & Description & Condensate & Burn\\_Condition & Concentration & Norm\\_Intensity\\\\\n",
       " <dbl> & <chr> & <chr> & <chr> & <chr> & <chr> & <dbl> & <dbl>\\\\\n",
       "\\hline\n",
       "\t 1 & F\\_1 & CO3\\_HUMAN & Complement C3 OS=Homo sapiens OX=9606 GN=C3 PE=1 SV=2 & C & F & 25 & 30.47131\\\\\n",
       "\t 2 & M\\_2 & CO3\\_HUMAN & Complement C3 OS=Homo sapiens OX=9606 GN=C3 PE=1 SV=2 & C & F & 25 & 31.82586\\\\\n",
       "\t 3 & M\\_3 & CO3\\_HUMAN & Complement C3 OS=Homo sapiens OX=9606 GN=C3 PE=1 SV=2 & C & F & 25 & 31.86083\\\\\n",
       "\t 4 & F\\_4 & CO3\\_HUMAN & Complement C3 OS=Homo sapiens OX=9606 GN=C3 PE=1 SV=2 & C & F & 25 & 32.32313\\\\\n",
       "\t 5 & F\\_5 & CO3\\_HUMAN & Complement C3 OS=Homo sapiens OX=9606 GN=C3 PE=1 SV=2 & C & F & 25 & 31.27320\\\\\n",
       "\t 6 & M\\_6 & CO3\\_HUMAN & Complement C3 OS=Homo sapiens OX=9606 GN=C3 PE=1 SV=2 & C & F & 25 & 32.42860\\\\\n",
       "\\end{tabular}\n"
      ],
      "text/markdown": [
       "\n",
       "A tibble: 6 × 8\n",
       "\n",
       "| Subject_No &lt;dbl&gt; | Subject_ID &lt;chr&gt; | Protein_Accession &lt;chr&gt; | Description &lt;chr&gt; | Condensate &lt;chr&gt; | Burn_Condition &lt;chr&gt; | Concentration &lt;dbl&gt; | Norm_Intensity &lt;dbl&gt; |\n",
       "|---|---|---|---|---|---|---|---|\n",
       "| 1 | F_1 | CO3_HUMAN | Complement C3 OS=Homo sapiens OX=9606 GN=C3 PE=1 SV=2 | C | F | 25 | 30.47131 |\n",
       "| 2 | M_2 | CO3_HUMAN | Complement C3 OS=Homo sapiens OX=9606 GN=C3 PE=1 SV=2 | C | F | 25 | 31.82586 |\n",
       "| 3 | M_3 | CO3_HUMAN | Complement C3 OS=Homo sapiens OX=9606 GN=C3 PE=1 SV=2 | C | F | 25 | 31.86083 |\n",
       "| 4 | F_4 | CO3_HUMAN | Complement C3 OS=Homo sapiens OX=9606 GN=C3 PE=1 SV=2 | C | F | 25 | 32.32313 |\n",
       "| 5 | F_5 | CO3_HUMAN | Complement C3 OS=Homo sapiens OX=9606 GN=C3 PE=1 SV=2 | C | F | 25 | 31.27320 |\n",
       "| 6 | M_6 | CO3_HUMAN | Complement C3 OS=Homo sapiens OX=9606 GN=C3 PE=1 SV=2 | C | F | 25 | 32.42860 |\n",
       "\n"
      ],
      "text/plain": [
       "  Subject_No Subject_ID Protein_Accession\n",
       "1 1          F_1        CO3_HUMAN        \n",
       "2 2          M_2        CO3_HUMAN        \n",
       "3 3          M_3        CO3_HUMAN        \n",
       "4 4          F_4        CO3_HUMAN        \n",
       "5 5          F_5        CO3_HUMAN        \n",
       "6 6          M_6        CO3_HUMAN        \n",
       "  Description                                           Condensate\n",
       "1 Complement C3 OS=Homo sapiens OX=9606 GN=C3 PE=1 SV=2 C         \n",
       "2 Complement C3 OS=Homo sapiens OX=9606 GN=C3 PE=1 SV=2 C         \n",
       "3 Complement C3 OS=Homo sapiens OX=9606 GN=C3 PE=1 SV=2 C         \n",
       "4 Complement C3 OS=Homo sapiens OX=9606 GN=C3 PE=1 SV=2 C         \n",
       "5 Complement C3 OS=Homo sapiens OX=9606 GN=C3 PE=1 SV=2 C         \n",
       "6 Complement C3 OS=Homo sapiens OX=9606 GN=C3 PE=1 SV=2 C         \n",
       "  Burn_Condition Concentration Norm_Intensity\n",
       "1 F              25            30.47131      \n",
       "2 F              25            31.82586      \n",
       "3 F              25            31.86083      \n",
       "4 F              25            32.32313      \n",
       "5 F              25            31.27320      \n",
       "6 F              25            32.42860      "
      ]
     },
     "metadata": {},
     "output_type": "display_data"
    }
   ],
   "source": [
    "normalized_25_df = data.frame(normalized_25_matrix) %>%\n",
    "    rownames_to_column(var = \"Protein_Accession\") %>%\n",
    "    pivot_longer(cols = 2:31, names_to = \"Sample_No\", values_to = \"Norm_Intensity\") %>%\n",
    "    separate(Sample_No, into = c(\"Subject_No\", \"Condensate\", \"Burn_Condition\", \"Concentration\"))\n",
    "\n",
    "normalized_5_df = data.frame(normalized_5_matrix) %>%\n",
    "    rownames_to_column(var = \"Protein_Accession\") %>%\n",
    "    pivot_longer(cols = 2:31, names_to = \"Sample_No\", values_to = \"Norm_Intensity\") %>%\n",
    "    separate(Sample_No, into = c(\"Subject_No\", \"Condensate\", \"Burn_Condition\", \"Concentration\"))\n",
    "\n",
    "# dataframes automatically add X to col names if it starts with a number so removing that here\n",
    "normalized_25_df$Subject_No = as.numeric(gsub(\"X\",\"\", as.character(normalized_25_df$Subject_No)))\n",
    "normalized_5_df$Subject_No = as.numeric(gsub(\"X\",\"\", as.character(normalized_5_df$Subject_No)))\n",
    "normalized_25_df$Concentration = as.numeric(normalized_25_df$Concentration)\n",
    "normalized_5_df$Concentration = as.numeric(normalized_5_df$Concentration)\n",
    "\n",
    "# adding back in all other data\n",
    "final_normalized_25_df = full_join(normalized_25_df, proteomics_25_df[,1:8])\n",
    "final_normalized_5_df = full_join(normalized_5_df, proteomics_5_df[,1:8])\n",
    "final_normalized_25_df = final_normalized_25_df[,c(2,7,1,9,3:6)]\n",
    "final_normalized_5_df = final_normalized_5_df[,c(2,7,1,9,3:6)]\n",
    "\n",
    "head(final_normalized_25_df)"
   ]
  },
  {
   "cell_type": "code",
   "execution_count": 6,
   "id": "d0996bcf",
   "metadata": {},
   "outputs": [],
   "source": [
    "# exporting\n",
    "write.xlsx(final_normalized_25_df, paste0(Output,\"/\", \"Normalized_Proteomics_Data_25ug_\", cur_date, \".xlsx\"), \n",
    "           rowNames = FALSE)\n",
    "write.xlsx(final_normalized_5_df, paste0(Output,\"/\", \"Normalized_Proteomics_Data_5ug_\", cur_date, \".xlsx\"), \n",
    "           rowNames = FALSE)"
   ]
  },
  {
   "cell_type": "code",
   "execution_count": null,
   "id": "bc48f8bb",
   "metadata": {},
   "outputs": [],
   "source": []
  }
 ],
 "metadata": {
  "kernelspec": {
   "display_name": "R",
   "language": "R",
   "name": "ir"
  },
  "language_info": {
   "codemirror_mode": "r",
   "file_extension": ".r",
   "mimetype": "text/x-r-source",
   "name": "R",
   "pygments_lexer": "r",
   "version": "4.1.3"
  }
 },
 "nbformat": 4,
 "nbformat_minor": 5
}
