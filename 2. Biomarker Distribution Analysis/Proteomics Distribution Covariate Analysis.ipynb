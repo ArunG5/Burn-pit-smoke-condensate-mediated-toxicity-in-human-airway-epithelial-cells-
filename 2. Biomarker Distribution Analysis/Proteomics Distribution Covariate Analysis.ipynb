{
 "cells": [
  {
   "cell_type": "code",
   "execution_count": 6,
   "id": "1f8751cf",
   "metadata": {},
   "outputs": [],
   "source": [
    "Output = ('/Users/alexis/Library/CloudStorage/OneDrive-UniversityofNorthCarolinaatChapelHill/CEMALB_DataAnalysisPM/Projects/P1011. Emission Mixtures/P1011.3. Analyses/P1011.3.1. Biomarker Distribution Analysis/Output')\n",
    "cur_date = \"042523\"\n",
    "\n",
    "library(readxl)\n",
    "library(tidyverse)\n",
    "library(reshape2)\n",
    "library(stats)\n",
    "\n",
    "# reading in files\n",
    "proteomics_5_df = data.frame(read_excel(\"Input/Proteomics_Data_5ug_040423.xlsx\", sheet = 2))\n",
    "proteomics_25_df = data.frame(read_excel(\"Input/Proteomics_Data_25ug_040423.xlsx\", sheet = 2))\n",
    "demographics_df = data.frame(read_excel(\"Input/Subject_Info_031723.xlsx\", sheet = 2))"
   ]
  },
  {
   "cell_type": "markdown",
   "id": "cb2b3a45",
   "metadata": {},
   "source": [
    "Testing for statistical differences by comparing a protein expression between burn conditions (control, smoldering or flaming). (The condensate and concentration would remain consistent). Protein expression (intensity) was pseudo log transformed to reduce skew.\n",
    "\n",
    "A non-parametric test, a Quade's ANCOVA, will be performed to control for sex as a covariate."
   ]
  },
  {
   "cell_type": "code",
   "execution_count": 7,
   "id": "a8bf3229",
   "metadata": {},
   "outputs": [
    {
     "data": {
      "text/html": [
       "<table class=\"dataframe\">\n",
       "<caption>A data.frame: 6 × 10</caption>\n",
       "<thead>\n",
       "\t<tr><th></th><th scope=col>Subject_No</th><th scope=col>Subject_ID</th><th scope=col>Protein_Accession</th><th scope=col>Gene_Name</th><th scope=col>Description</th><th scope=col>Condensate</th><th scope=col>Burn_Condition</th><th scope=col>Concentration</th><th scope=col>Intensity</th><th scope=col>Intensity_pslog2</th></tr>\n",
       "\t<tr><th></th><th scope=col>&lt;dbl&gt;</th><th scope=col>&lt;chr&gt;</th><th scope=col>&lt;chr&gt;</th><th scope=col>&lt;chr&gt;</th><th scope=col>&lt;chr&gt;</th><th scope=col>&lt;chr&gt;</th><th scope=col>&lt;chr&gt;</th><th scope=col>&lt;dbl&gt;</th><th scope=col>&lt;dbl&gt;</th><th scope=col>&lt;dbl&gt;</th></tr>\n",
       "</thead>\n",
       "<tbody>\n",
       "\t<tr><th scope=row>1</th><td>1</td><td>F_1</td><td>CO3_HUMAN</td><td>C3</td><td>Complement C3 OS=Homo sapiens OX=9606 GN=C3 PE=1 SV=2</td><td>C</td><td>F</td><td>25</td><td>1488600000</td><td>30.47131</td></tr>\n",
       "\t<tr><th scope=row>2</th><td>2</td><td>M_2</td><td>CO3_HUMAN</td><td>C3</td><td>Complement C3 OS=Homo sapiens OX=9606 GN=C3 PE=1 SV=2</td><td>C</td><td>F</td><td>25</td><td>3806600000</td><td>31.82586</td></tr>\n",
       "\t<tr><th scope=row>3</th><td>3</td><td>M_3</td><td>CO3_HUMAN</td><td>C3</td><td>Complement C3 OS=Homo sapiens OX=9606 GN=C3 PE=1 SV=2</td><td>C</td><td>F</td><td>25</td><td>3900000000</td><td>31.86083</td></tr>\n",
       "\t<tr><th scope=row>4</th><td>4</td><td>F_4</td><td>CO3_HUMAN</td><td>C3</td><td>Complement C3 OS=Homo sapiens OX=9606 GN=C3 PE=1 SV=2</td><td>C</td><td>F</td><td>25</td><td>5373200000</td><td>32.32313</td></tr>\n",
       "\t<tr><th scope=row>5</th><td>5</td><td>F_5</td><td>CO3_HUMAN</td><td>C3</td><td>Complement C3 OS=Homo sapiens OX=9606 GN=C3 PE=1 SV=2</td><td>C</td><td>F</td><td>25</td><td>2595200000</td><td>31.27320</td></tr>\n",
       "\t<tr><th scope=row>6</th><td>6</td><td>M_6</td><td>CO3_HUMAN</td><td>C3</td><td>Complement C3 OS=Homo sapiens OX=9606 GN=C3 PE=1 SV=2</td><td>C</td><td>F</td><td>25</td><td>5780700000</td><td>32.42860</td></tr>\n",
       "</tbody>\n",
       "</table>\n"
      ],
      "text/latex": [
       "A data.frame: 6 × 10\n",
       "\\begin{tabular}{r|llllllllll}\n",
       "  & Subject\\_No & Subject\\_ID & Protein\\_Accession & Gene\\_Name & Description & Condensate & Burn\\_Condition & Concentration & Intensity & Intensity\\_pslog2\\\\\n",
       "  & <dbl> & <chr> & <chr> & <chr> & <chr> & <chr> & <chr> & <dbl> & <dbl> & <dbl>\\\\\n",
       "\\hline\n",
       "\t1 & 1 & F\\_1 & CO3\\_HUMAN & C3 & Complement C3 OS=Homo sapiens OX=9606 GN=C3 PE=1 SV=2 & C & F & 25 & 1488600000 & 30.47131\\\\\n",
       "\t2 & 2 & M\\_2 & CO3\\_HUMAN & C3 & Complement C3 OS=Homo sapiens OX=9606 GN=C3 PE=1 SV=2 & C & F & 25 & 3806600000 & 31.82586\\\\\n",
       "\t3 & 3 & M\\_3 & CO3\\_HUMAN & C3 & Complement C3 OS=Homo sapiens OX=9606 GN=C3 PE=1 SV=2 & C & F & 25 & 3900000000 & 31.86083\\\\\n",
       "\t4 & 4 & F\\_4 & CO3\\_HUMAN & C3 & Complement C3 OS=Homo sapiens OX=9606 GN=C3 PE=1 SV=2 & C & F & 25 & 5373200000 & 32.32313\\\\\n",
       "\t5 & 5 & F\\_5 & CO3\\_HUMAN & C3 & Complement C3 OS=Homo sapiens OX=9606 GN=C3 PE=1 SV=2 & C & F & 25 & 2595200000 & 31.27320\\\\\n",
       "\t6 & 6 & M\\_6 & CO3\\_HUMAN & C3 & Complement C3 OS=Homo sapiens OX=9606 GN=C3 PE=1 SV=2 & C & F & 25 & 5780700000 & 32.42860\\\\\n",
       "\\end{tabular}\n"
      ],
      "text/markdown": [
       "\n",
       "A data.frame: 6 × 10\n",
       "\n",
       "| <!--/--> | Subject_No &lt;dbl&gt; | Subject_ID &lt;chr&gt; | Protein_Accession &lt;chr&gt; | Gene_Name &lt;chr&gt; | Description &lt;chr&gt; | Condensate &lt;chr&gt; | Burn_Condition &lt;chr&gt; | Concentration &lt;dbl&gt; | Intensity &lt;dbl&gt; | Intensity_pslog2 &lt;dbl&gt; |\n",
       "|---|---|---|---|---|---|---|---|---|---|---|\n",
       "| 1 | 1 | F_1 | CO3_HUMAN | C3 | Complement C3 OS=Homo sapiens OX=9606 GN=C3 PE=1 SV=2 | C | F | 25 | 1488600000 | 30.47131 |\n",
       "| 2 | 2 | M_2 | CO3_HUMAN | C3 | Complement C3 OS=Homo sapiens OX=9606 GN=C3 PE=1 SV=2 | C | F | 25 | 3806600000 | 31.82586 |\n",
       "| 3 | 3 | M_3 | CO3_HUMAN | C3 | Complement C3 OS=Homo sapiens OX=9606 GN=C3 PE=1 SV=2 | C | F | 25 | 3900000000 | 31.86083 |\n",
       "| 4 | 4 | F_4 | CO3_HUMAN | C3 | Complement C3 OS=Homo sapiens OX=9606 GN=C3 PE=1 SV=2 | C | F | 25 | 5373200000 | 32.32313 |\n",
       "| 5 | 5 | F_5 | CO3_HUMAN | C3 | Complement C3 OS=Homo sapiens OX=9606 GN=C3 PE=1 SV=2 | C | F | 25 | 2595200000 | 31.27320 |\n",
       "| 6 | 6 | M_6 | CO3_HUMAN | C3 | Complement C3 OS=Homo sapiens OX=9606 GN=C3 PE=1 SV=2 | C | F | 25 | 5780700000 | 32.42860 |\n",
       "\n"
      ],
      "text/plain": [
       "  Subject_No Subject_ID Protein_Accession Gene_Name\n",
       "1 1          F_1        CO3_HUMAN         C3       \n",
       "2 2          M_2        CO3_HUMAN         C3       \n",
       "3 3          M_3        CO3_HUMAN         C3       \n",
       "4 4          F_4        CO3_HUMAN         C3       \n",
       "5 5          F_5        CO3_HUMAN         C3       \n",
       "6 6          M_6        CO3_HUMAN         C3       \n",
       "  Description                                           Condensate\n",
       "1 Complement C3 OS=Homo sapiens OX=9606 GN=C3 PE=1 SV=2 C         \n",
       "2 Complement C3 OS=Homo sapiens OX=9606 GN=C3 PE=1 SV=2 C         \n",
       "3 Complement C3 OS=Homo sapiens OX=9606 GN=C3 PE=1 SV=2 C         \n",
       "4 Complement C3 OS=Homo sapiens OX=9606 GN=C3 PE=1 SV=2 C         \n",
       "5 Complement C3 OS=Homo sapiens OX=9606 GN=C3 PE=1 SV=2 C         \n",
       "6 Complement C3 OS=Homo sapiens OX=9606 GN=C3 PE=1 SV=2 C         \n",
       "  Burn_Condition Concentration Intensity  Intensity_pslog2\n",
       "1 F              25            1488600000 30.47131        \n",
       "2 F              25            3806600000 31.82586        \n",
       "3 F              25            3900000000 31.86083        \n",
       "4 F              25            5373200000 32.32313        \n",
       "5 F              25            2595200000 31.27320        \n",
       "6 F              25            5780700000 32.42860        "
      ]
     },
     "metadata": {},
     "output_type": "display_data"
    },
    {
     "data": {
      "text/html": [
       "<table class=\"dataframe\">\n",
       "<caption>A data.frame: 6 × 7</caption>\n",
       "<thead>\n",
       "\t<tr><th></th><th scope=col>Original_Subject_ID</th><th scope=col>Subject_ID</th><th scope=col>Subject_No</th><th scope=col>Sex</th><th scope=col>Age</th><th scope=col>Race</th><th scope=col>Ethnicity</th></tr>\n",
       "\t<tr><th></th><th scope=col>&lt;chr&gt;</th><th scope=col>&lt;chr&gt;</th><th scope=col>&lt;dbl&gt;</th><th scope=col>&lt;chr&gt;</th><th scope=col>&lt;dbl&gt;</th><th scope=col>&lt;chr&gt;</th><th scope=col>&lt;chr&gt;</th></tr>\n",
       "</thead>\n",
       "<tbody>\n",
       "\t<tr><th scope=row>1</th><td>68J</td><td>F_1</td><td>1</td><td>F</td><td>18</td><td>B</td><td>NH</td></tr>\n",
       "\t<tr><th scope=row>2</th><td>53K</td><td>M_2</td><td>2</td><td>M</td><td>32</td><td>B</td><td>NH</td></tr>\n",
       "\t<tr><th scope=row>3</th><td>21O</td><td>M_3</td><td>3</td><td>M</td><td>34</td><td>W</td><td>H </td></tr>\n",
       "\t<tr><th scope=row>4</th><td>63O</td><td>F_4</td><td>4</td><td>F</td><td>32</td><td>W</td><td>H </td></tr>\n",
       "\t<tr><th scope=row>5</th><td>67L</td><td>F_5</td><td>5</td><td>F</td><td>17</td><td>W</td><td>H </td></tr>\n",
       "\t<tr><th scope=row>6</th><td>57N</td><td>M_6</td><td>6</td><td>M</td><td>59</td><td>W</td><td>NH</td></tr>\n",
       "</tbody>\n",
       "</table>\n"
      ],
      "text/latex": [
       "A data.frame: 6 × 7\n",
       "\\begin{tabular}{r|lllllll}\n",
       "  & Original\\_Subject\\_ID & Subject\\_ID & Subject\\_No & Sex & Age & Race & Ethnicity\\\\\n",
       "  & <chr> & <chr> & <dbl> & <chr> & <dbl> & <chr> & <chr>\\\\\n",
       "\\hline\n",
       "\t1 & 68J & F\\_1 & 1 & F & 18 & B & NH\\\\\n",
       "\t2 & 53K & M\\_2 & 2 & M & 32 & B & NH\\\\\n",
       "\t3 & 21O & M\\_3 & 3 & M & 34 & W & H \\\\\n",
       "\t4 & 63O & F\\_4 & 4 & F & 32 & W & H \\\\\n",
       "\t5 & 67L & F\\_5 & 5 & F & 17 & W & H \\\\\n",
       "\t6 & 57N & M\\_6 & 6 & M & 59 & W & NH\\\\\n",
       "\\end{tabular}\n"
      ],
      "text/markdown": [
       "\n",
       "A data.frame: 6 × 7\n",
       "\n",
       "| <!--/--> | Original_Subject_ID &lt;chr&gt; | Subject_ID &lt;chr&gt; | Subject_No &lt;dbl&gt; | Sex &lt;chr&gt; | Age &lt;dbl&gt; | Race &lt;chr&gt; | Ethnicity &lt;chr&gt; |\n",
       "|---|---|---|---|---|---|---|---|\n",
       "| 1 | 68J | F_1 | 1 | F | 18 | B | NH |\n",
       "| 2 | 53K | M_2 | 2 | M | 32 | B | NH |\n",
       "| 3 | 21O | M_3 | 3 | M | 34 | W | H  |\n",
       "| 4 | 63O | F_4 | 4 | F | 32 | W | H  |\n",
       "| 5 | 67L | F_5 | 5 | F | 17 | W | H  |\n",
       "| 6 | 57N | M_6 | 6 | M | 59 | W | NH |\n",
       "\n"
      ],
      "text/plain": [
       "  Original_Subject_ID Subject_ID Subject_No Sex Age Race Ethnicity\n",
       "1 68J                 F_1        1          F   18  B    NH       \n",
       "2 53K                 M_2        2          M   32  B    NH       \n",
       "3 21O                 M_3        3          M   34  W    H        \n",
       "4 63O                 F_4        4          F   32  W    H        \n",
       "5 67L                 F_5        5          F   17  W    H        \n",
       "6 57N                 M_6        6          M   59  W    NH       "
      ]
     },
     "metadata": {},
     "output_type": "display_data"
    }
   ],
   "source": [
    "head(proteomics_25_df)\n",
    "head(demographics_df)"
   ]
  },
  {
   "cell_type": "code",
   "execution_count": 8,
   "id": "3dbdb0f9",
   "metadata": {},
   "outputs": [
    {
     "name": "stderr",
     "output_type": "stream",
     "text": [
      "\u001b[1m\u001b[22mJoining, by = \"Subject_ID\"\n",
      "\u001b[1m\u001b[22mJoining, by = \"Subject_ID\"\n"
     ]
    },
    {
     "data": {
      "text/html": [
       "<table class=\"dataframe\">\n",
       "<caption>A grouped_df: 6 × 10</caption>\n",
       "<thead>\n",
       "\t<tr><th scope=col>Subject_No</th><th scope=col>Subject_ID</th><th scope=col>Protein_Accession</th><th scope=col>Condensate</th><th scope=col>Burn_Condition</th><th scope=col>Concentration</th><th scope=col>Intensity</th><th scope=col>Intensity_pslog2</th><th scope=col>Sex</th><th scope=col>Scaled_Intensity</th></tr>\n",
       "\t<tr><th scope=col>&lt;dbl&gt;</th><th scope=col>&lt;chr&gt;</th><th scope=col>&lt;chr&gt;</th><th scope=col>&lt;chr&gt;</th><th scope=col>&lt;fct&gt;</th><th scope=col>&lt;dbl&gt;</th><th scope=col>&lt;dbl&gt;</th><th scope=col>&lt;dbl&gt;</th><th scope=col>&lt;fct&gt;</th><th scope=col>&lt;dbl[,1]&gt;</th></tr>\n",
       "</thead>\n",
       "<tbody>\n",
       "\t<tr><td>1</td><td>F_1</td><td>CO3_HUMAN</td><td>C</td><td>F</td><td>25</td><td>1488600000</td><td>30.47131</td><td>0</td><td>-1.29273172</td></tr>\n",
       "\t<tr><td>2</td><td>M_2</td><td>CO3_HUMAN</td><td>C</td><td>F</td><td>25</td><td>3806600000</td><td>31.82586</td><td>1</td><td>-0.04856119</td></tr>\n",
       "\t<tr><td>3</td><td>M_3</td><td>CO3_HUMAN</td><td>C</td><td>F</td><td>25</td><td>3900000000</td><td>31.86083</td><td>1</td><td>-0.01643970</td></tr>\n",
       "\t<tr><td>4</td><td>F_4</td><td>CO3_HUMAN</td><td>C</td><td>F</td><td>25</td><td>5373200000</td><td>32.32313</td><td>0</td><td> 0.40819624</td></tr>\n",
       "\t<tr><td>5</td><td>F_5</td><td>CO3_HUMAN</td><td>C</td><td>F</td><td>25</td><td>2595200000</td><td>31.27320</td><td>0</td><td>-0.55618474</td></tr>\n",
       "\t<tr><td>6</td><td>M_6</td><td>CO3_HUMAN</td><td>C</td><td>F</td><td>25</td><td>5780700000</td><td>32.42860</td><td>1</td><td> 0.50506520</td></tr>\n",
       "</tbody>\n",
       "</table>\n"
      ],
      "text/latex": [
       "A grouped\\_df: 6 × 10\n",
       "\\begin{tabular}{llllllllll}\n",
       " Subject\\_No & Subject\\_ID & Protein\\_Accession & Condensate & Burn\\_Condition & Concentration & Intensity & Intensity\\_pslog2 & Sex & Scaled\\_Intensity\\\\\n",
       " <dbl> & <chr> & <chr> & <chr> & <fct> & <dbl> & <dbl> & <dbl> & <fct> & <dbl{[},1{]}>\\\\\n",
       "\\hline\n",
       "\t 1 & F\\_1 & CO3\\_HUMAN & C & F & 25 & 1488600000 & 30.47131 & 0 & -1.29273172\\\\\n",
       "\t 2 & M\\_2 & CO3\\_HUMAN & C & F & 25 & 3806600000 & 31.82586 & 1 & -0.04856119\\\\\n",
       "\t 3 & M\\_3 & CO3\\_HUMAN & C & F & 25 & 3900000000 & 31.86083 & 1 & -0.01643970\\\\\n",
       "\t 4 & F\\_4 & CO3\\_HUMAN & C & F & 25 & 5373200000 & 32.32313 & 0 &  0.40819624\\\\\n",
       "\t 5 & F\\_5 & CO3\\_HUMAN & C & F & 25 & 2595200000 & 31.27320 & 0 & -0.55618474\\\\\n",
       "\t 6 & M\\_6 & CO3\\_HUMAN & C & F & 25 & 5780700000 & 32.42860 & 1 &  0.50506520\\\\\n",
       "\\end{tabular}\n"
      ],
      "text/markdown": [
       "\n",
       "A grouped_df: 6 × 10\n",
       "\n",
       "| Subject_No &lt;dbl&gt; | Subject_ID &lt;chr&gt; | Protein_Accession &lt;chr&gt; | Condensate &lt;chr&gt; | Burn_Condition &lt;fct&gt; | Concentration &lt;dbl&gt; | Intensity &lt;dbl&gt; | Intensity_pslog2 &lt;dbl&gt; | Sex &lt;fct&gt; | Scaled_Intensity &lt;dbl[,1]&gt; |\n",
       "|---|---|---|---|---|---|---|---|---|---|\n",
       "| 1 | F_1 | CO3_HUMAN | C | F | 25 | 1488600000 | 30.47131 | 0 | -1.29273172 |\n",
       "| 2 | M_2 | CO3_HUMAN | C | F | 25 | 3806600000 | 31.82586 | 1 | -0.04856119 |\n",
       "| 3 | M_3 | CO3_HUMAN | C | F | 25 | 3900000000 | 31.86083 | 1 | -0.01643970 |\n",
       "| 4 | F_4 | CO3_HUMAN | C | F | 25 | 5373200000 | 32.32313 | 0 |  0.40819624 |\n",
       "| 5 | F_5 | CO3_HUMAN | C | F | 25 | 2595200000 | 31.27320 | 0 | -0.55618474 |\n",
       "| 6 | M_6 | CO3_HUMAN | C | F | 25 | 5780700000 | 32.42860 | 1 |  0.50506520 |\n",
       "\n"
      ],
      "text/plain": [
       "  Subject_No Subject_ID Protein_Accession Condensate Burn_Condition\n",
       "1 1          F_1        CO3_HUMAN         C          F             \n",
       "2 2          M_2        CO3_HUMAN         C          F             \n",
       "3 3          M_3        CO3_HUMAN         C          F             \n",
       "4 4          F_4        CO3_HUMAN         C          F             \n",
       "5 5          F_5        CO3_HUMAN         C          F             \n",
       "6 6          M_6        CO3_HUMAN         C          F             \n",
       "  Concentration Intensity  Intensity_pslog2 Sex Scaled_Intensity\n",
       "1 25            1488600000 30.47131         0   -1.29273172     \n",
       "2 25            3806600000 31.82586         1   -0.04856119     \n",
       "3 25            3900000000 31.86083         1   -0.01643970     \n",
       "4 25            5373200000 32.32313         0    0.40819624     \n",
       "5 25            2595200000 31.27320         0   -0.55618474     \n",
       "6 25            5780700000 32.42860         1    0.50506520     "
      ]
     },
     "metadata": {},
     "output_type": "display_data"
    }
   ],
   "source": [
    "# combining data, but first making sex a factor\n",
    "demographics_df = demographics_df %>%\n",
    "    mutate(Sex = relevel(factor(ifelse(Sex == \"M\", 1, 0)), ref = \"0\"))\n",
    "\n",
    "proteomics_25_sex_df = inner_join(proteomics_25_df[,-c(4:5)], demographics_df[,c(2,4)]) %>%\n",
    "    # scaling the concentration values by protein normalizes the distribution\n",
    "    group_by(Protein_Accession) %>%\n",
    "    mutate(Scaled_Intensity = scale(Intensity_pslog2))\n",
    "proteomics_5_sex_df = inner_join(proteomics_5_df[,-c(4:5)], demographics_df[,c(2,4)]) %>%\n",
    "    # scaling the concentration values by protein normalizes the distribution\n",
    "    group_by(Protein_Accession) %>%\n",
    "    mutate(Scaled_Intensity = scale(Intensity_pslog2))\n",
    "\n",
    "# putting burn condition into a factor\n",
    "proteomics_25_sex_df$Burn_Condition = factor(proteomics_25_sex_df$Burn_Condition, levels = c(\"PBS\", \"S\", \"F\"))\n",
    "proteomics_5_sex_df$Burn_Condition = factor(proteomics_5_sex_df$Burn_Condition, levels = c(\"PBS\", \"S\", \"F\"))\n",
    "\n",
    "head(proteomics_25_sex_df)"
   ]
  },
  {
   "cell_type": "code",
   "execution_count": 4,
   "id": "19330ca5",
   "metadata": {},
   "outputs": [
    {
     "data": {
      "text/html": [
       "<table class=\"dataframe\">\n",
       "<caption>A matrix: 3 × 2 of type dbl</caption>\n",
       "<thead>\n",
       "\t<tr><th></th><th scope=col>S</th><th scope=col>F</th></tr>\n",
       "</thead>\n",
       "<tbody>\n",
       "\t<tr><th scope=row>PBS</th><td>0</td><td>0</td></tr>\n",
       "\t<tr><th scope=row>S</th><td>1</td><td>0</td></tr>\n",
       "\t<tr><th scope=row>F</th><td>0</td><td>1</td></tr>\n",
       "</tbody>\n",
       "</table>\n"
      ],
      "text/latex": [
       "A matrix: 3 × 2 of type dbl\n",
       "\\begin{tabular}{r|ll}\n",
       "  & S & F\\\\\n",
       "\\hline\n",
       "\tPBS & 0 & 0\\\\\n",
       "\tS & 1 & 0\\\\\n",
       "\tF & 0 & 1\\\\\n",
       "\\end{tabular}\n"
      ],
      "text/markdown": [
       "\n",
       "A matrix: 3 × 2 of type dbl\n",
       "\n",
       "| <!--/--> | S | F |\n",
       "|---|---|---|\n",
       "| PBS | 0 | 0 |\n",
       "| S | 1 | 0 |\n",
       "| F | 0 | 1 |\n",
       "\n"
      ],
      "text/plain": [
       "    S F\n",
       "PBS 0 0\n",
       "S   1 0\n",
       "F   0 1"
      ]
     },
     "metadata": {},
     "output_type": "display_data"
    }
   ],
   "source": [
    "# contrasts show what compartments are being compared in anova\n",
    "# these comparisons aren't what we want so I changed them in the function below\n",
    "contrasts(proteomics_25_sex_df$Burn_Condition)"
   ]
  },
  {
   "cell_type": "markdown",
   "id": "91b5fa66",
   "metadata": {},
   "source": [
    "               Table of Contrasts \n",
    ">               PBS |  S  |  F  |  Sum\n",
    ">  - Contrast 1 |  -1  |  1  |  0  |   0\n",
    ">  - Contrast 2 |  -1  |  0  |  1  |   0\n",
    "\n",
    "> - Contrast 1: compares PBS to smoldering\n",
    "> - Contrast 2: compares PBS to flaming"
   ]
  },
  {
   "cell_type": "code",
   "execution_count": null,
   "id": "86acf7eb",
   "metadata": {},
   "outputs": [],
   "source": [
    "get_anova = function(df){\n",
    "    # first filtering the df and iterating through the condensate\n",
    "    condensates = unique(df$Condensate)\n",
    "    for (i in 1:length(condensates)){\n",
    "        filtered_df = df %>%\n",
    "            filter(Condensate == condensates[i])\n",
    "        \n",
    "        contrasts(filtered_df$Burn_Condition) = cbind(c(-1,1,0),c(-1,0,1)) # meaning is specified above\n",
    "        anova = aov(Scaled_Intensity ~ Burn_Condition, data = filtered_df)\n",
    "        \n",
    "        # Tukey's post hoc test\n",
    "        tukeys = summary(glht(anova, linfct = mcp(Group = \"Tukey\")), test = adjusted(\"none\"))\n",
    "        print(tukeys$stat[3:2])\n",
    "    }\n",
    "    \n",
    "    return(anova)\n",
    "}\n",
    "\n",
    "# calling fn\n"
   ]
  },
  {
   "cell_type": "code",
   "execution_count": 5,
   "id": "99485657",
   "metadata": {},
   "outputs": [
    {
     "ename": "ERROR",
     "evalue": "Error in parse(text = x, srcfile = src): <text>:29:56: unexpected ')'\n28:             # quade's test\n29:             quade_test = quade.test(Intensity_pslog2 ~ )\n                                                           ^\n",
     "output_type": "error",
     "traceback": [
      "Error in parse(text = x, srcfile = src): <text>:29:56: unexpected ')'\n28:             # quade's test\n29:             quade_test = quade.test(Intensity_pslog2 ~ )\n                                                           ^\nTraceback:\n"
     ]
    }
   ],
   "source": [
    "quade_test_v1 = function(df){\n",
    "    # \"\"\"\n",
    "    # Running quade test after filtering for a protein and condensate using a loop and controlling for sex. \n",
    "    # Ultimately using this test to compare protein expression (control vs. flaming burn condition).\n",
    "\n",
    "    # :param: protein dataframe\n",
    "    # :output: a dataframe containing the protein, condensate, comparison, stat, p value, p adj\n",
    "\n",
    "    # \"\"\"\n",
    "    \n",
    "    # variables that will be iterated through\n",
    "    proteins = unique(df$Protein_Accession)\n",
    "    condensates = c(\"C\", \"P\")\n",
    "    \n",
    "    values_df = data.frame()\n",
    "     # iterating through each protein, condensate, and burn condition\n",
    "    for(i in 1:length(proteins)){\n",
    "        for(j in 1:length(condensates)){\n",
    "                \n",
    "            # control df\n",
    "            control_df = df %>%\n",
    "                filter(Protein_Accession == proteins[i], Condensate == \"PBS\")\n",
    "\n",
    "            # flaming df\n",
    "            flaming_df = df %>%\n",
    "                filter(Protein_Accession == proteins[i], Condensate == condensates[j], Burn_Condition == \"F\")\n",
    "\n",
    "            # quade's test\n",
    "            quade_test = quade.test(Intensity_pslog2 ~ )\n",
    "\n",
    "            # contains gene, condensate, burn conditions, conc, stat, and p value\n",
    "            values_vector = cbind(proteins[i], condensates[j], \"Control vs. Flaming\",\n",
    "                                  unique(df\n",
    "statistic, quade_test$p.value)\n",
    "            values_df = rbind(values_df, values_vector)\n",
    "        }\n",
    "    }\n",
    "\n",
    "    \n",
    "    # adding col names\n",
    "    colnames(values_df) = c(\"Protein\", \"Condensate\", \"Comparison\", \"Concentration\", \"Statistic\", \"P Value\")\n",
    "    \n",
    "    # calculating padj values\n",
    "    values_df$`P Adj` = p.adjust(as.numeric(as.character(values_df$`P Value`)), method = \"fdr\")\n",
    "\n",
    "    \n",
    "    return(values_df)\n",
    "}"
   ]
  }
 ],
 "metadata": {
  "kernelspec": {
   "display_name": "R",
   "language": "R",
   "name": "ir"
  },
  "language_info": {
   "codemirror_mode": "r",
   "file_extension": ".r",
   "mimetype": "text/x-r-source",
   "name": "R",
   "pygments_lexer": "r",
   "version": "4.1.3"
  }
 },
 "nbformat": 4,
 "nbformat_minor": 5
}
