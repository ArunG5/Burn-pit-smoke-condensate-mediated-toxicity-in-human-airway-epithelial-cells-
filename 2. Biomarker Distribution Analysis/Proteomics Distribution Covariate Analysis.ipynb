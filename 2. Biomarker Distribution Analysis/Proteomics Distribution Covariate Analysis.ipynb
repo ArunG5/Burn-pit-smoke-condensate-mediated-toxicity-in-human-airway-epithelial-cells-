{
 "cells": [
  {
   "cell_type": "code",
   "execution_count": 1,
   "id": "1f8751cf",
   "metadata": {},
   "outputs": [
    {
     "name": "stderr",
     "output_type": "stream",
     "text": [
      "── \u001b[1mAttaching packages\u001b[22m ─────────────────────────────────────── tidyverse 1.3.2 ──\n",
      "\u001b[32m✔\u001b[39m \u001b[34mggplot2\u001b[39m 3.4.0      \u001b[32m✔\u001b[39m \u001b[34mpurrr  \u001b[39m 0.3.4 \n",
      "\u001b[32m✔\u001b[39m \u001b[34mtibble \u001b[39m 3.1.8      \u001b[32m✔\u001b[39m \u001b[34mdplyr  \u001b[39m 1.0.10\n",
      "\u001b[32m✔\u001b[39m \u001b[34mtidyr  \u001b[39m 1.2.1      \u001b[32m✔\u001b[39m \u001b[34mstringr\u001b[39m 1.4.1 \n",
      "\u001b[32m✔\u001b[39m \u001b[34mreadr  \u001b[39m 2.1.2      \u001b[32m✔\u001b[39m \u001b[34mforcats\u001b[39m 0.5.2 \n",
      "── \u001b[1mConflicts\u001b[22m ────────────────────────────────────────── tidyverse_conflicts() ──\n",
      "\u001b[31m✖\u001b[39m \u001b[34mdplyr\u001b[39m::\u001b[32mfilter()\u001b[39m masks \u001b[34mstats\u001b[39m::filter()\n",
      "\u001b[31m✖\u001b[39m \u001b[34mdplyr\u001b[39m::\u001b[32mlag()\u001b[39m    masks \u001b[34mstats\u001b[39m::lag()\n",
      "\n",
      "Attaching package: ‘reshape2’\n",
      "\n",
      "\n",
      "The following object is masked from ‘package:tidyr’:\n",
      "\n",
      "    smiths\n",
      "\n",
      "\n",
      "Loading required package: mvtnorm\n",
      "\n",
      "Loading required package: survival\n",
      "\n",
      "Loading required package: TH.data\n",
      "\n",
      "Loading required package: MASS\n",
      "\n",
      "\n",
      "Attaching package: ‘MASS’\n",
      "\n",
      "\n",
      "The following object is masked from ‘package:dplyr’:\n",
      "\n",
      "    select\n",
      "\n",
      "\n",
      "\n",
      "Attaching package: ‘TH.data’\n",
      "\n",
      "\n",
      "The following object is masked from ‘package:MASS’:\n",
      "\n",
      "    geyser\n",
      "\n",
      "\n"
     ]
    }
   ],
   "source": [
    "Output = ('/Users/alexis/Library/CloudStorage/OneDrive-UniversityofNorthCarolinaatChapelHill/CEMALB_DataAnalysisPM/Projects/P1011. Emission Mixtures/P1011.3. Analyses/P1011.3.1. Biomarker Distribution Analysis/Output')\n",
    "cur_date = \"050123\"\n",
    "\n",
    "library(readxl)\n",
    "library(tidyverse)\n",
    "library(reshape2)\n",
    "library(stats)\n",
    "library(multcomp)\n",
    "\n",
    "# reading in files\n",
    "proteomics_5_df = data.frame(read_excel(\"Input/Proteomics_Data_5ug_040423.xlsx\", sheet = 2))\n",
    "proteomics_25_df = data.frame(read_excel(\"Input/Proteomics_Data_25ug_040423.xlsx\", sheet = 2))\n",
    "demographics_df = data.frame(read_excel(\"Input/Subject_Info_031723.xlsx\", sheet = 2))"
   ]
  },
  {
   "cell_type": "markdown",
   "id": "cb2b3a45",
   "metadata": {},
   "source": [
    "Testing for statistical differences by comparing a protein expression between burn conditions (control, smoldering or flaming). (The condensate and concentration would remain consistent). Protein expression (intensity) was pseudo log transformed to reduce skew.\n",
    "\n",
    "A non-parametric test, a Quade's ANCOVA, will be performed to control for sex as a covariate."
   ]
  },
  {
   "cell_type": "code",
   "execution_count": 2,
   "id": "a8bf3229",
   "metadata": {},
   "outputs": [
    {
     "data": {
      "text/html": [
       "<table class=\"dataframe\">\n",
       "<caption>A data.frame: 6 × 10</caption>\n",
       "<thead>\n",
       "\t<tr><th></th><th scope=col>Subject_No</th><th scope=col>Subject_ID</th><th scope=col>Protein_Accession</th><th scope=col>Gene_Name</th><th scope=col>Description</th><th scope=col>Condensate</th><th scope=col>Burn_Condition</th><th scope=col>Concentration</th><th scope=col>Intensity</th><th scope=col>Intensity_pslog2</th></tr>\n",
       "\t<tr><th></th><th scope=col>&lt;dbl&gt;</th><th scope=col>&lt;chr&gt;</th><th scope=col>&lt;chr&gt;</th><th scope=col>&lt;chr&gt;</th><th scope=col>&lt;chr&gt;</th><th scope=col>&lt;chr&gt;</th><th scope=col>&lt;chr&gt;</th><th scope=col>&lt;dbl&gt;</th><th scope=col>&lt;dbl&gt;</th><th scope=col>&lt;dbl&gt;</th></tr>\n",
       "</thead>\n",
       "<tbody>\n",
       "\t<tr><th scope=row>1</th><td>1</td><td>F_1</td><td>CO3_HUMAN</td><td>C3</td><td>Complement C3 OS=Homo sapiens OX=9606 GN=C3 PE=1 SV=2</td><td>C</td><td>F</td><td>25</td><td>1488600000</td><td>30.47131</td></tr>\n",
       "\t<tr><th scope=row>2</th><td>2</td><td>M_2</td><td>CO3_HUMAN</td><td>C3</td><td>Complement C3 OS=Homo sapiens OX=9606 GN=C3 PE=1 SV=2</td><td>C</td><td>F</td><td>25</td><td>3806600000</td><td>31.82586</td></tr>\n",
       "\t<tr><th scope=row>3</th><td>3</td><td>M_3</td><td>CO3_HUMAN</td><td>C3</td><td>Complement C3 OS=Homo sapiens OX=9606 GN=C3 PE=1 SV=2</td><td>C</td><td>F</td><td>25</td><td>3900000000</td><td>31.86083</td></tr>\n",
       "\t<tr><th scope=row>4</th><td>4</td><td>F_4</td><td>CO3_HUMAN</td><td>C3</td><td>Complement C3 OS=Homo sapiens OX=9606 GN=C3 PE=1 SV=2</td><td>C</td><td>F</td><td>25</td><td>5373200000</td><td>32.32313</td></tr>\n",
       "\t<tr><th scope=row>5</th><td>5</td><td>F_5</td><td>CO3_HUMAN</td><td>C3</td><td>Complement C3 OS=Homo sapiens OX=9606 GN=C3 PE=1 SV=2</td><td>C</td><td>F</td><td>25</td><td>2595200000</td><td>31.27320</td></tr>\n",
       "\t<tr><th scope=row>6</th><td>6</td><td>M_6</td><td>CO3_HUMAN</td><td>C3</td><td>Complement C3 OS=Homo sapiens OX=9606 GN=C3 PE=1 SV=2</td><td>C</td><td>F</td><td>25</td><td>5780700000</td><td>32.42860</td></tr>\n",
       "</tbody>\n",
       "</table>\n"
      ],
      "text/latex": [
       "A data.frame: 6 × 10\n",
       "\\begin{tabular}{r|llllllllll}\n",
       "  & Subject\\_No & Subject\\_ID & Protein\\_Accession & Gene\\_Name & Description & Condensate & Burn\\_Condition & Concentration & Intensity & Intensity\\_pslog2\\\\\n",
       "  & <dbl> & <chr> & <chr> & <chr> & <chr> & <chr> & <chr> & <dbl> & <dbl> & <dbl>\\\\\n",
       "\\hline\n",
       "\t1 & 1 & F\\_1 & CO3\\_HUMAN & C3 & Complement C3 OS=Homo sapiens OX=9606 GN=C3 PE=1 SV=2 & C & F & 25 & 1488600000 & 30.47131\\\\\n",
       "\t2 & 2 & M\\_2 & CO3\\_HUMAN & C3 & Complement C3 OS=Homo sapiens OX=9606 GN=C3 PE=1 SV=2 & C & F & 25 & 3806600000 & 31.82586\\\\\n",
       "\t3 & 3 & M\\_3 & CO3\\_HUMAN & C3 & Complement C3 OS=Homo sapiens OX=9606 GN=C3 PE=1 SV=2 & C & F & 25 & 3900000000 & 31.86083\\\\\n",
       "\t4 & 4 & F\\_4 & CO3\\_HUMAN & C3 & Complement C3 OS=Homo sapiens OX=9606 GN=C3 PE=1 SV=2 & C & F & 25 & 5373200000 & 32.32313\\\\\n",
       "\t5 & 5 & F\\_5 & CO3\\_HUMAN & C3 & Complement C3 OS=Homo sapiens OX=9606 GN=C3 PE=1 SV=2 & C & F & 25 & 2595200000 & 31.27320\\\\\n",
       "\t6 & 6 & M\\_6 & CO3\\_HUMAN & C3 & Complement C3 OS=Homo sapiens OX=9606 GN=C3 PE=1 SV=2 & C & F & 25 & 5780700000 & 32.42860\\\\\n",
       "\\end{tabular}\n"
      ],
      "text/markdown": [
       "\n",
       "A data.frame: 6 × 10\n",
       "\n",
       "| <!--/--> | Subject_No &lt;dbl&gt; | Subject_ID &lt;chr&gt; | Protein_Accession &lt;chr&gt; | Gene_Name &lt;chr&gt; | Description &lt;chr&gt; | Condensate &lt;chr&gt; | Burn_Condition &lt;chr&gt; | Concentration &lt;dbl&gt; | Intensity &lt;dbl&gt; | Intensity_pslog2 &lt;dbl&gt; |\n",
       "|---|---|---|---|---|---|---|---|---|---|---|\n",
       "| 1 | 1 | F_1 | CO3_HUMAN | C3 | Complement C3 OS=Homo sapiens OX=9606 GN=C3 PE=1 SV=2 | C | F | 25 | 1488600000 | 30.47131 |\n",
       "| 2 | 2 | M_2 | CO3_HUMAN | C3 | Complement C3 OS=Homo sapiens OX=9606 GN=C3 PE=1 SV=2 | C | F | 25 | 3806600000 | 31.82586 |\n",
       "| 3 | 3 | M_3 | CO3_HUMAN | C3 | Complement C3 OS=Homo sapiens OX=9606 GN=C3 PE=1 SV=2 | C | F | 25 | 3900000000 | 31.86083 |\n",
       "| 4 | 4 | F_4 | CO3_HUMAN | C3 | Complement C3 OS=Homo sapiens OX=9606 GN=C3 PE=1 SV=2 | C | F | 25 | 5373200000 | 32.32313 |\n",
       "| 5 | 5 | F_5 | CO3_HUMAN | C3 | Complement C3 OS=Homo sapiens OX=9606 GN=C3 PE=1 SV=2 | C | F | 25 | 2595200000 | 31.27320 |\n",
       "| 6 | 6 | M_6 | CO3_HUMAN | C3 | Complement C3 OS=Homo sapiens OX=9606 GN=C3 PE=1 SV=2 | C | F | 25 | 5780700000 | 32.42860 |\n",
       "\n"
      ],
      "text/plain": [
       "  Subject_No Subject_ID Protein_Accession Gene_Name\n",
       "1 1          F_1        CO3_HUMAN         C3       \n",
       "2 2          M_2        CO3_HUMAN         C3       \n",
       "3 3          M_3        CO3_HUMAN         C3       \n",
       "4 4          F_4        CO3_HUMAN         C3       \n",
       "5 5          F_5        CO3_HUMAN         C3       \n",
       "6 6          M_6        CO3_HUMAN         C3       \n",
       "  Description                                           Condensate\n",
       "1 Complement C3 OS=Homo sapiens OX=9606 GN=C3 PE=1 SV=2 C         \n",
       "2 Complement C3 OS=Homo sapiens OX=9606 GN=C3 PE=1 SV=2 C         \n",
       "3 Complement C3 OS=Homo sapiens OX=9606 GN=C3 PE=1 SV=2 C         \n",
       "4 Complement C3 OS=Homo sapiens OX=9606 GN=C3 PE=1 SV=2 C         \n",
       "5 Complement C3 OS=Homo sapiens OX=9606 GN=C3 PE=1 SV=2 C         \n",
       "6 Complement C3 OS=Homo sapiens OX=9606 GN=C3 PE=1 SV=2 C         \n",
       "  Burn_Condition Concentration Intensity  Intensity_pslog2\n",
       "1 F              25            1488600000 30.47131        \n",
       "2 F              25            3806600000 31.82586        \n",
       "3 F              25            3900000000 31.86083        \n",
       "4 F              25            5373200000 32.32313        \n",
       "5 F              25            2595200000 31.27320        \n",
       "6 F              25            5780700000 32.42860        "
      ]
     },
     "metadata": {},
     "output_type": "display_data"
    },
    {
     "data": {
      "text/html": [
       "<table class=\"dataframe\">\n",
       "<caption>A data.frame: 6 × 7</caption>\n",
       "<thead>\n",
       "\t<tr><th></th><th scope=col>Original_Subject_ID</th><th scope=col>Subject_ID</th><th scope=col>Subject_No</th><th scope=col>Sex</th><th scope=col>Age</th><th scope=col>Race</th><th scope=col>Ethnicity</th></tr>\n",
       "\t<tr><th></th><th scope=col>&lt;chr&gt;</th><th scope=col>&lt;chr&gt;</th><th scope=col>&lt;dbl&gt;</th><th scope=col>&lt;chr&gt;</th><th scope=col>&lt;dbl&gt;</th><th scope=col>&lt;chr&gt;</th><th scope=col>&lt;chr&gt;</th></tr>\n",
       "</thead>\n",
       "<tbody>\n",
       "\t<tr><th scope=row>1</th><td>68J</td><td>F_1</td><td>1</td><td>F</td><td>18</td><td>B</td><td>NH</td></tr>\n",
       "\t<tr><th scope=row>2</th><td>53K</td><td>M_2</td><td>2</td><td>M</td><td>32</td><td>B</td><td>NH</td></tr>\n",
       "\t<tr><th scope=row>3</th><td>21O</td><td>M_3</td><td>3</td><td>M</td><td>34</td><td>W</td><td>H </td></tr>\n",
       "\t<tr><th scope=row>4</th><td>63O</td><td>F_4</td><td>4</td><td>F</td><td>32</td><td>W</td><td>H </td></tr>\n",
       "\t<tr><th scope=row>5</th><td>67L</td><td>F_5</td><td>5</td><td>F</td><td>17</td><td>W</td><td>H </td></tr>\n",
       "\t<tr><th scope=row>6</th><td>57N</td><td>M_6</td><td>6</td><td>M</td><td>59</td><td>W</td><td>NH</td></tr>\n",
       "</tbody>\n",
       "</table>\n"
      ],
      "text/latex": [
       "A data.frame: 6 × 7\n",
       "\\begin{tabular}{r|lllllll}\n",
       "  & Original\\_Subject\\_ID & Subject\\_ID & Subject\\_No & Sex & Age & Race & Ethnicity\\\\\n",
       "  & <chr> & <chr> & <dbl> & <chr> & <dbl> & <chr> & <chr>\\\\\n",
       "\\hline\n",
       "\t1 & 68J & F\\_1 & 1 & F & 18 & B & NH\\\\\n",
       "\t2 & 53K & M\\_2 & 2 & M & 32 & B & NH\\\\\n",
       "\t3 & 21O & M\\_3 & 3 & M & 34 & W & H \\\\\n",
       "\t4 & 63O & F\\_4 & 4 & F & 32 & W & H \\\\\n",
       "\t5 & 67L & F\\_5 & 5 & F & 17 & W & H \\\\\n",
       "\t6 & 57N & M\\_6 & 6 & M & 59 & W & NH\\\\\n",
       "\\end{tabular}\n"
      ],
      "text/markdown": [
       "\n",
       "A data.frame: 6 × 7\n",
       "\n",
       "| <!--/--> | Original_Subject_ID &lt;chr&gt; | Subject_ID &lt;chr&gt; | Subject_No &lt;dbl&gt; | Sex &lt;chr&gt; | Age &lt;dbl&gt; | Race &lt;chr&gt; | Ethnicity &lt;chr&gt; |\n",
       "|---|---|---|---|---|---|---|---|\n",
       "| 1 | 68J | F_1 | 1 | F | 18 | B | NH |\n",
       "| 2 | 53K | M_2 | 2 | M | 32 | B | NH |\n",
       "| 3 | 21O | M_3 | 3 | M | 34 | W | H  |\n",
       "| 4 | 63O | F_4 | 4 | F | 32 | W | H  |\n",
       "| 5 | 67L | F_5 | 5 | F | 17 | W | H  |\n",
       "| 6 | 57N | M_6 | 6 | M | 59 | W | NH |\n",
       "\n"
      ],
      "text/plain": [
       "  Original_Subject_ID Subject_ID Subject_No Sex Age Race Ethnicity\n",
       "1 68J                 F_1        1          F   18  B    NH       \n",
       "2 53K                 M_2        2          M   32  B    NH       \n",
       "3 21O                 M_3        3          M   34  W    H        \n",
       "4 63O                 F_4        4          F   32  W    H        \n",
       "5 67L                 F_5        5          F   17  W    H        \n",
       "6 57N                 M_6        6          M   59  W    NH       "
      ]
     },
     "metadata": {},
     "output_type": "display_data"
    }
   ],
   "source": [
    "head(proteomics_25_df)\n",
    "head(demographics_df)"
   ]
  },
  {
   "cell_type": "code",
   "execution_count": 7,
   "id": "3dbdb0f9",
   "metadata": {},
   "outputs": [
    {
     "name": "stderr",
     "output_type": "stream",
     "text": [
      "\u001b[1m\u001b[22mJoining, by = \"Subject_ID\"\n",
      "\u001b[1m\u001b[22mJoining, by = \"Subject_ID\"\n"
     ]
    },
    {
     "data": {
      "text/html": [
       "<table class=\"dataframe\">\n",
       "<caption>A grouped_df: 6 × 10</caption>\n",
       "<thead>\n",
       "\t<tr><th scope=col>Subject_No</th><th scope=col>Subject_ID</th><th scope=col>Protein_Accession</th><th scope=col>Condensate</th><th scope=col>Burn_Condition</th><th scope=col>Concentration</th><th scope=col>Intensity</th><th scope=col>Intensity_pslog2</th><th scope=col>Sex</th><th scope=col>Scaled_Intensity</th></tr>\n",
       "\t<tr><th scope=col>&lt;dbl&gt;</th><th scope=col>&lt;chr&gt;</th><th scope=col>&lt;chr&gt;</th><th scope=col>&lt;chr&gt;</th><th scope=col>&lt;fct&gt;</th><th scope=col>&lt;dbl&gt;</th><th scope=col>&lt;dbl&gt;</th><th scope=col>&lt;dbl&gt;</th><th scope=col>&lt;fct&gt;</th><th scope=col>&lt;dbl[,1]&gt;</th></tr>\n",
       "</thead>\n",
       "<tbody>\n",
       "\t<tr><td>1</td><td>F_1</td><td>CO3_HUMAN</td><td>C</td><td>F</td><td>25</td><td>1488600000</td><td>30.47131</td><td>0</td><td>-1.29273172</td></tr>\n",
       "\t<tr><td>2</td><td>M_2</td><td>CO3_HUMAN</td><td>C</td><td>F</td><td>25</td><td>3806600000</td><td>31.82586</td><td>0</td><td>-0.04856119</td></tr>\n",
       "\t<tr><td>3</td><td>M_3</td><td>CO3_HUMAN</td><td>C</td><td>F</td><td>25</td><td>3900000000</td><td>31.86083</td><td>0</td><td>-0.01643970</td></tr>\n",
       "\t<tr><td>4</td><td>F_4</td><td>CO3_HUMAN</td><td>C</td><td>F</td><td>25</td><td>5373200000</td><td>32.32313</td><td>0</td><td> 0.40819624</td></tr>\n",
       "\t<tr><td>5</td><td>F_5</td><td>CO3_HUMAN</td><td>C</td><td>F</td><td>25</td><td>2595200000</td><td>31.27320</td><td>0</td><td>-0.55618474</td></tr>\n",
       "\t<tr><td>6</td><td>M_6</td><td>CO3_HUMAN</td><td>C</td><td>F</td><td>25</td><td>5780700000</td><td>32.42860</td><td>0</td><td> 0.50506520</td></tr>\n",
       "</tbody>\n",
       "</table>\n"
      ],
      "text/latex": [
       "A grouped\\_df: 6 × 10\n",
       "\\begin{tabular}{llllllllll}\n",
       " Subject\\_No & Subject\\_ID & Protein\\_Accession & Condensate & Burn\\_Condition & Concentration & Intensity & Intensity\\_pslog2 & Sex & Scaled\\_Intensity\\\\\n",
       " <dbl> & <chr> & <chr> & <chr> & <fct> & <dbl> & <dbl> & <dbl> & <fct> & <dbl{[},1{]}>\\\\\n",
       "\\hline\n",
       "\t 1 & F\\_1 & CO3\\_HUMAN & C & F & 25 & 1488600000 & 30.47131 & 0 & -1.29273172\\\\\n",
       "\t 2 & M\\_2 & CO3\\_HUMAN & C & F & 25 & 3806600000 & 31.82586 & 0 & -0.04856119\\\\\n",
       "\t 3 & M\\_3 & CO3\\_HUMAN & C & F & 25 & 3900000000 & 31.86083 & 0 & -0.01643970\\\\\n",
       "\t 4 & F\\_4 & CO3\\_HUMAN & C & F & 25 & 5373200000 & 32.32313 & 0 &  0.40819624\\\\\n",
       "\t 5 & F\\_5 & CO3\\_HUMAN & C & F & 25 & 2595200000 & 31.27320 & 0 & -0.55618474\\\\\n",
       "\t 6 & M\\_6 & CO3\\_HUMAN & C & F & 25 & 5780700000 & 32.42860 & 0 &  0.50506520\\\\\n",
       "\\end{tabular}\n"
      ],
      "text/markdown": [
       "\n",
       "A grouped_df: 6 × 10\n",
       "\n",
       "| Subject_No &lt;dbl&gt; | Subject_ID &lt;chr&gt; | Protein_Accession &lt;chr&gt; | Condensate &lt;chr&gt; | Burn_Condition &lt;fct&gt; | Concentration &lt;dbl&gt; | Intensity &lt;dbl&gt; | Intensity_pslog2 &lt;dbl&gt; | Sex &lt;fct&gt; | Scaled_Intensity &lt;dbl[,1]&gt; |\n",
       "|---|---|---|---|---|---|---|---|---|---|\n",
       "| 1 | F_1 | CO3_HUMAN | C | F | 25 | 1488600000 | 30.47131 | 0 | -1.29273172 |\n",
       "| 2 | M_2 | CO3_HUMAN | C | F | 25 | 3806600000 | 31.82586 | 0 | -0.04856119 |\n",
       "| 3 | M_3 | CO3_HUMAN | C | F | 25 | 3900000000 | 31.86083 | 0 | -0.01643970 |\n",
       "| 4 | F_4 | CO3_HUMAN | C | F | 25 | 5373200000 | 32.32313 | 0 |  0.40819624 |\n",
       "| 5 | F_5 | CO3_HUMAN | C | F | 25 | 2595200000 | 31.27320 | 0 | -0.55618474 |\n",
       "| 6 | M_6 | CO3_HUMAN | C | F | 25 | 5780700000 | 32.42860 | 0 |  0.50506520 |\n",
       "\n"
      ],
      "text/plain": [
       "  Subject_No Subject_ID Protein_Accession Condensate Burn_Condition\n",
       "1 1          F_1        CO3_HUMAN         C          F             \n",
       "2 2          M_2        CO3_HUMAN         C          F             \n",
       "3 3          M_3        CO3_HUMAN         C          F             \n",
       "4 4          F_4        CO3_HUMAN         C          F             \n",
       "5 5          F_5        CO3_HUMAN         C          F             \n",
       "6 6          M_6        CO3_HUMAN         C          F             \n",
       "  Concentration Intensity  Intensity_pslog2 Sex Scaled_Intensity\n",
       "1 25            1488600000 30.47131         0   -1.29273172     \n",
       "2 25            3806600000 31.82586         0   -0.04856119     \n",
       "3 25            3900000000 31.86083         0   -0.01643970     \n",
       "4 25            5373200000 32.32313         0    0.40819624     \n",
       "5 25            2595200000 31.27320         0   -0.55618474     \n",
       "6 25            5780700000 32.42860         0    0.50506520     "
      ]
     },
     "metadata": {},
     "output_type": "display_data"
    }
   ],
   "source": [
    "# combining data, but first making sex a factor\n",
    "demographics_df = demographics_df %>%\n",
    "    mutate(Sex = relevel(factor(ifelse(Sex == \"M\", 1, 0)), ref = \"0\"))\n",
    "\n",
    "proteomics_25_sex_df = inner_join(proteomics_25_df[,-c(4:5)], demographics_df[,c(2,4)]) %>%\n",
    "    # scaling the concentration values by protein normalizes the distribution\n",
    "    group_by(Protein_Accession) %>%\n",
    "    mutate(Scaled_Intensity = scale(Intensity_pslog2))\n",
    "proteomics_5_sex_df = inner_join(proteomics_5_df[,-c(4:5)], demographics_df[,c(2,4)]) %>%\n",
    "    # scaling the concentration values by protein normalizes the distribution\n",
    "    group_by(Protein_Accession) %>%\n",
    "    mutate(Scaled_Intensity = scale(Intensity_pslog2))\n",
    "\n",
    "# putting burn condition into a factor\n",
    "proteomics_25_sex_df$Burn_Condition = factor(proteomics_25_sex_df$Burn_Condition, levels = c(\"PBS\", \"S\", \"F\"))\n",
    "proteomics_5_sex_df$Burn_Condition = factor(proteomics_5_sex_df$Burn_Condition, levels = c(\"PBS\", \"S\", \"F\"))\n",
    "\n",
    "head(proteomics_25_sex_df)"
   ]
  },
  {
   "cell_type": "code",
   "execution_count": 8,
   "id": "19330ca5",
   "metadata": {},
   "outputs": [
    {
     "data": {
      "text/html": [
       "<table class=\"dataframe\">\n",
       "<caption>A matrix: 3 × 2 of type dbl</caption>\n",
       "<thead>\n",
       "\t<tr><th></th><th scope=col>S</th><th scope=col>F</th></tr>\n",
       "</thead>\n",
       "<tbody>\n",
       "\t<tr><th scope=row>PBS</th><td>0</td><td>0</td></tr>\n",
       "\t<tr><th scope=row>S</th><td>1</td><td>0</td></tr>\n",
       "\t<tr><th scope=row>F</th><td>0</td><td>1</td></tr>\n",
       "</tbody>\n",
       "</table>\n"
      ],
      "text/latex": [
       "A matrix: 3 × 2 of type dbl\n",
       "\\begin{tabular}{r|ll}\n",
       "  & S & F\\\\\n",
       "\\hline\n",
       "\tPBS & 0 & 0\\\\\n",
       "\tS & 1 & 0\\\\\n",
       "\tF & 0 & 1\\\\\n",
       "\\end{tabular}\n"
      ],
      "text/markdown": [
       "\n",
       "A matrix: 3 × 2 of type dbl\n",
       "\n",
       "| <!--/--> | S | F |\n",
       "|---|---|---|\n",
       "| PBS | 0 | 0 |\n",
       "| S | 1 | 0 |\n",
       "| F | 0 | 1 |\n",
       "\n"
      ],
      "text/plain": [
       "    S F\n",
       "PBS 0 0\n",
       "S   1 0\n",
       "F   0 1"
      ]
     },
     "metadata": {},
     "output_type": "display_data"
    }
   ],
   "source": [
    "# contrasts show what compartments are being compared in anova\n",
    "# these comparisons aren't what we want so I changed them in the function below\n",
    "contrasts(proteomics_25_sex_df$Burn_Condition)"
   ]
  },
  {
   "cell_type": "markdown",
   "id": "91b5fa66",
   "metadata": {},
   "source": [
    "               Table of Contrasts \n",
    ">               PBS |  S  |  F  |  Sum\n",
    ">  - Contrast 1 |  -1  |  1  |  0  |   0\n",
    ">  - Contrast 2 |  -1  |  0  |  1  |   0\n",
    "\n",
    "> - Contrast 1: compares PBS to smoldering\n",
    "> - Contrast 2: compares PBS to flaming"
   ]
  },
  {
   "cell_type": "code",
   "execution_count": 60,
   "id": "86acf7eb",
   "metadata": {},
   "outputs": [
    {
     "ename": "ERROR",
     "evalue": "Error in `$<-.data.frame`(`*tmp*`, \"P Adj\", value = numeric(0)): replacement has 0 rows, data has 3\n",
     "output_type": "error",
     "traceback": [
      "Error in `$<-.data.frame`(`*tmp*`, \"P Adj\", value = numeric(0)): replacement has 0 rows, data has 3\nTraceback:\n",
      "1. get_anova(proteomics_25_sex_df, 25)",
      "2. `$<-`(`*tmp*`, \"P Adj\", value = numeric(0))   # at line 23 of file <text>",
      "3. `$<-.data.frame`(`*tmp*`, \"P Adj\", value = numeric(0))   # at line 23 of file <text>",
      "4. stop(sprintf(ngettext(N, \"replacement has %d row, data has %d\", \n .     \"replacement has %d rows, data has %d\"), N, nrows), domain = NA)"
     ]
    }
   ],
   "source": [
    "get_anova = function(df, conc){\n",
    "    # first filtering the df and iterating through the condensate\n",
    "    condensates = c(\"C\", \"P\")\n",
    "    tukey_df = data.frame()\n",
    "    for (i in 1:length(condensates)){\n",
    "        filtered_df = df %>%\n",
    "            filter(Condensate == c(condensates[i], \"PBS\"))\n",
    "        \n",
    "        contrasts(filtered_df$Burn_Condition) = cbind(c(-1,1,0), c(-1,0,1)) # meaning is specified above\n",
    "        anova = aov(Scaled_Intensity ~ Burn_Condition, data = filtered_df)\n",
    "        \n",
    "        # Tukey's post hoc test\n",
    "        tukeys_anova = summary(glht(anova, linfct = mcp(Burn_Condition = \"Tukey\")), test = adjusted(\"none\"))\n",
    "        tukeys_test = tukeys_anova$test\n",
    "        stat_pvalue = data.frame(tukeys_test$tstat, tukeys_test$pvalues) %>%\n",
    "             rownames_to_column(var = \"Comparison\")\n",
    "        \n",
    "        # adding condensate and conc cols\n",
    "        stat_pvalue$Condensate = condensates[i]\n",
    "        stat_pvalue$Concentration = conc\n",
    "        \n",
    "        # adjusting p values\n",
    "        stat_pvalue$`P Adj` = p.adjust(as.numeric(as.character(stat_pvalue$pvalues)), method = \"fdr\")\n",
    "        #print(p.adjust(stat_pvalue$pvalues), method = \"fdr\")\n",
    "        \n",
    "        # saving values\n",
    "        tukey_df = rbind(tukey_df, stat_pvalue)\n",
    "\n",
    "    }\n",
    "    \n",
    "    # changing col names\n",
    "    colnames(tukey_df)[2:3] = c(\"Statistic\", \"P Value\")\n",
    "     return(tukey_df)\n",
    "}\n",
    "\n",
    "# calling fn\n",
    "proteomics_25_crude_anova = get_anova(proteomics_25_sex_df, 25)\n",
    "proteomics_5_crude_anova = get_anova(proteomics_5_sex_df, 5)"
   ]
  },
  {
   "cell_type": "code",
   "execution_count": 59,
   "id": "b4fcb165",
   "metadata": {},
   "outputs": [
    {
     "data": {
      "text/html": [
       "<style>\n",
       ".list-inline {list-style: none; margin:0; padding: 0}\n",
       ".list-inline>li {display: inline-block}\n",
       ".list-inline>li:not(:last-child)::after {content: \"\\00b7\"; padding: 0 .5ex}\n",
       "</style>\n",
       "<ol class=list-inline><li>0</li><li>0</li><li>0</li><li>0</li><li>0</li><li>0.000145265124502394</li><li>0</li><li>0</li><li>0</li><li>0.125141816481955</li><li>0</li><li>0</li></ol>\n"
      ],
      "text/latex": [
       "\\begin{enumerate*}\n",
       "\\item 0\n",
       "\\item 0\n",
       "\\item 0\n",
       "\\item 0\n",
       "\\item 0\n",
       "\\item 0.000145265124502394\n",
       "\\item 0\n",
       "\\item 0\n",
       "\\item 0\n",
       "\\item 0.125141816481955\n",
       "\\item 0\n",
       "\\item 0\n",
       "\\end{enumerate*}\n"
      ],
      "text/markdown": [
       "1. 0\n",
       "2. 0\n",
       "3. 0\n",
       "4. 0\n",
       "5. 0\n",
       "6. 0.000145265124502394\n",
       "7. 0\n",
       "8. 0\n",
       "9. 0\n",
       "10. 0.125141816481955\n",
       "11. 0\n",
       "12. 0\n",
       "\n",
       "\n"
      ],
      "text/plain": [
       " [1] 0.0000000000 0.0000000000 0.0000000000 0.0000000000 0.0000000000\n",
       " [6] 0.0001452651 0.0000000000 0.0000000000 0.0000000000 0.1251418165\n",
       "[11] 0.0000000000 0.0000000000"
      ]
     },
     "metadata": {},
     "output_type": "display_data"
    }
   ],
   "source": [
    "p.adjust(as.numeric(as.character(crude_anova_df$`P Value`)), method = \"fdr\")"
   ]
  },
  {
   "cell_type": "code",
   "execution_count": 58,
   "id": "d622ed59",
   "metadata": {},
   "outputs": [
    {
     "data": {
      "text/html": [
       "<table class=\"dataframe\">\n",
       "<caption>A data.frame: 12 × 5</caption>\n",
       "<thead>\n",
       "\t<tr><th scope=col>Comparison</th><th scope=col>Statistic</th><th scope=col>P Value</th><th scope=col>Condensate</th><th scope=col>Concentration</th></tr>\n",
       "\t<tr><th scope=col>&lt;chr&gt;</th><th scope=col>&lt;dbl&gt;</th><th scope=col>&lt;dbl&gt;</th><th scope=col>&lt;chr&gt;</th><th scope=col>&lt;dbl&gt;</th></tr>\n",
       "</thead>\n",
       "<tbody>\n",
       "\t<tr><td>S - PBS</td><td>25.167067</td><td>0.0000000000</td><td>C</td><td>25</td></tr>\n",
       "\t<tr><td>F - PBS</td><td>35.387233</td><td>0.0000000000</td><td>C</td><td>25</td></tr>\n",
       "\t<tr><td>F - S  </td><td>10.220166</td><td>0.0000000000</td><td>C</td><td>25</td></tr>\n",
       "\t<tr><td>S - PBS</td><td>47.826576</td><td>0.0000000000</td><td>P</td><td>25</td></tr>\n",
       "\t<tr><td>F - PBS</td><td>44.005223</td><td>0.0000000000</td><td>P</td><td>25</td></tr>\n",
       "\t<tr><td>F - S  </td><td>-3.821353</td><td>0.0001331597</td><td>P</td><td>25</td></tr>\n",
       "\t<tr><td>S - PBS</td><td>19.941011</td><td>0.0000000000</td><td>C</td><td> 5</td></tr>\n",
       "\t<tr><td>F - PBS</td><td>47.237998</td><td>0.0000000000</td><td>C</td><td> 5</td></tr>\n",
       "\t<tr><td>F - S  </td><td>27.296987</td><td>0.0000000000</td><td>C</td><td> 5</td></tr>\n",
       "\t<tr><td>S - PBS</td><td> 1.533610</td><td>0.1251418165</td><td>P</td><td> 5</td></tr>\n",
       "\t<tr><td>F - PBS</td><td>39.279735</td><td>0.0000000000</td><td>P</td><td> 5</td></tr>\n",
       "\t<tr><td>F - S  </td><td>37.746124</td><td>0.0000000000</td><td>P</td><td> 5</td></tr>\n",
       "</tbody>\n",
       "</table>\n"
      ],
      "text/latex": [
       "A data.frame: 12 × 5\n",
       "\\begin{tabular}{lllll}\n",
       " Comparison & Statistic & P Value & Condensate & Concentration\\\\\n",
       " <chr> & <dbl> & <dbl> & <chr> & <dbl>\\\\\n",
       "\\hline\n",
       "\t S - PBS & 25.167067 & 0.0000000000 & C & 25\\\\\n",
       "\t F - PBS & 35.387233 & 0.0000000000 & C & 25\\\\\n",
       "\t F - S   & 10.220166 & 0.0000000000 & C & 25\\\\\n",
       "\t S - PBS & 47.826576 & 0.0000000000 & P & 25\\\\\n",
       "\t F - PBS & 44.005223 & 0.0000000000 & P & 25\\\\\n",
       "\t F - S   & -3.821353 & 0.0001331597 & P & 25\\\\\n",
       "\t S - PBS & 19.941011 & 0.0000000000 & C &  5\\\\\n",
       "\t F - PBS & 47.237998 & 0.0000000000 & C &  5\\\\\n",
       "\t F - S   & 27.296987 & 0.0000000000 & C &  5\\\\\n",
       "\t S - PBS &  1.533610 & 0.1251418165 & P &  5\\\\\n",
       "\t F - PBS & 39.279735 & 0.0000000000 & P &  5\\\\\n",
       "\t F - S   & 37.746124 & 0.0000000000 & P &  5\\\\\n",
       "\\end{tabular}\n"
      ],
      "text/markdown": [
       "\n",
       "A data.frame: 12 × 5\n",
       "\n",
       "| Comparison &lt;chr&gt; | Statistic &lt;dbl&gt; | P Value &lt;dbl&gt; | Condensate &lt;chr&gt; | Concentration &lt;dbl&gt; |\n",
       "|---|---|---|---|---|\n",
       "| S - PBS | 25.167067 | 0.0000000000 | C | 25 |\n",
       "| F - PBS | 35.387233 | 0.0000000000 | C | 25 |\n",
       "| F - S   | 10.220166 | 0.0000000000 | C | 25 |\n",
       "| S - PBS | 47.826576 | 0.0000000000 | P | 25 |\n",
       "| F - PBS | 44.005223 | 0.0000000000 | P | 25 |\n",
       "| F - S   | -3.821353 | 0.0001331597 | P | 25 |\n",
       "| S - PBS | 19.941011 | 0.0000000000 | C |  5 |\n",
       "| F - PBS | 47.237998 | 0.0000000000 | C |  5 |\n",
       "| F - S   | 27.296987 | 0.0000000000 | C |  5 |\n",
       "| S - PBS |  1.533610 | 0.1251418165 | P |  5 |\n",
       "| F - PBS | 39.279735 | 0.0000000000 | P |  5 |\n",
       "| F - S   | 37.746124 | 0.0000000000 | P |  5 |\n",
       "\n"
      ],
      "text/plain": [
       "   Comparison Statistic P Value      Condensate Concentration\n",
       "1  S - PBS    25.167067 0.0000000000 C          25           \n",
       "2  F - PBS    35.387233 0.0000000000 C          25           \n",
       "3  F - S      10.220166 0.0000000000 C          25           \n",
       "4  S - PBS    47.826576 0.0000000000 P          25           \n",
       "5  F - PBS    44.005223 0.0000000000 P          25           \n",
       "6  F - S      -3.821353 0.0001331597 P          25           \n",
       "7  S - PBS    19.941011 0.0000000000 C           5           \n",
       "8  F - PBS    47.237998 0.0000000000 C           5           \n",
       "9  F - S      27.296987 0.0000000000 C           5           \n",
       "10 S - PBS     1.533610 0.1251418165 P           5           \n",
       "11 F - PBS    39.279735 0.0000000000 P           5           \n",
       "12 F - S      37.746124 0.0000000000 P           5           "
      ]
     },
     "metadata": {},
     "output_type": "display_data"
    }
   ],
   "source": [
    "crude_anova_df = rbind(proteomics_25_crude_anova, proteomics_5_crude_anova)\n",
    "crude_anova_df"
   ]
  },
  {
   "cell_type": "code",
   "execution_count": 5,
   "id": "99485657",
   "metadata": {},
   "outputs": [
    {
     "ename": "ERROR",
     "evalue": "Error in parse(text = x, srcfile = src): <text>:29:56: unexpected ')'\n28:             # quade's test\n29:             quade_test = quade.test(Intensity_pslog2 ~ )\n                                                           ^\n",
     "output_type": "error",
     "traceback": [
      "Error in parse(text = x, srcfile = src): <text>:29:56: unexpected ')'\n28:             # quade's test\n29:             quade_test = quade.test(Intensity_pslog2 ~ )\n                                                           ^\nTraceback:\n"
     ]
    }
   ],
   "source": [
    "quade_test_v1 = function(df){\n",
    "    # \"\"\"\n",
    "    # Running quade test after filtering for a protein and condensate using a loop and controlling for sex. \n",
    "    # Ultimately using this test to compare protein expression (control vs. flaming burn condition).\n",
    "\n",
    "    # :param: protein dataframe\n",
    "    # :output: a dataframe containing the protein, condensate, comparison, stat, p value, p adj\n",
    "\n",
    "    # \"\"\"\n",
    "    \n",
    "    # variables that will be iterated through\n",
    "    proteins = unique(df$Protein_Accession)\n",
    "    condensates = c(\"C\", \"P\")\n",
    "    \n",
    "    values_df = data.frame()\n",
    "     # iterating through each protein, condensate, and burn condition\n",
    "    for(i in 1:length(proteins)){\n",
    "        for(j in 1:length(condensates)){\n",
    "                \n",
    "            # control df\n",
    "            control_df = df %>%\n",
    "                filter(Protein_Accession == proteins[i], Condensate == \"PBS\")\n",
    "\n",
    "            # flaming df\n",
    "            flaming_df = df %>%\n",
    "                filter(Protein_Accession == proteins[i], Condensate == condensates[j], Burn_Condition == \"F\")\n",
    "\n",
    "            # quade's test\n",
    "            quade_test = quade.test(Intensity_pslog2 ~ )\n",
    "\n",
    "            # contains gene, condensate, burn conditions, conc, stat, and p value\n",
    "            values_vector = cbind(proteins[i], condensates[j], \"Control vs. Flaming\",\n",
    "                                  unique(df\n",
    "statistic, quade_test$p.value)\n",
    "            values_df = rbind(values_df, values_vector)\n",
    "        }\n",
    "    }\n",
    "\n",
    "    \n",
    "    # adding col names\n",
    "    colnames(values_df) = c(\"Protein\", \"Condensate\", \"Comparison\", \"Concentration\", \"Statistic\", \"P Value\")\n",
    "    \n",
    "    # calculating padj values\n",
    "    values_df$`P Adj` = p.adjust(as.numeric(as.character(values_df$`P Value`)), method = \"fdr\")\n",
    "\n",
    "    \n",
    "    return(values_df)\n",
    "}"
   ]
  }
 ],
 "metadata": {
  "kernelspec": {
   "display_name": "R",
   "language": "R",
   "name": "ir"
  },
  "language_info": {
   "codemirror_mode": "r",
   "file_extension": ".r",
   "mimetype": "text/x-r-source",
   "name": "R",
   "pygments_lexer": "r",
   "version": "4.1.3"
  }
 },
 "nbformat": 4,
 "nbformat_minor": 5
}
