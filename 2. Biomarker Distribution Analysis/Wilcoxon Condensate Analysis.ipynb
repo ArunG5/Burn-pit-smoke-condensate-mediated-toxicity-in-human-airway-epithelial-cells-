{
 "cells": [
  {
   "cell_type": "code",
   "execution_count": 1,
   "id": "cc978770",
   "metadata": {},
   "outputs": [
    {
     "name": "stderr",
     "output_type": "stream",
     "text": [
      "── \u001b[1mAttaching core tidyverse packages\u001b[22m ──────────────────────── tidyverse 2.0.0 ──\n",
      "\u001b[32m✔\u001b[39m \u001b[34mdplyr    \u001b[39m 1.1.2     \u001b[32m✔\u001b[39m \u001b[34mreadr    \u001b[39m 2.1.4\n",
      "\u001b[32m✔\u001b[39m \u001b[34mforcats  \u001b[39m 1.0.0     \u001b[32m✔\u001b[39m \u001b[34mstringr  \u001b[39m 1.5.0\n",
      "\u001b[32m✔\u001b[39m \u001b[34mggplot2  \u001b[39m 3.4.2     \u001b[32m✔\u001b[39m \u001b[34mtibble   \u001b[39m 3.2.1\n",
      "\u001b[32m✔\u001b[39m \u001b[34mlubridate\u001b[39m 1.9.2     \u001b[32m✔\u001b[39m \u001b[34mtidyr    \u001b[39m 1.3.0\n",
      "\u001b[32m✔\u001b[39m \u001b[34mpurrr    \u001b[39m 1.0.1     \n",
      "── \u001b[1mConflicts\u001b[22m ────────────────────────────────────────── tidyverse_conflicts() ──\n",
      "\u001b[31m✖\u001b[39m \u001b[34mdplyr\u001b[39m::\u001b[32mfilter()\u001b[39m masks \u001b[34mstats\u001b[39m::filter()\n",
      "\u001b[31m✖\u001b[39m \u001b[34mdplyr\u001b[39m::\u001b[32mlag()\u001b[39m    masks \u001b[34mstats\u001b[39m::lag()\n",
      "\u001b[36mℹ\u001b[39m Use the conflicted package (\u001b[3m\u001b[34m<http://conflicted.r-lib.org/>\u001b[39m\u001b[23m) to force all conflicts to become errors\n",
      "\n",
      "Attaching package: ‘reshape2’\n",
      "\n",
      "\n",
      "The following object is masked from ‘package:tidyr’:\n",
      "\n",
      "    smiths\n",
      "\n",
      "\n",
      "\n",
      "Attaching package: ‘rlang’\n",
      "\n",
      "\n",
      "The following objects are masked from ‘package:purrr’:\n",
      "\n",
      "    %@%, flatten, flatten_chr, flatten_dbl, flatten_int, flatten_lgl,\n",
      "    flatten_raw, invoke, splice\n",
      "\n",
      "\n",
      "Warning message in eval(expr, envir, enclos):\n",
      "“NAs introduced by coercion”\n",
      "Warning message in eval(expr, envir, enclos):\n",
      "“NAs introduced by coercion”\n"
     ]
    }
   ],
   "source": [
    "Output = c(\"/Users/alexis/Library/CloudStorage/OneDrive-UniversityofNorthCarolinaatChapelHill/CEMALB_DataAnalysisPM/Projects/P1011. Emission Mixtures/P1011.3. Analyses/P1011.3.3. Biomarker Distribution Analysis/Output\")\n",
    "cur_date = \"082223\"\n",
    "\n",
    "library(readxl)\n",
    "library(openxlsx)\n",
    "library(tidyverse)\n",
    "library(reshape2)\n",
    "library(rlang)\n",
    "library(PMCMRplus)\n",
    "\n",
    "# reading in files\n",
    "cytokine_df = data.frame(read_excel(\"Input/Processed_Cyotkine_Data_081723.xlsx\"))\n",
    "mRNA_df = data.frame(read_excel(\"Input/Processed_mRNA_Data_081723.xlsx\"))\n",
    "\n",
    "# making some cols numeric\n",
    "cytokine_df$Condensate_Conc = as.numeric(cytokine_df$Condensate_Conc)\n",
    "mRNA_df$Concentration = as.numeric(mRNA_df$Concentration)\n",
    "mRNA_df$Time_Point = as.numeric(mRNA_df$Time_Point)"
   ]
  },
  {
   "cell_type": "code",
   "execution_count": 2,
   "id": "6caac18f",
   "metadata": {},
   "outputs": [
    {
     "data": {
      "text/html": [
       "<table class=\"dataframe\">\n",
       "<caption>A data.frame: 6 × 7</caption>\n",
       "<thead>\n",
       "\t<tr><th></th><th scope=col>Subject_ID</th><th scope=col>Subject_No</th><th scope=col>Cytokine</th><th scope=col>Condensate</th><th scope=col>Burn_Condition</th><th scope=col>Condensate_Conc</th><th scope=col>Norm_Cytokine_Conc</th></tr>\n",
       "\t<tr><th></th><th scope=col>&lt;chr&gt;</th><th scope=col>&lt;dbl&gt;</th><th scope=col>&lt;chr&gt;</th><th scope=col>&lt;chr&gt;</th><th scope=col>&lt;chr&gt;</th><th scope=col>&lt;dbl&gt;</th><th scope=col>&lt;dbl&gt;</th></tr>\n",
       "</thead>\n",
       "<tbody>\n",
       "\t<tr><th scope=row>1</th><td>F_1</td><td>1</td><td>Eotaxin3</td><td>C</td><td>F</td><td> 1</td><td>5.438924</td></tr>\n",
       "\t<tr><th scope=row>2</th><td>F_1</td><td>1</td><td>Eotaxin3</td><td>C</td><td>F</td><td>25</td><td>3.630025</td></tr>\n",
       "\t<tr><th scope=row>3</th><td>F_1</td><td>1</td><td>Eotaxin3</td><td>C</td><td>F</td><td> 5</td><td>4.694272</td></tr>\n",
       "\t<tr><th scope=row>4</th><td>F_1</td><td>1</td><td>Eotaxin3</td><td>C</td><td>S</td><td> 1</td><td>6.165522</td></tr>\n",
       "\t<tr><th scope=row>5</th><td>F_1</td><td>1</td><td>Eotaxin3</td><td>C</td><td>S</td><td>25</td><td>3.703871</td></tr>\n",
       "\t<tr><th scope=row>6</th><td>F_1</td><td>1</td><td>Eotaxin3</td><td>C</td><td>S</td><td> 5</td><td>4.562595</td></tr>\n",
       "</tbody>\n",
       "</table>\n"
      ],
      "text/latex": [
       "A data.frame: 6 × 7\n",
       "\\begin{tabular}{r|lllllll}\n",
       "  & Subject\\_ID & Subject\\_No & Cytokine & Condensate & Burn\\_Condition & Condensate\\_Conc & Norm\\_Cytokine\\_Conc\\\\\n",
       "  & <chr> & <dbl> & <chr> & <chr> & <chr> & <dbl> & <dbl>\\\\\n",
       "\\hline\n",
       "\t1 & F\\_1 & 1 & Eotaxin3 & C & F &  1 & 5.438924\\\\\n",
       "\t2 & F\\_1 & 1 & Eotaxin3 & C & F & 25 & 3.630025\\\\\n",
       "\t3 & F\\_1 & 1 & Eotaxin3 & C & F &  5 & 4.694272\\\\\n",
       "\t4 & F\\_1 & 1 & Eotaxin3 & C & S &  1 & 6.165522\\\\\n",
       "\t5 & F\\_1 & 1 & Eotaxin3 & C & S & 25 & 3.703871\\\\\n",
       "\t6 & F\\_1 & 1 & Eotaxin3 & C & S &  5 & 4.562595\\\\\n",
       "\\end{tabular}\n"
      ],
      "text/markdown": [
       "\n",
       "A data.frame: 6 × 7\n",
       "\n",
       "| <!--/--> | Subject_ID &lt;chr&gt; | Subject_No &lt;dbl&gt; | Cytokine &lt;chr&gt; | Condensate &lt;chr&gt; | Burn_Condition &lt;chr&gt; | Condensate_Conc &lt;dbl&gt; | Norm_Cytokine_Conc &lt;dbl&gt; |\n",
       "|---|---|---|---|---|---|---|---|\n",
       "| 1 | F_1 | 1 | Eotaxin3 | C | F |  1 | 5.438924 |\n",
       "| 2 | F_1 | 1 | Eotaxin3 | C | F | 25 | 3.630025 |\n",
       "| 3 | F_1 | 1 | Eotaxin3 | C | F |  5 | 4.694272 |\n",
       "| 4 | F_1 | 1 | Eotaxin3 | C | S |  1 | 6.165522 |\n",
       "| 5 | F_1 | 1 | Eotaxin3 | C | S | 25 | 3.703871 |\n",
       "| 6 | F_1 | 1 | Eotaxin3 | C | S |  5 | 4.562595 |\n",
       "\n"
      ],
      "text/plain": [
       "  Subject_ID Subject_No Cytokine Condensate Burn_Condition Condensate_Conc\n",
       "1 F_1        1          Eotaxin3 C          F               1             \n",
       "2 F_1        1          Eotaxin3 C          F              25             \n",
       "3 F_1        1          Eotaxin3 C          F               5             \n",
       "4 F_1        1          Eotaxin3 C          S               1             \n",
       "5 F_1        1          Eotaxin3 C          S              25             \n",
       "6 F_1        1          Eotaxin3 C          S               5             \n",
       "  Norm_Cytokine_Conc\n",
       "1 5.438924          \n",
       "2 3.630025          \n",
       "3 4.694272          \n",
       "4 6.165522          \n",
       "5 3.703871          \n",
       "6 4.562595          "
      ]
     },
     "metadata": {},
     "output_type": "display_data"
    },
    {
     "data": {
      "text/html": [
       "<table class=\"dataframe\">\n",
       "<caption>A data.frame: 6 × 8</caption>\n",
       "<thead>\n",
       "\t<tr><th></th><th scope=col>Subject_No</th><th scope=col>Subject_ID</th><th scope=col>mRNA</th><th scope=col>Condensate</th><th scope=col>Burn_Condition</th><th scope=col>Concentration</th><th scope=col>Time_Point</th><th scope=col>Norm_ddCT</th></tr>\n",
       "\t<tr><th></th><th scope=col>&lt;dbl&gt;</th><th scope=col>&lt;chr&gt;</th><th scope=col>&lt;chr&gt;</th><th scope=col>&lt;chr&gt;</th><th scope=col>&lt;chr&gt;</th><th scope=col>&lt;dbl&gt;</th><th scope=col>&lt;dbl&gt;</th><th scope=col>&lt;dbl&gt;</th></tr>\n",
       "</thead>\n",
       "<tbody>\n",
       "\t<tr><th scope=row>1</th><td>6</td><td>M_6</td><td>HMOX1</td><td>PBS</td><td>PBS</td><td>NA</td><td>24</td><td>3.912311</td></tr>\n",
       "\t<tr><th scope=row>2</th><td>5</td><td>F_5</td><td>HMOX1</td><td>PBS</td><td>PBS</td><td>NA</td><td> 4</td><td>3.067190</td></tr>\n",
       "\t<tr><th scope=row>3</th><td>1</td><td>F_1</td><td>HMOX1</td><td>PBS</td><td>PBS</td><td>NA</td><td> 4</td><td>3.843045</td></tr>\n",
       "\t<tr><th scope=row>4</th><td>2</td><td>M_2</td><td>HMOX1</td><td>PBS</td><td>PBS</td><td>NA</td><td> 4</td><td>3.415457</td></tr>\n",
       "\t<tr><th scope=row>5</th><td>3</td><td>M_3</td><td>HMOX1</td><td>PBS</td><td>PBS</td><td>NA</td><td> 4</td><td>3.234524</td></tr>\n",
       "\t<tr><th scope=row>6</th><td>4</td><td>F_4</td><td>HMOX1</td><td>PBS</td><td>PBS</td><td>NA</td><td> 4</td><td>3.294681</td></tr>\n",
       "</tbody>\n",
       "</table>\n"
      ],
      "text/latex": [
       "A data.frame: 6 × 8\n",
       "\\begin{tabular}{r|llllllll}\n",
       "  & Subject\\_No & Subject\\_ID & mRNA & Condensate & Burn\\_Condition & Concentration & Time\\_Point & Norm\\_ddCT\\\\\n",
       "  & <dbl> & <chr> & <chr> & <chr> & <chr> & <dbl> & <dbl> & <dbl>\\\\\n",
       "\\hline\n",
       "\t1 & 6 & M\\_6 & HMOX1 & PBS & PBS & NA & 24 & 3.912311\\\\\n",
       "\t2 & 5 & F\\_5 & HMOX1 & PBS & PBS & NA &  4 & 3.067190\\\\\n",
       "\t3 & 1 & F\\_1 & HMOX1 & PBS & PBS & NA &  4 & 3.843045\\\\\n",
       "\t4 & 2 & M\\_2 & HMOX1 & PBS & PBS & NA &  4 & 3.415457\\\\\n",
       "\t5 & 3 & M\\_3 & HMOX1 & PBS & PBS & NA &  4 & 3.234524\\\\\n",
       "\t6 & 4 & F\\_4 & HMOX1 & PBS & PBS & NA &  4 & 3.294681\\\\\n",
       "\\end{tabular}\n"
      ],
      "text/markdown": [
       "\n",
       "A data.frame: 6 × 8\n",
       "\n",
       "| <!--/--> | Subject_No &lt;dbl&gt; | Subject_ID &lt;chr&gt; | mRNA &lt;chr&gt; | Condensate &lt;chr&gt; | Burn_Condition &lt;chr&gt; | Concentration &lt;dbl&gt; | Time_Point &lt;dbl&gt; | Norm_ddCT &lt;dbl&gt; |\n",
       "|---|---|---|---|---|---|---|---|---|\n",
       "| 1 | 6 | M_6 | HMOX1 | PBS | PBS | NA | 24 | 3.912311 |\n",
       "| 2 | 5 | F_5 | HMOX1 | PBS | PBS | NA |  4 | 3.067190 |\n",
       "| 3 | 1 | F_1 | HMOX1 | PBS | PBS | NA |  4 | 3.843045 |\n",
       "| 4 | 2 | M_2 | HMOX1 | PBS | PBS | NA |  4 | 3.415457 |\n",
       "| 5 | 3 | M_3 | HMOX1 | PBS | PBS | NA |  4 | 3.234524 |\n",
       "| 6 | 4 | F_4 | HMOX1 | PBS | PBS | NA |  4 | 3.294681 |\n",
       "\n"
      ],
      "text/plain": [
       "  Subject_No Subject_ID mRNA  Condensate Burn_Condition Concentration\n",
       "1 6          M_6        HMOX1 PBS        PBS            NA           \n",
       "2 5          F_5        HMOX1 PBS        PBS            NA           \n",
       "3 1          F_1        HMOX1 PBS        PBS            NA           \n",
       "4 2          M_2        HMOX1 PBS        PBS            NA           \n",
       "5 3          M_3        HMOX1 PBS        PBS            NA           \n",
       "6 4          F_4        HMOX1 PBS        PBS            NA           \n",
       "  Time_Point Norm_ddCT\n",
       "1 24         3.912311 \n",
       "2  4         3.067190 \n",
       "3  4         3.843045 \n",
       "4  4         3.415457 \n",
       "5  4         3.234524 \n",
       "6  4         3.294681 "
      ]
     },
     "metadata": {},
     "output_type": "display_data"
    }
   ],
   "source": [
    "head(cytokine_df)\n",
    "head(mRNA_df)"
   ]
  },
  {
   "cell_type": "markdown",
   "id": "074838e9",
   "metadata": {},
   "source": [
    "# Research Question: Are there statistically significant differences in each biomarker between condensate samples?\n",
    "\n",
    "Testing for statistical differences by comparing an individual biomarker's value (ie. concentration or ddCT) between condensate samples within each burn condition (ie. control, smoldering or flaming), dose (only 1 and 25) and time point (only 24).\n",
    "\n",
    "Typically, normality and homogeneity of variances would be tested for first, however a non-parametric test (Wilcoxon rank sum) will be used given the small sample size (n = 6).\n",
    "\n",
    "\n",
    "# Wilcoxon Rank Sum test"
   ]
  },
  {
   "cell_type": "code",
   "execution_count": 4,
   "id": "74a00946",
   "metadata": {},
   "outputs": [],
   "source": [
    "# splitting df to use loops easier\n",
    "cytokine_split_df = cytokine_df %>%\n",
    "    # only comparing plastic and cardboard samples (omitting the control samples)\n",
    "    filter(Condensate_Conc %in% c(1, 25)) %>%\n",
    "    group_by(Condensate_Conc) %>%\n",
    "    group_split()\n",
    "\n",
    "dose1_cytokine_df = cytokine_split_df[[1]]\n",
    "dose25_cytokine_df = cytokine_split_df[[2]]"
   ]
  },
  {
   "cell_type": "code",
   "execution_count": null,
   "id": "4ffa7808",
   "metadata": {},
   "outputs": [],
   "source": []
  }
 ],
 "metadata": {
  "kernelspec": {
   "display_name": "R",
   "language": "R",
   "name": "ir"
  },
  "language_info": {
   "codemirror_mode": "r",
   "file_extension": ".r",
   "mimetype": "text/x-r-source",
   "name": "R",
   "pygments_lexer": "r",
   "version": "4.1.3"
  }
 },
 "nbformat": 4,
 "nbformat_minor": 5
}
