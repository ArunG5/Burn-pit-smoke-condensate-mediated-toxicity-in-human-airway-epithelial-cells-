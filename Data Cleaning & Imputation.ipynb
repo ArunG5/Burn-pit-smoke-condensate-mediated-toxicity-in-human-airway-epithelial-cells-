{
 "cells": [
  {
   "cell_type": "code",
   "execution_count": 6,
   "id": "98eb429f",
   "metadata": {},
   "outputs": [],
   "source": [
    "Output = ('/Users/alexis/Library/CloudStorage/OneDrive-UniversityofNorthCarolinaatChapelHill/CEMALB_DataAnalysisPM/Projects/P1011. Emission Mixtures/P1011.3. Analyses/P1011.3.1. Data Cleaning & Imputation/Output')\n",
    "cur_date = \"041823\"\n",
    "\n",
    "library(readxl)\n",
    "library(tidyverse)\n",
    "library(reshape2)\n",
    "\n",
    "# reading in files\n",
    "mRNA_df = data.frame(read_excel(\"Input/mRNA_Data_041423.xlsx\", sheet = 2))"
   ]
  },
  {
   "cell_type": "code",
   "execution_count": 7,
   "id": "e3981b95",
   "metadata": {},
   "outputs": [
    {
     "data": {
      "text/html": [
       "<table class=\"dataframe\">\n",
       "<caption>A data.frame: 6 × 9</caption>\n",
       "<thead>\n",
       "\t<tr><th></th><th scope=col>Subject_No</th><th scope=col>Subject_ID</th><th scope=col>mRNA</th><th scope=col>Condensate</th><th scope=col>Burn_Condition</th><th scope=col>Concentration</th><th scope=col>Time_Point</th><th scope=col>ddCT</th><th scope=col>ddCT_pslog2</th></tr>\n",
       "\t<tr><th></th><th scope=col>&lt;dbl&gt;</th><th scope=col>&lt;chr&gt;</th><th scope=col>&lt;chr&gt;</th><th scope=col>&lt;chr&gt;</th><th scope=col>&lt;chr&gt;</th><th scope=col>&lt;chr&gt;</th><th scope=col>&lt;dbl&gt;</th><th scope=col>&lt;dbl&gt;</th><th scope=col>&lt;dbl&gt;</th></tr>\n",
       "</thead>\n",
       "<tbody>\n",
       "\t<tr><th scope=row>1</th><td>1</td><td>F_1</td><td>ALDH1A3</td><td>C</td><td>F</td><td>1</td><td>24</td><td>-6.6824749</td><td>4.480105</td></tr>\n",
       "\t<tr><th scope=row>2</th><td>2</td><td>M_2</td><td>ALDH1A3</td><td>C</td><td>F</td><td>1</td><td>24</td><td> 0.2560009</td><td>4.870661</td></tr>\n",
       "\t<tr><th scope=row>3</th><td>3</td><td>M_3</td><td>ALDH1A3</td><td>C</td><td>F</td><td>1</td><td>24</td><td> 0.4318636</td><td>4.879307</td></tr>\n",
       "\t<tr><th scope=row>4</th><td>4</td><td>F_4</td><td>ALDH1A3</td><td>C</td><td>F</td><td>1</td><td>24</td><td> 0.4193253</td><td>4.878692</td></tr>\n",
       "\t<tr><th scope=row>5</th><td>6</td><td>M_6</td><td>ALDH1A3</td><td>C</td><td>F</td><td>1</td><td>24</td><td>-0.1550695</td><td>4.850246</td></tr>\n",
       "\t<tr><th scope=row>6</th><td>1</td><td>F_1</td><td>ALDH1A3</td><td>C</td><td>F</td><td>1</td><td>72</td><td>-0.2119125</td><td>4.847400</td></tr>\n",
       "</tbody>\n",
       "</table>\n"
      ],
      "text/latex": [
       "A data.frame: 6 × 9\n",
       "\\begin{tabular}{r|lllllllll}\n",
       "  & Subject\\_No & Subject\\_ID & mRNA & Condensate & Burn\\_Condition & Concentration & Time\\_Point & ddCT & ddCT\\_pslog2\\\\\n",
       "  & <dbl> & <chr> & <chr> & <chr> & <chr> & <chr> & <dbl> & <dbl> & <dbl>\\\\\n",
       "\\hline\n",
       "\t1 & 1 & F\\_1 & ALDH1A3 & C & F & 1 & 24 & -6.6824749 & 4.480105\\\\\n",
       "\t2 & 2 & M\\_2 & ALDH1A3 & C & F & 1 & 24 &  0.2560009 & 4.870661\\\\\n",
       "\t3 & 3 & M\\_3 & ALDH1A3 & C & F & 1 & 24 &  0.4318636 & 4.879307\\\\\n",
       "\t4 & 4 & F\\_4 & ALDH1A3 & C & F & 1 & 24 &  0.4193253 & 4.878692\\\\\n",
       "\t5 & 6 & M\\_6 & ALDH1A3 & C & F & 1 & 24 & -0.1550695 & 4.850246\\\\\n",
       "\t6 & 1 & F\\_1 & ALDH1A3 & C & F & 1 & 72 & -0.2119125 & 4.847400\\\\\n",
       "\\end{tabular}\n"
      ],
      "text/markdown": [
       "\n",
       "A data.frame: 6 × 9\n",
       "\n",
       "| <!--/--> | Subject_No &lt;dbl&gt; | Subject_ID &lt;chr&gt; | mRNA &lt;chr&gt; | Condensate &lt;chr&gt; | Burn_Condition &lt;chr&gt; | Concentration &lt;chr&gt; | Time_Point &lt;dbl&gt; | ddCT &lt;dbl&gt; | ddCT_pslog2 &lt;dbl&gt; |\n",
       "|---|---|---|---|---|---|---|---|---|---|\n",
       "| 1 | 1 | F_1 | ALDH1A3 | C | F | 1 | 24 | -6.6824749 | 4.480105 |\n",
       "| 2 | 2 | M_2 | ALDH1A3 | C | F | 1 | 24 |  0.2560009 | 4.870661 |\n",
       "| 3 | 3 | M_3 | ALDH1A3 | C | F | 1 | 24 |  0.4318636 | 4.879307 |\n",
       "| 4 | 4 | F_4 | ALDH1A3 | C | F | 1 | 24 |  0.4193253 | 4.878692 |\n",
       "| 5 | 6 | M_6 | ALDH1A3 | C | F | 1 | 24 | -0.1550695 | 4.850246 |\n",
       "| 6 | 1 | F_1 | ALDH1A3 | C | F | 1 | 72 | -0.2119125 | 4.847400 |\n",
       "\n"
      ],
      "text/plain": [
       "  Subject_No Subject_ID mRNA    Condensate Burn_Condition Concentration\n",
       "1 1          F_1        ALDH1A3 C          F              1            \n",
       "2 2          M_2        ALDH1A3 C          F              1            \n",
       "3 3          M_3        ALDH1A3 C          F              1            \n",
       "4 4          F_4        ALDH1A3 C          F              1            \n",
       "5 6          M_6        ALDH1A3 C          F              1            \n",
       "6 1          F_1        ALDH1A3 C          F              1            \n",
       "  Time_Point ddCT       ddCT_pslog2\n",
       "1 24         -6.6824749 4.480105   \n",
       "2 24          0.2560009 4.870661   \n",
       "3 24          0.4318636 4.879307   \n",
       "4 24          0.4193253 4.878692   \n",
       "5 24         -0.1550695 4.850246   \n",
       "6 72         -0.2119125 4.847400   "
      ]
     },
     "metadata": {},
     "output_type": "display_data"
    }
   ],
   "source": [
    "head(mRNA_df)"
   ]
  },
  {
   "cell_type": "code",
   "execution_count": 8,
   "id": "5bb40eff",
   "metadata": {},
   "outputs": [
    {
     "data": {
      "text/html": [
       "<table class=\"dataframe\">\n",
       "<caption>A grouped_df: 6 × 10</caption>\n",
       "<thead>\n",
       "\t<tr><th scope=col>Subject_No</th><th scope=col>Subject_ID</th><th scope=col>mRNA</th><th scope=col>Condensate</th><th scope=col>Burn_Condition</th><th scope=col>Concentration</th><th scope=col>Time_Point</th><th scope=col>ddCT</th><th scope=col>ddCT_pslog2</th><th scope=col>Duplicate_Count</th></tr>\n",
       "\t<tr><th scope=col>&lt;dbl&gt;</th><th scope=col>&lt;chr&gt;</th><th scope=col>&lt;chr&gt;</th><th scope=col>&lt;chr&gt;</th><th scope=col>&lt;chr&gt;</th><th scope=col>&lt;chr&gt;</th><th scope=col>&lt;dbl&gt;</th><th scope=col>&lt;dbl&gt;</th><th scope=col>&lt;dbl&gt;</th><th scope=col>&lt;int&gt;</th></tr>\n",
       "</thead>\n",
       "<tbody>\n",
       "\t<tr><td>6</td><td>M_6</td><td>HMOX1</td><td>PBS</td><td>PBS</td><td>NA</td><td>24</td><td> 0.70848207</td><td>4.892803</td><td>6</td></tr>\n",
       "\t<tr><td>6</td><td>M_6</td><td>HMOX1</td><td>PBS</td><td>PBS</td><td>NA</td><td>24</td><td> 0.36651641</td><td>4.876100</td><td>6</td></tr>\n",
       "\t<tr><td>6</td><td>M_6</td><td>HMOX1</td><td>PBS</td><td>PBS</td><td>NA</td><td>24</td><td>-0.09090465</td><td>4.853452</td><td>6</td></tr>\n",
       "\t<tr><td>6</td><td>M_6</td><td>HMOX1</td><td>PBS</td><td>PBS</td><td>NA</td><td>24</td><td>-0.37654696</td><td>4.839126</td><td>6</td></tr>\n",
       "\t<tr><td>6</td><td>M_6</td><td>HMOX1</td><td>PBS</td><td>PBS</td><td>NA</td><td>24</td><td> 0.72283828</td><td>4.893500</td><td>6</td></tr>\n",
       "\t<tr><td>6</td><td>M_6</td><td>HMOX1</td><td>PBS</td><td>PBS</td><td>NA</td><td>24</td><td> 0.37135970</td><td>4.876338</td><td>6</td></tr>\n",
       "</tbody>\n",
       "</table>\n"
      ],
      "text/latex": [
       "A grouped\\_df: 6 × 10\n",
       "\\begin{tabular}{llllllllll}\n",
       " Subject\\_No & Subject\\_ID & mRNA & Condensate & Burn\\_Condition & Concentration & Time\\_Point & ddCT & ddCT\\_pslog2 & Duplicate\\_Count\\\\\n",
       " <dbl> & <chr> & <chr> & <chr> & <chr> & <chr> & <dbl> & <dbl> & <dbl> & <int>\\\\\n",
       "\\hline\n",
       "\t 6 & M\\_6 & HMOX1 & PBS & PBS & NA & 24 &  0.70848207 & 4.892803 & 6\\\\\n",
       "\t 6 & M\\_6 & HMOX1 & PBS & PBS & NA & 24 &  0.36651641 & 4.876100 & 6\\\\\n",
       "\t 6 & M\\_6 & HMOX1 & PBS & PBS & NA & 24 & -0.09090465 & 4.853452 & 6\\\\\n",
       "\t 6 & M\\_6 & HMOX1 & PBS & PBS & NA & 24 & -0.37654696 & 4.839126 & 6\\\\\n",
       "\t 6 & M\\_6 & HMOX1 & PBS & PBS & NA & 24 &  0.72283828 & 4.893500 & 6\\\\\n",
       "\t 6 & M\\_6 & HMOX1 & PBS & PBS & NA & 24 &  0.37135970 & 4.876338 & 6\\\\\n",
       "\\end{tabular}\n"
      ],
      "text/markdown": [
       "\n",
       "A grouped_df: 6 × 10\n",
       "\n",
       "| Subject_No &lt;dbl&gt; | Subject_ID &lt;chr&gt; | mRNA &lt;chr&gt; | Condensate &lt;chr&gt; | Burn_Condition &lt;chr&gt; | Concentration &lt;chr&gt; | Time_Point &lt;dbl&gt; | ddCT &lt;dbl&gt; | ddCT_pslog2 &lt;dbl&gt; | Duplicate_Count &lt;int&gt; |\n",
       "|---|---|---|---|---|---|---|---|---|---|\n",
       "| 6 | M_6 | HMOX1 | PBS | PBS | NA | 24 |  0.70848207 | 4.892803 | 6 |\n",
       "| 6 | M_6 | HMOX1 | PBS | PBS | NA | 24 |  0.36651641 | 4.876100 | 6 |\n",
       "| 6 | M_6 | HMOX1 | PBS | PBS | NA | 24 | -0.09090465 | 4.853452 | 6 |\n",
       "| 6 | M_6 | HMOX1 | PBS | PBS | NA | 24 | -0.37654696 | 4.839126 | 6 |\n",
       "| 6 | M_6 | HMOX1 | PBS | PBS | NA | 24 |  0.72283828 | 4.893500 | 6 |\n",
       "| 6 | M_6 | HMOX1 | PBS | PBS | NA | 24 |  0.37135970 | 4.876338 | 6 |\n",
       "\n"
      ],
      "text/plain": [
       "  Subject_No Subject_ID mRNA  Condensate Burn_Condition Concentration\n",
       "1 6          M_6        HMOX1 PBS        PBS            NA           \n",
       "2 6          M_6        HMOX1 PBS        PBS            NA           \n",
       "3 6          M_6        HMOX1 PBS        PBS            NA           \n",
       "4 6          M_6        HMOX1 PBS        PBS            NA           \n",
       "5 6          M_6        HMOX1 PBS        PBS            NA           \n",
       "6 6          M_6        HMOX1 PBS        PBS            NA           \n",
       "  Time_Point ddCT        ddCT_pslog2 Duplicate_Count\n",
       "1 24          0.70848207 4.892803    6              \n",
       "2 24          0.36651641 4.876100    6              \n",
       "3 24         -0.09090465 4.853452    6              \n",
       "4 24         -0.37654696 4.839126    6              \n",
       "5 24          0.72283828 4.893500    6              \n",
       "6 24          0.37135970 4.876338    6              "
      ]
     },
     "metadata": {},
     "output_type": "display_data"
    }
   ],
   "source": [
    "# identifying the number of replicates for each sample condition\n",
    "count_mRNA_df = mRNA_df %>%\n",
    "    group_by(mRNA, Subject_ID, Condensate, Burn_Condition, Concentration, Time_Point) %>%\n",
    "    mutate(Duplicate_Count = n()) %>% \n",
    "    arrange(-Duplicate_Count) \n",
    "\n",
    "head(count_mRNA_df)"
   ]
  },
  {
   "cell_type": "code",
   "execution_count": 9,
   "id": "3f079a1f",
   "metadata": {},
   "outputs": [
    {
     "data": {
      "text/html": [
       "<table class=\"dataframe\">\n",
       "<caption>A grouped_df: 6 × 2</caption>\n",
       "<thead>\n",
       "\t<tr><th scope=col>Duplicate_Count</th><th scope=col>n</th></tr>\n",
       "\t<tr><th scope=col>&lt;int&gt;</th><th scope=col>&lt;int&gt;</th></tr>\n",
       "</thead>\n",
       "<tbody>\n",
       "\t<tr><td>6</td><td>   6</td></tr>\n",
       "\t<tr><td>5</td><td>  80</td></tr>\n",
       "\t<tr><td>4</td><td> 328</td></tr>\n",
       "\t<tr><td>3</td><td>  96</td></tr>\n",
       "\t<tr><td>2</td><td>1340</td></tr>\n",
       "\t<tr><td>1</td><td>2361</td></tr>\n",
       "</tbody>\n",
       "</table>\n"
      ],
      "text/latex": [
       "A grouped\\_df: 6 × 2\n",
       "\\begin{tabular}{ll}\n",
       " Duplicate\\_Count & n\\\\\n",
       " <int> & <int>\\\\\n",
       "\\hline\n",
       "\t 6 &    6\\\\\n",
       "\t 5 &   80\\\\\n",
       "\t 4 &  328\\\\\n",
       "\t 3 &   96\\\\\n",
       "\t 2 & 1340\\\\\n",
       "\t 1 & 2361\\\\\n",
       "\\end{tabular}\n"
      ],
      "text/markdown": [
       "\n",
       "A grouped_df: 6 × 2\n",
       "\n",
       "| Duplicate_Count &lt;int&gt; | n &lt;int&gt; |\n",
       "|---|---|\n",
       "| 6 |    6 |\n",
       "| 5 |   80 |\n",
       "| 4 |  328 |\n",
       "| 3 |   96 |\n",
       "| 2 | 1340 |\n",
       "| 1 | 2361 |\n",
       "\n"
      ],
      "text/plain": [
       "  Duplicate_Count n   \n",
       "1 6                  6\n",
       "2 5                 80\n",
       "3 4                328\n",
       "4 3                 96\n",
       "5 2               1340\n",
       "6 1               2361"
      ]
     },
     "metadata": {},
     "output_type": "display_data"
    }
   ],
   "source": [
    "replicate_count_df = count_mRNA_df %>%\n",
    "    group_by(Duplicate_Count) %>%\n",
    "    count() %>%\n",
    "    arrange(-Duplicate_Count) \n",
    "\n",
    "replicate_count_df"
   ]
  },
  {
   "cell_type": "code",
   "execution_count": 11,
   "id": "c36c470a",
   "metadata": {},
   "outputs": [
    {
     "data": {
      "text/html": [
       "<table class=\"dataframe\">\n",
       "<caption>A grouped_df: 6 × 10</caption>\n",
       "<thead>\n",
       "\t<tr><th scope=col>Subject_No</th><th scope=col>Subject_ID</th><th scope=col>mRNA</th><th scope=col>Condensate</th><th scope=col>Burn_Condition</th><th scope=col>Concentration</th><th scope=col>Time_Point</th><th scope=col>ddCT</th><th scope=col>ddCT_pslog2</th><th scope=col>Replicate</th></tr>\n",
       "\t<tr><th scope=col>&lt;dbl&gt;</th><th scope=col>&lt;chr&gt;</th><th scope=col>&lt;chr&gt;</th><th scope=col>&lt;chr&gt;</th><th scope=col>&lt;chr&gt;</th><th scope=col>&lt;chr&gt;</th><th scope=col>&lt;dbl&gt;</th><th scope=col>&lt;dbl&gt;</th><th scope=col>&lt;dbl&gt;</th><th scope=col>&lt;int&gt;</th></tr>\n",
       "</thead>\n",
       "<tbody>\n",
       "\t<tr><td>6</td><td>M_6</td><td>HMOX1</td><td>PBS</td><td>PBS</td><td>NA</td><td>24</td><td> 0.70848207</td><td>4.892803</td><td>1</td></tr>\n",
       "\t<tr><td>6</td><td>M_6</td><td>HMOX1</td><td>PBS</td><td>PBS</td><td>NA</td><td>24</td><td> 0.36651641</td><td>4.876100</td><td>2</td></tr>\n",
       "\t<tr><td>6</td><td>M_6</td><td>HMOX1</td><td>PBS</td><td>PBS</td><td>NA</td><td>24</td><td>-0.09090465</td><td>4.853452</td><td>3</td></tr>\n",
       "\t<tr><td>6</td><td>M_6</td><td>HMOX1</td><td>PBS</td><td>PBS</td><td>NA</td><td>24</td><td>-0.37654696</td><td>4.839126</td><td>4</td></tr>\n",
       "\t<tr><td>6</td><td>M_6</td><td>HMOX1</td><td>PBS</td><td>PBS</td><td>NA</td><td>24</td><td> 0.72283828</td><td>4.893500</td><td>5</td></tr>\n",
       "\t<tr><td>6</td><td>M_6</td><td>HMOX1</td><td>PBS</td><td>PBS</td><td>NA</td><td>24</td><td> 0.37135970</td><td>4.876338</td><td>6</td></tr>\n",
       "</tbody>\n",
       "</table>\n"
      ],
      "text/latex": [
       "A grouped\\_df: 6 × 10\n",
       "\\begin{tabular}{llllllllll}\n",
       " Subject\\_No & Subject\\_ID & mRNA & Condensate & Burn\\_Condition & Concentration & Time\\_Point & ddCT & ddCT\\_pslog2 & Replicate\\\\\n",
       " <dbl> & <chr> & <chr> & <chr> & <chr> & <chr> & <dbl> & <dbl> & <dbl> & <int>\\\\\n",
       "\\hline\n",
       "\t 6 & M\\_6 & HMOX1 & PBS & PBS & NA & 24 &  0.70848207 & 4.892803 & 1\\\\\n",
       "\t 6 & M\\_6 & HMOX1 & PBS & PBS & NA & 24 &  0.36651641 & 4.876100 & 2\\\\\n",
       "\t 6 & M\\_6 & HMOX1 & PBS & PBS & NA & 24 & -0.09090465 & 4.853452 & 3\\\\\n",
       "\t 6 & M\\_6 & HMOX1 & PBS & PBS & NA & 24 & -0.37654696 & 4.839126 & 4\\\\\n",
       "\t 6 & M\\_6 & HMOX1 & PBS & PBS & NA & 24 &  0.72283828 & 4.893500 & 5\\\\\n",
       "\t 6 & M\\_6 & HMOX1 & PBS & PBS & NA & 24 &  0.37135970 & 4.876338 & 6\\\\\n",
       "\\end{tabular}\n"
      ],
      "text/markdown": [
       "\n",
       "A grouped_df: 6 × 10\n",
       "\n",
       "| Subject_No &lt;dbl&gt; | Subject_ID &lt;chr&gt; | mRNA &lt;chr&gt; | Condensate &lt;chr&gt; | Burn_Condition &lt;chr&gt; | Concentration &lt;chr&gt; | Time_Point &lt;dbl&gt; | ddCT &lt;dbl&gt; | ddCT_pslog2 &lt;dbl&gt; | Replicate &lt;int&gt; |\n",
       "|---|---|---|---|---|---|---|---|---|---|\n",
       "| 6 | M_6 | HMOX1 | PBS | PBS | NA | 24 |  0.70848207 | 4.892803 | 1 |\n",
       "| 6 | M_6 | HMOX1 | PBS | PBS | NA | 24 |  0.36651641 | 4.876100 | 2 |\n",
       "| 6 | M_6 | HMOX1 | PBS | PBS | NA | 24 | -0.09090465 | 4.853452 | 3 |\n",
       "| 6 | M_6 | HMOX1 | PBS | PBS | NA | 24 | -0.37654696 | 4.839126 | 4 |\n",
       "| 6 | M_6 | HMOX1 | PBS | PBS | NA | 24 |  0.72283828 | 4.893500 | 5 |\n",
       "| 6 | M_6 | HMOX1 | PBS | PBS | NA | 24 |  0.37135970 | 4.876338 | 6 |\n",
       "\n"
      ],
      "text/plain": [
       "  Subject_No Subject_ID mRNA  Condensate Burn_Condition Concentration\n",
       "1 6          M_6        HMOX1 PBS        PBS            NA           \n",
       "2 6          M_6        HMOX1 PBS        PBS            NA           \n",
       "3 6          M_6        HMOX1 PBS        PBS            NA           \n",
       "4 6          M_6        HMOX1 PBS        PBS            NA           \n",
       "5 6          M_6        HMOX1 PBS        PBS            NA           \n",
       "6 6          M_6        HMOX1 PBS        PBS            NA           \n",
       "  Time_Point ddCT        ddCT_pslog2 Replicate\n",
       "1 24          0.70848207 4.892803    1        \n",
       "2 24          0.36651641 4.876100    2        \n",
       "3 24         -0.09090465 4.853452    3        \n",
       "4 24         -0.37654696 4.839126    4        \n",
       "5 24          0.72283828 4.893500    5        \n",
       "6 24          0.37135970 4.876338    6        "
      ]
     },
     "metadata": {},
     "output_type": "display_data"
    }
   ],
   "source": [
    "# creating a new column for replicate number\n",
    "replicate_vector = c()\n",
    "for (i in 1:length(replicate_count_df$n)){\n",
    "    # calculating number of times to repeat the replicate number from 1 to the count\n",
    "    replicate_count = replicate_count_df$n[i]/replicate_count_df$Duplicate_Count[i]\n",
    "    replicate_iteration = rep(1:replicate_count_df$Duplicate_Count[i], times = replicate_count)\n",
    "    \n",
    "    # saving iteration\n",
    "    replicate_vector = c(replicate_vector, replicate_iteration)\n",
    "    \n",
    "}\n",
    "\n",
    "# adding to df \n",
    "count_mRNA_df$Replicate = replicate_vector\n",
    "mRNA_df = count_mRNA_df %>%\n",
    "    select(-Duplicate_Count)\n",
    "\n",
    "head(mRNA_df)"
   ]
  },
  {
   "cell_type": "markdown",
   "id": "907de884",
   "metadata": {},
   "source": [
    "Removing variables"
   ]
  },
  {
   "cell_type": "code",
   "execution_count": 12,
   "id": "5491a7e8",
   "metadata": {},
   "outputs": [
    {
     "name": "stderr",
     "output_type": "stream",
     "text": [
      "\u001b[1m\u001b[22m`summarise()` has grouped output by 'mRNA', 'Condensate', 'Burn_Condition',\n",
      "'Concentration'. You can override using the `.groups` argument.\n"
     ]
    },
    {
     "data": {
      "text/html": [
       "<table class=\"dataframe\">\n",
       "<caption>A grouped_df: 6 × 6</caption>\n",
       "<thead>\n",
       "\t<tr><th scope=col>mRNA</th><th scope=col>Condensate</th><th scope=col>Burn_Condition</th><th scope=col>Concentration</th><th scope=col>Time_Point</th><th scope=col>Variable_Presence_Percent</th></tr>\n",
       "\t<tr><th scope=col>&lt;chr&gt;</th><th scope=col>&lt;chr&gt;</th><th scope=col>&lt;chr&gt;</th><th scope=col>&lt;chr&gt;</th><th scope=col>&lt;dbl&gt;</th><th scope=col>&lt;dbl&gt;</th></tr>\n",
       "</thead>\n",
       "<tbody>\n",
       "\t<tr><td>ALDH1A3</td><td>C</td><td>F</td><td>1 </td><td>24</td><td>100</td></tr>\n",
       "\t<tr><td>ALDH1A3</td><td>C</td><td>F</td><td>1 </td><td>72</td><td>100</td></tr>\n",
       "\t<tr><td>ALDH1A3</td><td>C</td><td>F</td><td>25</td><td> 4</td><td>100</td></tr>\n",
       "\t<tr><td>ALDH1A3</td><td>C</td><td>F</td><td>25</td><td>24</td><td>100</td></tr>\n",
       "\t<tr><td>ALDH1A3</td><td>C</td><td>F</td><td>25</td><td>72</td><td>100</td></tr>\n",
       "\t<tr><td>ALDH1A3</td><td>C</td><td>F</td><td>5 </td><td>24</td><td>100</td></tr>\n",
       "</tbody>\n",
       "</table>\n"
      ],
      "text/latex": [
       "A grouped\\_df: 6 × 6\n",
       "\\begin{tabular}{llllll}\n",
       " mRNA & Condensate & Burn\\_Condition & Concentration & Time\\_Point & Variable\\_Presence\\_Percent\\\\\n",
       " <chr> & <chr> & <chr> & <chr> & <dbl> & <dbl>\\\\\n",
       "\\hline\n",
       "\t ALDH1A3 & C & F & 1  & 24 & 100\\\\\n",
       "\t ALDH1A3 & C & F & 1  & 72 & 100\\\\\n",
       "\t ALDH1A3 & C & F & 25 &  4 & 100\\\\\n",
       "\t ALDH1A3 & C & F & 25 & 24 & 100\\\\\n",
       "\t ALDH1A3 & C & F & 25 & 72 & 100\\\\\n",
       "\t ALDH1A3 & C & F & 5  & 24 & 100\\\\\n",
       "\\end{tabular}\n"
      ],
      "text/markdown": [
       "\n",
       "A grouped_df: 6 × 6\n",
       "\n",
       "| mRNA &lt;chr&gt; | Condensate &lt;chr&gt; | Burn_Condition &lt;chr&gt; | Concentration &lt;chr&gt; | Time_Point &lt;dbl&gt; | Variable_Presence_Percent &lt;dbl&gt; |\n",
       "|---|---|---|---|---|---|\n",
       "| ALDH1A3 | C | F | 1  | 24 | 100 |\n",
       "| ALDH1A3 | C | F | 1  | 72 | 100 |\n",
       "| ALDH1A3 | C | F | 25 |  4 | 100 |\n",
       "| ALDH1A3 | C | F | 25 | 24 | 100 |\n",
       "| ALDH1A3 | C | F | 25 | 72 | 100 |\n",
       "| ALDH1A3 | C | F | 5  | 24 | 100 |\n",
       "\n"
      ],
      "text/plain": [
       "  mRNA    Condensate Burn_Condition Concentration Time_Point\n",
       "1 ALDH1A3 C          F              1             24        \n",
       "2 ALDH1A3 C          F              1             72        \n",
       "3 ALDH1A3 C          F              25             4        \n",
       "4 ALDH1A3 C          F              25            24        \n",
       "5 ALDH1A3 C          F              25            72        \n",
       "6 ALDH1A3 C          F              5             24        \n",
       "  Variable_Presence_Percent\n",
       "1 100                      \n",
       "2 100                      \n",
       "3 100                      \n",
       "4 100                      \n",
       "5 100                      \n",
       "6 100                      "
      ]
     },
     "metadata": {},
     "output_type": "display_data"
    }
   ],
   "source": [
    "# only keeping variables with at least 25% of data \n",
    "variable_presence_df = mRNA_df %>% \n",
    "    # creating 2 count cols: 1st for non-missing data, 2nd for all data\n",
    "    mutate(data_count = ifelse(is.na(ddCT_pslog2), 0, 1), all_count = 1) %>%\n",
    "    group_by(mRNA, Condensate, Burn_Condition, Concentration, Time_Point) %>%\n",
    "    summarize(Variable_Presence_Percent = sum(data_count)/ sum(all_count) * 100) %>%\n",
    "    arrange(Variable_Presence_Percent)\n",
    "\n",
    "head(variable_presence_df)"
   ]
  },
  {
   "cell_type": "code",
   "execution_count": null,
   "id": "254ceeef",
   "metadata": {},
   "outputs": [],
   "source": [
    "# # only keeping ids with at least 25% of data \n",
    "# variable_presence_df = mRNA_df %>% \n",
    "#     # creating 2 count cols: 1st for non-missing data, 2nd for all data\n",
    "#     mutate(data_count = ifelse(is.na(ddCT_pslog2), 0, 1), all_count = 1) %>%\n",
    "#     group_by(mRNA, Condensate, Burn_Condition, Concentration, Time_Point) %>%\n",
    "#     summarize(Variable_Presence_Percent = sum(data_count)/ sum(all_count) * 100) %>%\n",
    "#     arrange(Variable_Presence_Percent)\n",
    "\n",
    "# head(variable_presence_df)"
   ]
  },
  {
   "cell_type": "markdown",
   "id": "1c99e2cf",
   "metadata": {},
   "source": [
    "# QRILC Imputation"
   ]
  },
  {
   "cell_type": "code",
   "execution_count": null,
   "id": "9b5f0042",
   "metadata": {},
   "outputs": [],
   "source": []
  }
 ],
 "metadata": {
  "kernelspec": {
   "display_name": "R",
   "language": "R",
   "name": "ir"
  },
  "language_info": {
   "codemirror_mode": "r",
   "file_extension": ".r",
   "mimetype": "text/x-r-source",
   "name": "R",
   "pygments_lexer": "r",
   "version": "4.1.3"
  }
 },
 "nbformat": 4,
 "nbformat_minor": 5
}
